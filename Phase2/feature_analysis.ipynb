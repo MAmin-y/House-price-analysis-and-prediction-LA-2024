{
 "cells": [
  {
   "cell_type": "code",
   "execution_count": 25,
   "metadata": {},
   "outputs": [],
   "source": [
    "import pandas as pd \n",
    "\n",
    "import pandas as pd \n",
    "\n",
    "df = pd.read_csv('../data/scaled_data.csv')\n",
    "df_2 = pd.read_csv('../data/not_scaled_data.csv')\n",
    "df_3 = pd.read_csv('../data/pca_data.csv')\n",
    "df_4 = pd.read_csv('../data/pca_data_linear.csv')"
   ]
  },
  {
   "cell_type": "code",
   "execution_count": 26,
   "metadata": {},
   "outputs": [],
   "source": [
    "from sklearn.model_selection import train_test_split\n",
    "from sklearn.linear_model import LinearRegression\n",
    "from sklearn.metrics import mean_absolute_error, r2_score\n",
    "\n",
    "def linear_regression(features, target):\n",
    "    X_train, X_test, y_train, y_test = train_test_split(features, target, test_size=0.2, random_state=42)\n",
    "    lr_model = LinearRegression()\n",
    "    lr_model.fit(X_train, y_train)\n",
    "    y_pred = lr_model.predict(X_test)\n",
    "    mse = mean_absolute_error(y_test, y_pred)\n",
    "    r2 = r2_score(y_test, y_pred)\n",
    "\n",
    "    print(f'Mean Absolute Error: {mse}')\n",
    "    print(f'R^2 Score: {r2}')"
   ]
  },
  {
   "cell_type": "code",
   "execution_count": 27,
   "metadata": {},
   "outputs": [
    {
     "name": "stdout",
     "output_type": "stream",
     "text": [
      "Mean Absolute Error: 0.2161921739264008\n",
      "R^2 Score: 0.9204976986740294\n"
     ]
    }
   ],
   "source": [
    "target = df['log_price']\n",
    "linear_regression(df_3, target)"
   ]
  },
  {
   "cell_type": "code",
   "execution_count": 28,
   "metadata": {},
   "outputs": [
    {
     "name": "stdout",
     "output_type": "stream",
     "text": [
      "Mean Absolute Error: 0.11138355204430435\n",
      "R^2 Score: 0.9650082049176187\n"
     ]
    }
   ],
   "source": [
    "target = df['price']\n",
    "linear_regression(df_3, target)"
   ]
  },
  {
   "cell_type": "code",
   "execution_count": 29,
   "metadata": {},
   "outputs": [
    {
     "name": "stdout",
     "output_type": "stream",
     "text": [
      "Mean Absolute Error: 0.05916341218468663\n",
      "R^2 Score: 0.9204976986740295\n"
     ]
    }
   ],
   "source": [
    "target = df_2['log_price']\n",
    "linear_regression(df_3, target)"
   ]
  },
  {
   "cell_type": "code",
   "execution_count": 30,
   "metadata": {},
   "outputs": [
    {
     "name": "stdout",
     "output_type": "stream",
     "text": [
      "Mean Absolute Error: 158050.55933891694\n",
      "R^2 Score: 0.9650082049176187\n"
     ]
    }
   ],
   "source": [
    "target = df_2['price']\n",
    "linear_regression(df_3, target)"
   ]
  },
  {
   "cell_type": "code",
   "execution_count": 31,
   "metadata": {},
   "outputs": [
    {
     "name": "stdout",
     "output_type": "stream",
     "text": [
      "Mean Absolute Error: 331384.7643351936\n",
      "R^2 Score: 0.853611164247424\n"
     ]
    }
   ],
   "source": [
    "target = df_2['price']\n",
    "linear_regression(df_4, target)"
   ]
  }
 ],
 "metadata": {
  "kernelspec": {
   "display_name": "Python 3",
   "language": "python",
   "name": "python3"
  },
  "language_info": {
   "codemirror_mode": {
    "name": "ipython",
    "version": 3
   },
   "file_extension": ".py",
   "mimetype": "text/x-python",
   "name": "python",
   "nbconvert_exporter": "python",
   "pygments_lexer": "ipython3",
   "version": "3.11.4"
  }
 },
 "nbformat": 4,
 "nbformat_minor": 2
}

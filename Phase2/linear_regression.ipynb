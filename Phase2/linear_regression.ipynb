{
 "cells": [
  {
   "cell_type": "code",
   "execution_count": 13,
   "metadata": {},
   "outputs": [],
   "source": [
    "import pandas as pd \n",
    "\n",
    "df = pd.read_csv('../data/scaled_data.csv')\n",
    "df_2 = pd.read_csv('../data/not_scaled_data.csv')"
   ]
  },
  {
   "cell_type": "code",
   "execution_count": 14,
   "metadata": {},
   "outputs": [],
   "source": [
    "from sklearn.model_selection import train_test_split\n",
    "from sklearn.linear_model import LinearRegression\n",
    "from sklearn.metrics import mean_absolute_error, r2_score\n",
    "\n",
    "def linear_regression(features, target):\n",
    "    X_train, X_test, y_train, y_test = train_test_split(features, target, test_size=0.2, random_state=42)\n",
    "    lr_model = LinearRegression()\n",
    "    lr_model.fit(X_train, y_train)\n",
    "    y_pred = lr_model.predict(X_test)\n",
    "    mse = mean_absolute_error(y_test, y_pred)\n",
    "    r2 = r2_score(y_test, y_pred)\n",
    "\n",
    "    print(f'Mean Absolute Error: {mse}')\n",
    "    print(f'R^2 Score: {r2}')"
   ]
  },
  {
   "cell_type": "code",
   "execution_count": 15,
   "metadata": {},
   "outputs": [
    {
     "name": "stdout",
     "output_type": "stream",
     "text": [
      "Mean Absolute Error: 0.35182530542937984\n",
      "R^2 Score: 0.7985414213357609\n"
     ]
    }
   ],
   "source": [
    "features = df.drop(columns=['price', 'log_taxAssessedValue', 'log_price', 'taxAssessedValue'])\n",
    "target = df['log_price']\n",
    "linear_regression(features, target)"
   ]
  },
  {
   "cell_type": "code",
   "execution_count": 16,
   "metadata": {},
   "outputs": [
    {
     "name": "stdout",
     "output_type": "stream",
     "text": [
      "Mean Absolute Error: 0.17732930413661227\n",
      "R^2 Score: 0.9098438656292889\n"
     ]
    }
   ],
   "source": [
    "features = df.drop(columns=['price', 'log_taxAssessedValue', 'log_price', 'taxAssessedValue'])\n",
    "target = df['price']\n",
    "linear_regression(features, target)"
   ]
  },
  {
   "cell_type": "code",
   "execution_count": 17,
   "metadata": {},
   "outputs": [
    {
     "name": "stdout",
     "output_type": "stream",
     "text": [
      "Mean Absolute Error: 0.0962809392406987\n",
      "R^2 Score: 0.7985414213357597\n"
     ]
    }
   ],
   "source": [
    "features = df_2.drop(columns=['price', 'log_taxAssessedValue', 'log_price', 'taxAssessedValue'])\n",
    "target = df_2['log_price']\n",
    "linear_regression(features, target)\n"
   ]
  },
  {
   "cell_type": "code",
   "execution_count": 18,
   "metadata": {},
   "outputs": [
    {
     "name": "stdout",
     "output_type": "stream",
     "text": [
      "Mean Absolute Error: 251625.9823966121\n",
      "R^2 Score: 0.9098438656292898\n"
     ]
    }
   ],
   "source": [
    "features = df_2.drop(columns=['price', 'log_taxAssessedValue', 'log_price', 'taxAssessedValue'])\n",
    "target = df_2['price']\n",
    "linear_regression(features, target)"
   ]
  }
 ],
 "metadata": {
  "kernelspec": {
   "display_name": "Python 3",
   "language": "python",
   "name": "python3"
  },
  "language_info": {
   "codemirror_mode": {
    "name": "ipython",
    "version": 3
   },
   "file_extension": ".py",
   "mimetype": "text/x-python",
   "name": "python",
   "nbconvert_exporter": "python",
   "pygments_lexer": "ipython3",
   "version": "3.11.4"
  }
 },
 "nbformat": 4,
 "nbformat_minor": 2
}

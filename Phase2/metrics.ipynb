{
 "cells": [
  {
   "cell_type": "markdown",
   "metadata": {},
   "source": [
    "## Evaluation Metrics"
   ]
  },
  {
   "cell_type": "markdown",
   "metadata": {},
   "source": [
    "In this part we will introduce the evaluation metrics used in our models. We used several metrics to see how they can give us different insights about the performance of our models and we came to this conclusion:\n",
    "\n",
    "- **R2 Score**: This metric is mostly used when we don't the scale of the target variable. It is a good metric to see how well our model is performing compared to a simple model that predicts the mean of the target variable. The problem was we got a very high R2 score for all of our models and the reason is that the mean squared error when we predict the mean of the target variable is very high so even if our model is not performing well, the R2 score will be high. \n",
    "\n",
    "$$ R^2 = 1 - \\frac{MSE_{model}}{MSE_{mean}} = 1 - \\frac{\\sum_{i=1}^{n} (y_i - \\hat{y}_i)^2}{\\sum_{i=1}^{n} (y_i - \\bar{y})^2} $$\n",
    "\n",
    "We check the RMSE of the mean model to illustrate this point:"
   ]
  },
  {
   "cell_type": "code",
   "execution_count": 13,
   "metadata": {},
   "outputs": [
    {
     "name": "stdout",
     "output_type": "stream",
     "text": [
      "Root Mean Squared Error when we guess the mean: 1418975.7503518122\n"
     ]
    }
   ],
   "source": [
    "import pandas as pd \n",
    "import numpy as np\n",
    "from sklearn.metrics import mean_squared_error, r2_score\n",
    "\n",
    "df = pd.read_csv('../data/not_scaled_data.csv')\n",
    "\n",
    "y_true = df['price']\n",
    "y_pred = [df['price'].mean()]*len(df['price'])\n",
    "\n",
    "print('Root Mean Squared Error when we guess the mean:', np.sqrt(mean_squared_error(y_true, y_pred)))"
   ]
  },
  {
   "cell_type": "code",
   "execution_count": 15,
   "metadata": {},
   "outputs": [
    {
     "name": "stdout",
     "output_type": "stream",
     "text": [
      "Root Mean Squared Error when we guess the mean: 0.273661211274132\n"
     ]
    }
   ],
   "source": [
    "import pandas as pd \n",
    "import numpy as np\n",
    "from sklearn.metrics import mean_squared_error, r2_score\n",
    "\n",
    "df = pd.read_csv('../data/not_scaled_data.csv')\n",
    "\n",
    "y_true = df['log_price']\n",
    "y_pred = [df['log_price'].mean()]*len(df['log_price'])\n",
    "\n",
    "print('Root Mean Squared Error when we guess the mean:', np.sqrt(mean_squared_error(y_true, y_pred)))"
   ]
  },
  {
   "cell_type": "markdown",
   "metadata": {},
   "source": [
    "As you can see the RMSE for `price` is 1.418 Millions and for `log_price` is 0.27 which is very high and this is why the R2 score is very high for all of our models."
   ]
  },
  {
   "cell_type": "markdown",
   "metadata": {},
   "source": [
    "* **Root Mean Squared Error (RMSE), Mean Absolute Error and Median Absolute Error**: We report these metrics to see how much error our model is making in predicting the target variable. The difference between RMSE and Mean Absolute Error tells us if we predicted some of the prices very badly compared to the rest of the prices. The Median Absolute Error is also good to see when our model predict so badly on some few prices but in general it's better."
   ]
  },
  {
   "cell_type": "markdown",
   "metadata": {},
   "source": [
    "* **Mean Absolute Percentage Error and Median Absolute Percentage Error**: These metrics are good to see how much percentage error our model is making in predicting the target variable. Because if we have an error of 10000 on a house that costs 100000 it's not the same as having an error of 10000 on a house that costs 1000000 but the previous metrics will treat them the same. Again we use both mean and median to see if our model is making a big error on some few prices.\n",
    "\n",
    "$$ MAPE = \\frac{1}{n} \\sum_{i=1}^{n} \\frac{|y_i - \\hat{y}_i|}{y_i} $$\n",
    "\n",
    "* **Within x%**: This metric is used to see how many of our predictions are within a certain percentage of the actual price. This is a good metric to see how well our model is performing in general. Zillow itself uses this metric alongside Median Absolute Percentage Error to evaluate the performance of the models.([see this for more information](https://www.zillow.com/tech/home-value-estimates/))"
   ]
  },
  {
   "cell_type": "markdown",
   "metadata": {},
   "source": [
    "Now that we defined the metrics we will use, We implement some functions to show these metrics for our models.\n",
    "\n",
    "`show_metrics` function gets the predictions and the actual values and if the target variable is `price` or `log_price` and if the target variable was scaled or not and it will show the metrics we defined above in a neat dataframe. So now we can use it for all of our models to see how they are performing."
   ]
  },
  {
   "cell_type": "code",
   "execution_count": 20,
   "metadata": {},
   "outputs": [],
   "source": [
    "from sklearn import metrics\n",
    "import numpy as np\n",
    "\n",
    "def calc_median_absolute_percentage_error(y_true, y_pred):\n",
    "    return np.median(np.abs((y_true - y_pred) / y_true)) * 100\n",
    "\n",
    "def calculate_metrics(y_pred, y_test):\n",
    "    r2 = metrics.r2_score(y_test, y_pred)\n",
    "    smse = np.sqrt(metrics.mean_squared_error(y_test, y_pred))\n",
    "    mean_ae = metrics.mean_absolute_error(y_test, y_pred)\n",
    "    mean_ape = metrics.mean_absolute_percentage_error(y_test, y_pred)\n",
    "    median_ae = metrics.median_absolute_error(y_test, y_pred)\n",
    "    median_ape = calc_median_absolute_percentage_error(y_test, y_pred)\n",
    "    return [r2, smse, mean_ae, mean_ape, median_ae, median_ape]\n",
    "    \n",
    "def within_x_percent(y_pred, y_test, x):\n",
    "    return np.sum(np.abs((y_pred - y_test)/y_test) < x) / len(y_test) * 100\n",
    "\n",
    "def show_metrics(y_pred, y_test, target_scaler = None, logarithm = False):        \n",
    "    metrics_df = pd.DataFrame(columns=['Target', 'R2', 'Root Mean Squared Error', 'Mean Absolute Error',\n",
    "                                            'Mean Absolute Percentage Error', 'Median Absolute Error', 'Median Absolute Percentage Error'])\n",
    "    \n",
    "    metrics_df.loc[0] = ['Target as it is'] + calculate_metrics(y_pred, y_test)\n",
    "    \n",
    "    if target_scaler:\n",
    "        y_pred = target_scaler.inverse_transform(y_pred.reshape(-1, 1)).flatten()\n",
    "        y_test = target_scaler.inverse_transform(y_test.reshape(-1, 1)).flatten()\n",
    "        metrics_df.loc[1] = ['Scaled Target is inversed to real value'] + calculate_metrics(y_pred, y_test)\n",
    "\n",
    "    \n",
    "    if logarithm:\n",
    "        y_pred = np.power(10, y_pred)\n",
    "        y_test = np.power(10, y_test)\n",
    "        metrics_df.loc[2] = ['Target -> 10 ^ Target'] + calculate_metrics(y_pred, y_test)\n",
    "    \n",
    "    dist_df = pd.DataFrame({\"within 5%\": [within_x_percent(y_pred, y_test, 0.05)],\n",
    "                    \"within 10%\": [within_x_percent(y_pred, y_test, 0.10)],\n",
    "                    \"within 20%\": [within_x_percent(y_pred, y_test, 0.20)],\n",
    "                    \"within 50%\": [within_x_percent(y_pred, y_test, 0.50)],\n",
    "                    \"median absolute percentage error\": [calc_median_absolute_percentage_error(y_test, y_pred)]}, index=['Percentage'])\n",
    "        \n",
    "    display(metrics_df)\n",
    "    display(dist_df)"
   ]
  },
  {
   "cell_type": "markdown",
   "metadata": {},
   "source": [
    "For example we check the metrics for the mean model:"
   ]
  },
  {
   "cell_type": "code",
   "execution_count": 21,
   "metadata": {},
   "outputs": [
    {
     "data": {
      "text/html": [
       "<div>\n",
       "<style scoped>\n",
       "    .dataframe tbody tr th:only-of-type {\n",
       "        vertical-align: middle;\n",
       "    }\n",
       "\n",
       "    .dataframe tbody tr th {\n",
       "        vertical-align: top;\n",
       "    }\n",
       "\n",
       "    .dataframe thead th {\n",
       "        text-align: right;\n",
       "    }\n",
       "</style>\n",
       "<table border=\"1\" class=\"dataframe\">\n",
       "  <thead>\n",
       "    <tr style=\"text-align: right;\">\n",
       "      <th></th>\n",
       "      <th>Target</th>\n",
       "      <th>R2</th>\n",
       "      <th>Root Mean Squared Error</th>\n",
       "      <th>Mean Absolute Error</th>\n",
       "      <th>Mean Absolute Percentage Error</th>\n",
       "      <th>Median Absolute Error</th>\n",
       "      <th>Median Absolute Percentage Error</th>\n",
       "    </tr>\n",
       "  </thead>\n",
       "  <tbody>\n",
       "    <tr>\n",
       "      <th>0</th>\n",
       "      <td>Target as it is</td>\n",
       "      <td>0.0</td>\n",
       "      <td>1.418976e+06</td>\n",
       "      <td>777313.945594</td>\n",
       "      <td>0.731953</td>\n",
       "      <td>591309.636114</td>\n",
       "      <td>53.955122</td>\n",
       "    </tr>\n",
       "  </tbody>\n",
       "</table>\n",
       "</div>"
      ],
      "text/plain": [
       "            Target   R2  Root Mean Squared Error  Mean Absolute Error  \\\n",
       "0  Target as it is  0.0             1.418976e+06        777313.945594   \n",
       "\n",
       "   Mean Absolute Percentage Error  Median Absolute Error  \\\n",
       "0                        0.731953          591309.636114   \n",
       "\n",
       "   Median Absolute Percentage Error  \n",
       "0                         53.955122  "
      ]
     },
     "metadata": {},
     "output_type": "display_data"
    },
    {
     "data": {
      "text/html": [
       "<div>\n",
       "<style scoped>\n",
       "    .dataframe tbody tr th:only-of-type {\n",
       "        vertical-align: middle;\n",
       "    }\n",
       "\n",
       "    .dataframe tbody tr th {\n",
       "        vertical-align: top;\n",
       "    }\n",
       "\n",
       "    .dataframe thead th {\n",
       "        text-align: right;\n",
       "    }\n",
       "</style>\n",
       "<table border=\"1\" class=\"dataframe\">\n",
       "  <thead>\n",
       "    <tr style=\"text-align: right;\">\n",
       "      <th></th>\n",
       "      <th>within 5%</th>\n",
       "      <th>within 10%</th>\n",
       "      <th>within 20%</th>\n",
       "      <th>within 50%</th>\n",
       "      <th>median absolute percentage error</th>\n",
       "    </tr>\n",
       "  </thead>\n",
       "  <tbody>\n",
       "    <tr>\n",
       "      <th>Percentage</th>\n",
       "      <td>5.00528</td>\n",
       "      <td>10.200634</td>\n",
       "      <td>20.95037</td>\n",
       "      <td>46.504752</td>\n",
       "      <td>53.955122</td>\n",
       "    </tr>\n",
       "  </tbody>\n",
       "</table>\n",
       "</div>"
      ],
      "text/plain": [
       "            within 5%  within 10%  within 20%  within 50%  \\\n",
       "Percentage    5.00528   10.200634    20.95037   46.504752   \n",
       "\n",
       "            median absolute percentage error  \n",
       "Percentage                         53.955122  "
      ]
     },
     "metadata": {},
     "output_type": "display_data"
    }
   ],
   "source": [
    "y_true = df['price']\n",
    "y_pred = [df['price'].mean()]*len(df['price'])\n",
    "\n",
    "show_metrics(y_pred, y_true)"
   ]
  },
  {
   "cell_type": "code",
   "execution_count": 22,
   "metadata": {},
   "outputs": [
    {
     "data": {
      "text/html": [
       "<div>\n",
       "<style scoped>\n",
       "    .dataframe tbody tr th:only-of-type {\n",
       "        vertical-align: middle;\n",
       "    }\n",
       "\n",
       "    .dataframe tbody tr th {\n",
       "        vertical-align: top;\n",
       "    }\n",
       "\n",
       "    .dataframe thead th {\n",
       "        text-align: right;\n",
       "    }\n",
       "</style>\n",
       "<table border=\"1\" class=\"dataframe\">\n",
       "  <thead>\n",
       "    <tr style=\"text-align: right;\">\n",
       "      <th></th>\n",
       "      <th>Target</th>\n",
       "      <th>R2</th>\n",
       "      <th>Root Mean Squared Error</th>\n",
       "      <th>Mean Absolute Error</th>\n",
       "      <th>Mean Absolute Percentage Error</th>\n",
       "      <th>Median Absolute Error</th>\n",
       "      <th>Median Absolute Percentage Error</th>\n",
       "    </tr>\n",
       "  </thead>\n",
       "  <tbody>\n",
       "    <tr>\n",
       "      <th>0</th>\n",
       "      <td>Target as it is</td>\n",
       "      <td>0.000000</td>\n",
       "      <td>2.736612e-01</td>\n",
       "      <td>0.211149</td>\n",
       "      <td>0.034711</td>\n",
       "      <td>0.171059</td>\n",
       "      <td>2.836147</td>\n",
       "    </tr>\n",
       "    <tr>\n",
       "      <th>2</th>\n",
       "      <td>Target -&gt; 10 ^ Target</td>\n",
       "      <td>-0.043476</td>\n",
       "      <td>1.449493e+06</td>\n",
       "      <td>698940.744615</td>\n",
       "      <td>0.524995</td>\n",
       "      <td>392820.836690</td>\n",
       "      <td>39.847522</td>\n",
       "    </tr>\n",
       "  </tbody>\n",
       "</table>\n",
       "</div>"
      ],
      "text/plain": [
       "                  Target        R2  Root Mean Squared Error  \\\n",
       "0        Target as it is  0.000000             2.736612e-01   \n",
       "2  Target -> 10 ^ Target -0.043476             1.449493e+06   \n",
       "\n",
       "   Mean Absolute Error  Mean Absolute Percentage Error  Median Absolute Error  \\\n",
       "0             0.211149                        0.034711               0.171059   \n",
       "2        698940.744615                        0.524995          392820.836690   \n",
       "\n",
       "   Median Absolute Percentage Error  \n",
       "0                          2.836147  \n",
       "2                         39.847522  "
      ]
     },
     "metadata": {},
     "output_type": "display_data"
    },
    {
     "data": {
      "text/html": [
       "<div>\n",
       "<style scoped>\n",
       "    .dataframe tbody tr th:only-of-type {\n",
       "        vertical-align: middle;\n",
       "    }\n",
       "\n",
       "    .dataframe tbody tr th {\n",
       "        vertical-align: top;\n",
       "    }\n",
       "\n",
       "    .dataframe thead th {\n",
       "        text-align: right;\n",
       "    }\n",
       "</style>\n",
       "<table border=\"1\" class=\"dataframe\">\n",
       "  <thead>\n",
       "    <tr style=\"text-align: right;\">\n",
       "      <th></th>\n",
       "      <th>within 5%</th>\n",
       "      <th>within 10%</th>\n",
       "      <th>within 20%</th>\n",
       "      <th>within 50%</th>\n",
       "      <th>median absolute percentage error</th>\n",
       "    </tr>\n",
       "  </thead>\n",
       "  <tbody>\n",
       "    <tr>\n",
       "      <th>Percentage</th>\n",
       "      <td>5.871172</td>\n",
       "      <td>11.784583</td>\n",
       "      <td>24.920803</td>\n",
       "      <td>60.443506</td>\n",
       "      <td>39.847522</td>\n",
       "    </tr>\n",
       "  </tbody>\n",
       "</table>\n",
       "</div>"
      ],
      "text/plain": [
       "            within 5%  within 10%  within 20%  within 50%  \\\n",
       "Percentage   5.871172   11.784583   24.920803   60.443506   \n",
       "\n",
       "            median absolute percentage error  \n",
       "Percentage                         39.847522  "
      ]
     },
     "metadata": {},
     "output_type": "display_data"
    }
   ],
   "source": [
    "y_true = df['log_price']\n",
    "y_pred = [df['log_price'].mean()]*len(df['log_price'])\n",
    "\n",
    "show_metrics(y_pred, y_true, logarithm=True)"
   ]
  },
  {
   "cell_type": "markdown",
   "metadata": {},
   "source": [
    "The interesting thing is when we use `log_price` and use the mean model we get MAPE for price than when we use the actual price as the target variable. This shows that the feature engineering we did on the target variable can be helpful."
   ]
  }
 ],
 "metadata": {
  "kernelspec": {
   "display_name": "Python 3",
   "language": "python",
   "name": "python3"
  },
  "language_info": {
   "codemirror_mode": {
    "name": "ipython",
    "version": 3
   },
   "file_extension": ".py",
   "mimetype": "text/x-python",
   "name": "python",
   "nbconvert_exporter": "python",
   "pygments_lexer": "ipython3",
   "version": "3.10.6"
  }
 },
 "nbformat": 4,
 "nbformat_minor": 2
}

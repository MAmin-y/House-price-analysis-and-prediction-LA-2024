{
 "cells": [
  {
   "cell_type": "code",
   "execution_count": 1,
   "metadata": {},
   "outputs": [],
   "source": [
    "import pandas as pd  \n",
    "\n",
    "df = pd.read_csv(\"data_without_price_outliers.csv\")"
   ]
  },
  {
   "cell_type": "code",
   "execution_count": 2,
   "metadata": {},
   "outputs": [
    {
     "data": {
      "text/html": [
       "<div>\n",
       "<style scoped>\n",
       "    .dataframe tbody tr th:only-of-type {\n",
       "        vertical-align: middle;\n",
       "    }\n",
       "\n",
       "    .dataframe tbody tr th {\n",
       "        vertical-align: top;\n",
       "    }\n",
       "\n",
       "    .dataframe thead th {\n",
       "        text-align: right;\n",
       "    }\n",
       "</style>\n",
       "<table border=\"1\" class=\"dataframe\">\n",
       "  <thead>\n",
       "    <tr style=\"text-align: right;\">\n",
       "      <th></th>\n",
       "      <th>zipcode</th>\n",
       "      <th>streetAddress</th>\n",
       "      <th>homeType</th>\n",
       "      <th>yearBuilt</th>\n",
       "      <th>lotAreaValue</th>\n",
       "      <th>livingAreaValue</th>\n",
       "      <th>bedrooms</th>\n",
       "      <th>bathrooms</th>\n",
       "      <th>stories</th>\n",
       "      <th>flooring</th>\n",
       "      <th>...</th>\n",
       "      <th>hasCooling</th>\n",
       "      <th>hasHeating</th>\n",
       "      <th>hasFireplace</th>\n",
       "      <th>hasPrivatePool</th>\n",
       "      <th>hasSpa</th>\n",
       "      <th>hasView</th>\n",
       "      <th>log_lotAreaValue</th>\n",
       "      <th>log_livingAreaValue</th>\n",
       "      <th>log_price</th>\n",
       "      <th>log_taxAssessedValue</th>\n",
       "    </tr>\n",
       "  </thead>\n",
       "  <tbody>\n",
       "    <tr>\n",
       "      <th>0</th>\n",
       "      <td>90210</td>\n",
       "      <td>10100 Angelo Cir</td>\n",
       "      <td>SINGLE_FAMILY</td>\n",
       "      <td>2009</td>\n",
       "      <td>1041.815612</td>\n",
       "      <td>596.901775</td>\n",
       "      <td>5</td>\n",
       "      <td>7.0</td>\n",
       "      <td>1.0</td>\n",
       "      <td>['Tile']</td>\n",
       "      <td>...</td>\n",
       "      <td>1</td>\n",
       "      <td>1</td>\n",
       "      <td>1</td>\n",
       "      <td>0</td>\n",
       "      <td>0</td>\n",
       "      <td>1</td>\n",
       "      <td>3.017791</td>\n",
       "      <td>2.775903</td>\n",
       "      <td>4.556303</td>\n",
       "      <td>6.839742</td>\n",
       "    </tr>\n",
       "    <tr>\n",
       "      <th>1</th>\n",
       "      <td>90044</td>\n",
       "      <td>948 W 61st St</td>\n",
       "      <td>MULTI_FAMILY</td>\n",
       "      <td>2008</td>\n",
       "      <td>483.281406</td>\n",
       "      <td>78.410132</td>\n",
       "      <td>2</td>\n",
       "      <td>1.0</td>\n",
       "      <td>1.0</td>\n",
       "      <td>[]</td>\n",
       "      <td>...</td>\n",
       "      <td>0</td>\n",
       "      <td>0</td>\n",
       "      <td>0</td>\n",
       "      <td>0</td>\n",
       "      <td>0</td>\n",
       "      <td>0</td>\n",
       "      <td>2.684200</td>\n",
       "      <td>1.894372</td>\n",
       "      <td>4.648360</td>\n",
       "      <td>5.958711</td>\n",
       "    </tr>\n",
       "    <tr>\n",
       "      <th>2</th>\n",
       "      <td>91352</td>\n",
       "      <td>10159 Colwell Dr</td>\n",
       "      <td>SINGLE_FAMILY</td>\n",
       "      <td>1943</td>\n",
       "      <td>535.957407</td>\n",
       "      <td>107.210062</td>\n",
       "      <td>3</td>\n",
       "      <td>1.0</td>\n",
       "      <td>1.0</td>\n",
       "      <td>['Carpet', 'Vinyl', 'Wood']</td>\n",
       "      <td>...</td>\n",
       "      <td>0</td>\n",
       "      <td>1</td>\n",
       "      <td>0</td>\n",
       "      <td>0</td>\n",
       "      <td>0</td>\n",
       "      <td>1</td>\n",
       "      <td>2.729130</td>\n",
       "      <td>2.030236</td>\n",
       "      <td>5.093422</td>\n",
       "      <td>5.856789</td>\n",
       "    </tr>\n",
       "    <tr>\n",
       "      <th>3</th>\n",
       "      <td>91605</td>\n",
       "      <td>8250 Lankershim Blvd</td>\n",
       "      <td>MANUFACTURED</td>\n",
       "      <td>1990</td>\n",
       "      <td>111.483600</td>\n",
       "      <td>69.677250</td>\n",
       "      <td>2</td>\n",
       "      <td>2.0</td>\n",
       "      <td>1.0</td>\n",
       "      <td>['Laminate']</td>\n",
       "      <td>...</td>\n",
       "      <td>1</td>\n",
       "      <td>1</td>\n",
       "      <td>0</td>\n",
       "      <td>0</td>\n",
       "      <td>1</td>\n",
       "      <td>1</td>\n",
       "      <td>2.047211</td>\n",
       "      <td>1.843091</td>\n",
       "      <td>5.130334</td>\n",
       "      <td>4.251881</td>\n",
       "    </tr>\n",
       "    <tr>\n",
       "      <th>4</th>\n",
       "      <td>91304</td>\n",
       "      <td>8811 Canoga Ave SPACE 535</td>\n",
       "      <td>MANUFACTURED</td>\n",
       "      <td>1971</td>\n",
       "      <td>82058.180220</td>\n",
       "      <td>124.861632</td>\n",
       "      <td>2</td>\n",
       "      <td>2.0</td>\n",
       "      <td>1.0</td>\n",
       "      <td>[]</td>\n",
       "      <td>...</td>\n",
       "      <td>1</td>\n",
       "      <td>1</td>\n",
       "      <td>0</td>\n",
       "      <td>0</td>\n",
       "      <td>0</td>\n",
       "      <td>1</td>\n",
       "      <td>4.914122</td>\n",
       "      <td>2.096429</td>\n",
       "      <td>4.929419</td>\n",
       "      <td>5.425520</td>\n",
       "    </tr>\n",
       "  </tbody>\n",
       "</table>\n",
       "<p>5 rows × 29 columns</p>\n",
       "</div>"
      ],
      "text/plain": [
       "   zipcode              streetAddress       homeType  yearBuilt  lotAreaValue  \\\n",
       "0    90210           10100 Angelo Cir  SINGLE_FAMILY       2009   1041.815612   \n",
       "1    90044              948 W 61st St   MULTI_FAMILY       2008    483.281406   \n",
       "2    91352           10159 Colwell Dr  SINGLE_FAMILY       1943    535.957407   \n",
       "3    91605       8250 Lankershim Blvd   MANUFACTURED       1990    111.483600   \n",
       "4    91304  8811 Canoga Ave SPACE 535   MANUFACTURED       1971  82058.180220   \n",
       "\n",
       "   livingAreaValue  bedrooms  bathrooms  stories                     flooring  \\\n",
       "0       596.901775         5        7.0      1.0                     ['Tile']   \n",
       "1        78.410132         2        1.0      1.0                           []   \n",
       "2       107.210062         3        1.0      1.0  ['Carpet', 'Vinyl', 'Wood']   \n",
       "3        69.677250         2        2.0      1.0                 ['Laminate']   \n",
       "4       124.861632         2        2.0      1.0                           []   \n",
       "\n",
       "   ... hasCooling hasHeating  hasFireplace  hasPrivatePool  hasSpa  hasView  \\\n",
       "0  ...          1          1             1               0       0        1   \n",
       "1  ...          0          0             0               0       0        0   \n",
       "2  ...          0          1             0               0       0        1   \n",
       "3  ...          1          1             0               0       1        1   \n",
       "4  ...          1          1             0               0       0        1   \n",
       "\n",
       "  log_lotAreaValue  log_livingAreaValue  log_price  log_taxAssessedValue  \n",
       "0         3.017791             2.775903   4.556303              6.839742  \n",
       "1         2.684200             1.894372   4.648360              5.958711  \n",
       "2         2.729130             2.030236   5.093422              5.856789  \n",
       "3         2.047211             1.843091   5.130334              4.251881  \n",
       "4         4.914122             2.096429   4.929419              5.425520  \n",
       "\n",
       "[5 rows x 29 columns]"
      ]
     },
     "execution_count": 2,
     "metadata": {},
     "output_type": "execute_result"
    }
   ],
   "source": [
    "df.head()"
   ]
  },
  {
   "cell_type": "code",
   "execution_count": 3,
   "metadata": {},
   "outputs": [
    {
     "data": {
      "text/html": [
       "<div>\n",
       "<style scoped>\n",
       "    .dataframe tbody tr th:only-of-type {\n",
       "        vertical-align: middle;\n",
       "    }\n",
       "\n",
       "    .dataframe tbody tr th {\n",
       "        vertical-align: top;\n",
       "    }\n",
       "\n",
       "    .dataframe thead th {\n",
       "        text-align: right;\n",
       "    }\n",
       "</style>\n",
       "<table border=\"1\" class=\"dataframe\">\n",
       "  <thead>\n",
       "    <tr style=\"text-align: right;\">\n",
       "      <th></th>\n",
       "      <th>zipcode</th>\n",
       "      <th>yearBuilt</th>\n",
       "      <th>lotAreaValue</th>\n",
       "      <th>livingAreaValue</th>\n",
       "      <th>bedrooms</th>\n",
       "      <th>bathrooms</th>\n",
       "      <th>stories</th>\n",
       "      <th>fireplaceFeatures</th>\n",
       "      <th>taxAssessedValue</th>\n",
       "      <th>zestimate</th>\n",
       "      <th>...</th>\n",
       "      <th>hasCooling</th>\n",
       "      <th>hasHeating</th>\n",
       "      <th>hasFireplace</th>\n",
       "      <th>hasPrivatePool</th>\n",
       "      <th>hasSpa</th>\n",
       "      <th>hasView</th>\n",
       "      <th>log_lotAreaValue</th>\n",
       "      <th>log_livingAreaValue</th>\n",
       "      <th>log_price</th>\n",
       "      <th>log_taxAssessedValue</th>\n",
       "    </tr>\n",
       "  </thead>\n",
       "  <tbody>\n",
       "    <tr>\n",
       "      <th>count</th>\n",
       "      <td>4735.000000</td>\n",
       "      <td>4735.000000</td>\n",
       "      <td>4735.000000</td>\n",
       "      <td>4735.000000</td>\n",
       "      <td>4735.000000</td>\n",
       "      <td>4735.000000</td>\n",
       "      <td>4735.000000</td>\n",
       "      <td>4735.000000</td>\n",
       "      <td>4.735000e+03</td>\n",
       "      <td>4.735000e+03</td>\n",
       "      <td>...</td>\n",
       "      <td>4735.000000</td>\n",
       "      <td>4735.000000</td>\n",
       "      <td>4735.000000</td>\n",
       "      <td>4735.000000</td>\n",
       "      <td>4735.000000</td>\n",
       "      <td>4735.000000</td>\n",
       "      <td>4735.000000</td>\n",
       "      <td>4735.000000</td>\n",
       "      <td>4735.000000</td>\n",
       "      <td>4735.000000</td>\n",
       "    </tr>\n",
       "    <tr>\n",
       "      <th>mean</th>\n",
       "      <td>90668.165998</td>\n",
       "      <td>1961.499894</td>\n",
       "      <td>2871.939986</td>\n",
       "      <td>186.919456</td>\n",
       "      <td>3.378458</td>\n",
       "      <td>2.809345</td>\n",
       "      <td>2.023611</td>\n",
       "      <td>0.544456</td>\n",
       "      <td>7.851392e+05</td>\n",
       "      <td>1.434810e+06</td>\n",
       "      <td>...</td>\n",
       "      <td>0.805913</td>\n",
       "      <td>0.885533</td>\n",
       "      <td>0.561985</td>\n",
       "      <td>0.109820</td>\n",
       "      <td>0.115100</td>\n",
       "      <td>0.844562</td>\n",
       "      <td>3.032504</td>\n",
       "      <td>2.206296</td>\n",
       "      <td>6.046425</td>\n",
       "      <td>5.681407</td>\n",
       "    </tr>\n",
       "    <tr>\n",
       "      <th>std</th>\n",
       "      <td>648.482534</td>\n",
       "      <td>29.535432</td>\n",
       "      <td>6969.945597</td>\n",
       "      <td>125.664397</td>\n",
       "      <td>2.147488</td>\n",
       "      <td>1.985461</td>\n",
       "      <td>2.741450</td>\n",
       "      <td>0.498072</td>\n",
       "      <td>1.080700e+06</td>\n",
       "      <td>1.427162e+06</td>\n",
       "      <td>...</td>\n",
       "      <td>0.395538</td>\n",
       "      <td>0.318411</td>\n",
       "      <td>0.496195</td>\n",
       "      <td>0.312699</td>\n",
       "      <td>0.319177</td>\n",
       "      <td>0.362360</td>\n",
       "      <td>0.490648</td>\n",
       "      <td>0.225559</td>\n",
       "      <td>0.273690</td>\n",
       "      <td>0.442617</td>\n",
       "    </tr>\n",
       "    <tr>\n",
       "      <th>min</th>\n",
       "      <td>90001.000000</td>\n",
       "      <td>1885.000000</td>\n",
       "      <td>72.371437</td>\n",
       "      <td>16.722540</td>\n",
       "      <td>0.000000</td>\n",
       "      <td>0.000000</td>\n",
       "      <td>0.000000</td>\n",
       "      <td>0.000000</td>\n",
       "      <td>9.010000e+03</td>\n",
       "      <td>3.700000e+04</td>\n",
       "      <td>...</td>\n",
       "      <td>0.000000</td>\n",
       "      <td>0.000000</td>\n",
       "      <td>0.000000</td>\n",
       "      <td>0.000000</td>\n",
       "      <td>0.000000</td>\n",
       "      <td>0.000000</td>\n",
       "      <td>1.859567</td>\n",
       "      <td>1.223302</td>\n",
       "      <td>4.556303</td>\n",
       "      <td>3.954725</td>\n",
       "    </tr>\n",
       "    <tr>\n",
       "      <th>25%</th>\n",
       "      <td>90041.500000</td>\n",
       "      <td>1941.000000</td>\n",
       "      <td>555.430805</td>\n",
       "      <td>114.828108</td>\n",
       "      <td>2.000000</td>\n",
       "      <td>2.000000</td>\n",
       "      <td>1.000000</td>\n",
       "      <td>0.000000</td>\n",
       "      <td>2.609675e+05</td>\n",
       "      <td>7.557000e+05</td>\n",
       "      <td>...</td>\n",
       "      <td>1.000000</td>\n",
       "      <td>1.000000</td>\n",
       "      <td>0.000000</td>\n",
       "      <td>0.000000</td>\n",
       "      <td>0.000000</td>\n",
       "      <td>1.000000</td>\n",
       "      <td>2.744630</td>\n",
       "      <td>2.060048</td>\n",
       "      <td>5.866287</td>\n",
       "      <td>5.416586</td>\n",
       "    </tr>\n",
       "    <tr>\n",
       "      <th>50%</th>\n",
       "      <td>90291.000000</td>\n",
       "      <td>1957.000000</td>\n",
       "      <td>701.046038</td>\n",
       "      <td>152.546726</td>\n",
       "      <td>3.000000</td>\n",
       "      <td>2.000000</td>\n",
       "      <td>1.400000</td>\n",
       "      <td>1.000000</td>\n",
       "      <td>5.311434e+05</td>\n",
       "      <td>1.030800e+06</td>\n",
       "      <td>...</td>\n",
       "      <td>1.000000</td>\n",
       "      <td>1.000000</td>\n",
       "      <td>1.000000</td>\n",
       "      <td>0.000000</td>\n",
       "      <td>0.000000</td>\n",
       "      <td>1.000000</td>\n",
       "      <td>2.845747</td>\n",
       "      <td>2.183403</td>\n",
       "      <td>6.000000</td>\n",
       "      <td>5.725212</td>\n",
       "    </tr>\n",
       "    <tr>\n",
       "      <th>75%</th>\n",
       "      <td>91342.000000</td>\n",
       "      <td>1980.000000</td>\n",
       "      <td>1557.892455</td>\n",
       "      <td>213.444642</td>\n",
       "      <td>4.000000</td>\n",
       "      <td>3.000000</td>\n",
       "      <td>2.000000</td>\n",
       "      <td>1.000000</td>\n",
       "      <td>9.056221e+05</td>\n",
       "      <td>1.603150e+06</td>\n",
       "      <td>...</td>\n",
       "      <td>1.000000</td>\n",
       "      <td>1.000000</td>\n",
       "      <td>1.000000</td>\n",
       "      <td>0.000000</td>\n",
       "      <td>0.000000</td>\n",
       "      <td>1.000000</td>\n",
       "      <td>3.192537</td>\n",
       "      <td>2.329285</td>\n",
       "      <td>6.197281</td>\n",
       "      <td>5.956947</td>\n",
       "    </tr>\n",
       "    <tr>\n",
       "      <th>max</th>\n",
       "      <td>91607.000000</td>\n",
       "      <td>2024.000000</td>\n",
       "      <td>82058.180220</td>\n",
       "      <td>1246.944066</td>\n",
       "      <td>72.000000</td>\n",
       "      <td>38.000000</td>\n",
       "      <td>54.000000</td>\n",
       "      <td>1.000000</td>\n",
       "      <td>2.264544e+07</td>\n",
       "      <td>2.351180e+07</td>\n",
       "      <td>...</td>\n",
       "      <td>1.000000</td>\n",
       "      <td>1.000000</td>\n",
       "      <td>1.000000</td>\n",
       "      <td>1.000000</td>\n",
       "      <td>1.000000</td>\n",
       "      <td>1.000000</td>\n",
       "      <td>4.914122</td>\n",
       "      <td>3.095847</td>\n",
       "      <td>7.374748</td>\n",
       "      <td>7.354981</td>\n",
       "    </tr>\n",
       "  </tbody>\n",
       "</table>\n",
       "<p>8 rows × 23 columns</p>\n",
       "</div>"
      ],
      "text/plain": [
       "            zipcode    yearBuilt  lotAreaValue  livingAreaValue     bedrooms  \\\n",
       "count   4735.000000  4735.000000   4735.000000      4735.000000  4735.000000   \n",
       "mean   90668.165998  1961.499894   2871.939986       186.919456     3.378458   \n",
       "std      648.482534    29.535432   6969.945597       125.664397     2.147488   \n",
       "min    90001.000000  1885.000000     72.371437        16.722540     0.000000   \n",
       "25%    90041.500000  1941.000000    555.430805       114.828108     2.000000   \n",
       "50%    90291.000000  1957.000000    701.046038       152.546726     3.000000   \n",
       "75%    91342.000000  1980.000000   1557.892455       213.444642     4.000000   \n",
       "max    91607.000000  2024.000000  82058.180220      1246.944066    72.000000   \n",
       "\n",
       "         bathrooms      stories  fireplaceFeatures  taxAssessedValue  \\\n",
       "count  4735.000000  4735.000000        4735.000000      4.735000e+03   \n",
       "mean      2.809345     2.023611           0.544456      7.851392e+05   \n",
       "std       1.985461     2.741450           0.498072      1.080700e+06   \n",
       "min       0.000000     0.000000           0.000000      9.010000e+03   \n",
       "25%       2.000000     1.000000           0.000000      2.609675e+05   \n",
       "50%       2.000000     1.400000           1.000000      5.311434e+05   \n",
       "75%       3.000000     2.000000           1.000000      9.056221e+05   \n",
       "max      38.000000    54.000000           1.000000      2.264544e+07   \n",
       "\n",
       "          zestimate  ...   hasCooling   hasHeating  hasFireplace  \\\n",
       "count  4.735000e+03  ...  4735.000000  4735.000000   4735.000000   \n",
       "mean   1.434810e+06  ...     0.805913     0.885533      0.561985   \n",
       "std    1.427162e+06  ...     0.395538     0.318411      0.496195   \n",
       "min    3.700000e+04  ...     0.000000     0.000000      0.000000   \n",
       "25%    7.557000e+05  ...     1.000000     1.000000      0.000000   \n",
       "50%    1.030800e+06  ...     1.000000     1.000000      1.000000   \n",
       "75%    1.603150e+06  ...     1.000000     1.000000      1.000000   \n",
       "max    2.351180e+07  ...     1.000000     1.000000      1.000000   \n",
       "\n",
       "       hasPrivatePool       hasSpa      hasView  log_lotAreaValue  \\\n",
       "count     4735.000000  4735.000000  4735.000000       4735.000000   \n",
       "mean         0.109820     0.115100     0.844562          3.032504   \n",
       "std          0.312699     0.319177     0.362360          0.490648   \n",
       "min          0.000000     0.000000     0.000000          1.859567   \n",
       "25%          0.000000     0.000000     1.000000          2.744630   \n",
       "50%          0.000000     0.000000     1.000000          2.845747   \n",
       "75%          0.000000     0.000000     1.000000          3.192537   \n",
       "max          1.000000     1.000000     1.000000          4.914122   \n",
       "\n",
       "       log_livingAreaValue    log_price  log_taxAssessedValue  \n",
       "count          4735.000000  4735.000000           4735.000000  \n",
       "mean              2.206296     6.046425              5.681407  \n",
       "std               0.225559     0.273690              0.442617  \n",
       "min               1.223302     4.556303              3.954725  \n",
       "25%               2.060048     5.866287              5.416586  \n",
       "50%               2.183403     6.000000              5.725212  \n",
       "75%               2.329285     6.197281              5.956947  \n",
       "max               3.095847     7.374748              7.354981  \n",
       "\n",
       "[8 rows x 23 columns]"
      ]
     },
     "execution_count": 3,
     "metadata": {},
     "output_type": "execute_result"
    }
   ],
   "source": [
    "df.describe()"
   ]
  },
  {
   "cell_type": "code",
   "execution_count": 8,
   "metadata": {},
   "outputs": [
    {
     "name": "stdout",
     "output_type": "stream",
     "text": [
      "<class 'pandas.core.frame.DataFrame'>\n",
      "RangeIndex: 4735 entries, 0 to 4734\n",
      "Data columns (total 29 columns):\n",
      " #   Column                Non-Null Count  Dtype  \n",
      "---  ------                --------------  -----  \n",
      " 0   zipcode               4735 non-null   int64  \n",
      " 1   streetAddress         4735 non-null   object \n",
      " 2   homeType              4735 non-null   object \n",
      " 3   yearBuilt             4735 non-null   int64  \n",
      " 4   lotAreaValue          4735 non-null   float64\n",
      " 5   livingAreaValue       4735 non-null   float64\n",
      " 6   bedrooms              4735 non-null   int64  \n",
      " 7   bathrooms             4735 non-null   float64\n",
      " 8   stories               4735 non-null   float64\n",
      " 9   flooring              4735 non-null   object \n",
      " 10  heating               4735 non-null   object \n",
      " 11  cooling               4735 non-null   object \n",
      " 12  fireplaceFeatures     4735 non-null   int64  \n",
      " 13  taxAssessedValue      4735 non-null   float64\n",
      " 14  zestimate             4735 non-null   float64\n",
      " 15  rentZestimate         4735 non-null   float64\n",
      " 16  sold-history          4735 non-null   object \n",
      " 17  price                 4735 non-null   int64  \n",
      " 18  parkingCapacity       4735 non-null   int64  \n",
      " 19  hasCooling            4735 non-null   int64  \n",
      " 20  hasHeating            4735 non-null   int64  \n",
      " 21  hasFireplace          4735 non-null   int64  \n",
      " 22  hasPrivatePool        4735 non-null   int64  \n",
      " 23  hasSpa                4735 non-null   int64  \n",
      " 24  hasView               4735 non-null   int64  \n",
      " 25  log_lotAreaValue      4735 non-null   float64\n",
      " 26  log_livingAreaValue   4735 non-null   float64\n",
      " 27  log_price             4735 non-null   float64\n",
      " 28  log_taxAssessedValue  4735 non-null   float64\n",
      "dtypes: float64(11), int64(12), object(6)\n",
      "memory usage: 1.0+ MB\n"
     ]
    }
   ],
   "source": [
    "df.info()"
   ]
  },
  {
   "cell_type": "code",
   "execution_count": 7,
   "metadata": {},
   "outputs": [
    {
     "data": {
      "text/plain": [
       "Index(['zipcode', 'yearBuilt', 'lotAreaValue', 'livingAreaValue', 'bedrooms',\n",
       "       'bathrooms', 'stories', 'fireplaceFeatures', 'taxAssessedValue',\n",
       "       'zestimate', 'rentZestimate', 'price', 'parkingCapacity', 'hasCooling',\n",
       "       'hasHeating', 'hasFireplace', 'hasPrivatePool', 'hasSpa', 'hasView',\n",
       "       'log_lotAreaValue', 'log_livingAreaValue', 'log_price',\n",
       "       'log_taxAssessedValue'],\n",
       "      dtype='object')"
      ]
     },
     "execution_count": 7,
     "metadata": {},
     "output_type": "execute_result"
    }
   ],
   "source": [
    "numerical = df.select_dtypes(include=['int64', 'float64']).columns\n",
    "\n",
    "numerical"
   ]
  },
  {
   "cell_type": "code",
   "execution_count": 9,
   "metadata": {},
   "outputs": [
    {
     "name": "stdout",
     "output_type": "stream",
     "text": [
      "Independent t-test: t-statistic = 23.651002520709174, p-value = 5.545098347081356e-117\n"
     ]
    }
   ],
   "source": [
    "from scipy.stats import ttest_ind\n",
    "\n",
    "fireplace = df[df['hasFireplace'] == 1]['log_price']\n",
    "no_fireplace = df[df['hasFireplace'] == 0]['log_price']\n",
    "\n",
    "t_stat, p_val = ttest_ind(fireplace, no_fireplace)\n",
    "print(f'Independent t-test: t-statistic = {t_stat}, p-value = {p_val}')"
   ]
  },
  {
   "cell_type": "code",
   "execution_count": 10,
   "metadata": {},
   "outputs": [
    {
     "name": "stdout",
     "output_type": "stream",
     "text": [
      "Independent t-test: t-statistic = 10.244796693792562, p-value = 2.2401757925559668e-24\n"
     ]
    }
   ],
   "source": [
    "from scipy.stats import ttest_ind\n",
    "\n",
    "fireplace = df[df['hasHeating'] == 1]['log_price']\n",
    "no_fireplace = df[df['hasHeating'] == 0]['log_price']\n",
    "\n",
    "t_stat, p_val = ttest_ind(fireplace, no_fireplace)\n",
    "print(f'Independent t-test: t-statistic = {t_stat}, p-value = {p_val}')"
   ]
  },
  {
   "cell_type": "code",
   "execution_count": 12,
   "metadata": {},
   "outputs": [
    {
     "name": "stdout",
     "output_type": "stream",
     "text": [
      "Independent t-test: t-statistic = 11.628992323340002, p-value = 7.681852290329135e-31\n"
     ]
    }
   ],
   "source": [
    "from scipy.stats import ttest_ind\n",
    "\n",
    "fireplace = df[df['hasCooling'] == 1]['log_price']\n",
    "no_fireplace = df[df['hasCooling'] == 0]['log_price']\n",
    "\n",
    "t_stat, p_val = ttest_ind(fireplace, no_fireplace)\n",
    "print(f'Independent t-test: t-statistic = {t_stat}, p-value = {p_val}')"
   ]
  },
  {
   "cell_type": "code",
   "execution_count": 13,
   "metadata": {},
   "outputs": [
    {
     "name": "stdout",
     "output_type": "stream",
     "text": [
      "Independent t-test: t-statistic = 2.7937113542091367, p-value = 0.005231650530578872\n"
     ]
    }
   ],
   "source": [
    "from scipy.stats import ttest_ind\n",
    "\n",
    "fireplace = df[df['hasSpa'] == 1]['log_price']\n",
    "no_fireplace = df[df['hasSpa'] == 0]['log_price']\n",
    "\n",
    "t_stat, p_val = ttest_ind(fireplace, no_fireplace)\n",
    "print(f'Independent t-test: t-statistic = {t_stat}, p-value = {p_val}')"
   ]
  },
  {
   "cell_type": "code",
   "execution_count": 14,
   "metadata": {},
   "outputs": [
    {
     "name": "stdout",
     "output_type": "stream",
     "text": [
      "Independent t-test: t-statistic = 16.705926796136175, p-value = 6.401203726784372e-61\n"
     ]
    }
   ],
   "source": [
    "from scipy.stats import ttest_ind\n",
    "\n",
    "fireplace = df[df['hasPrivatePool'] == 1]['log_price']\n",
    "no_fireplace = df[df['hasPrivatePool'] == 0]['log_price']\n",
    "\n",
    "t_stat, p_val = ttest_ind(fireplace, no_fireplace)\n",
    "print(f'Independent t-test: t-statistic = {t_stat}, p-value = {p_val}')"
   ]
  },
  {
   "cell_type": "code",
   "execution_count": 15,
   "metadata": {},
   "outputs": [
    {
     "data": {
      "text/plain": [
       "TtestResult(statistic=2.7937113542091367, pvalue=0.005231650530578872, df=4733.0)"
      ]
     },
     "execution_count": 15,
     "metadata": {},
     "output_type": "execute_result"
    }
   ],
   "source": [
    "from scipy.stats import ttest_ind\n",
    "\n",
    "fireplace = df[df['hasSpa'] == 1]['log_price']\n",
    "no_fireplace = df[df['hasSpa'] == 0]['log_price']\n",
    "\n",
    "res = ttest_ind(fireplace, no_fireplace)\n",
    "res"
   ]
  },
  {
   "cell_type": "code",
   "execution_count": 19,
   "metadata": {},
   "outputs": [
    {
     "data": {
      "text/plain": [
       "TtestResult(statistic=-24.74033903393239, pvalue=6.609476585212971e-126, df=4021.0)"
      ]
     },
     "execution_count": 19,
     "metadata": {},
     "output_type": "execute_result"
    }
   ],
   "source": [
    "from scipy.stats import ttest_ind\n",
    "\n",
    "fireplace = df[df['homeType'] == \"CONDO\"]['log_price']\n",
    "no_fireplace = df[df['homeType'] == \"SINGLE_FAMILY\"]['log_price']\n",
    "\n",
    "res = ttest_ind(fireplace, no_fireplace)\n",
    "res"
   ]
  },
  {
   "cell_type": "code",
   "execution_count": 42,
   "metadata": {},
   "outputs": [
    {
     "data": {
      "text/plain": [
       "TtestResult(statistic=-24.582388017565115, pvalue=1.0972092534234243e-125, df=4734)"
      ]
     },
     "execution_count": 42,
     "metadata": {},
     "output_type": "execute_result"
    }
   ],
   "source": [
    "from scipy.stats import ttest_rel\n",
    "import numpy as np\n",
    "\n",
    "res = ttest_rel(df['log_price'], np.log10(df['zestimate']))\n",
    "res\n"
   ]
  },
  {
   "cell_type": "code",
   "execution_count": 48,
   "metadata": {},
   "outputs": [
    {
     "data": {
      "text/plain": [
       "-0.0051916342170141285"
      ]
     },
     "execution_count": 48,
     "metadata": {},
     "output_type": "execute_result"
    }
   ],
   "source": [
    "t = d_ / SE\n",
    "t"
   ]
  },
  {
   "cell_type": "code",
   "execution_count": 46,
   "metadata": {},
   "outputs": [
    {
     "data": {
      "text/plain": [
       "0.030589287912311088"
      ]
     },
     "execution_count": 46,
     "metadata": {},
     "output_type": "execute_result"
    }
   ],
   "source": [
    "sd"
   ]
  },
  {
   "cell_type": "code",
   "execution_count": 45,
   "metadata": {},
   "outputs": [
    {
     "data": {
      "text/plain": [
       "0.028806642289630105"
      ]
     },
     "execution_count": 45,
     "metadata": {},
     "output_type": "execute_result"
    }
   ],
   "source": [
    "std_diff"
   ]
  },
  {
   "cell_type": "code",
   "execution_count": 53,
   "metadata": {},
   "outputs": [
    {
     "name": "stdout",
     "output_type": "stream",
     "text": [
      "-0.010290979605645413 -0.010290979605645413\n",
      "4735\n",
      "0.0004186322174351853 0.0004186322174351853\n",
      "Calculated t-statistic: -24.582388017565115-24.582388017565115\n",
      "Scipy t-statistic: -24.582388017565115\n",
      "Scipy p-value: 1.0972092534234243e-125\n",
      "Cohen's d: -0.3572432879256458\n"
     ]
    }
   ],
   "source": [
    "X = df['log_price']\n",
    "Y = np.log10(df['zestimate'])\n",
    "\n",
    "D = X - Y\n",
    "\n",
    "# Mean difference\n",
    "mean_diff = np.mean(D)\n",
    "d_ = 1 / n * (df['log_price'] - np.log10(df['zestimate'])).sum().mean()\n",
    "print(d_, mean_diff)\n",
    "\n",
    "\n",
    "n = len(D)\n",
    "print(n)\n",
    "\n",
    "# Standard deviation of differences\n",
    "std_diff = np.std(D, ddof=1)\n",
    "sd = (1/ (n-1) * np.sum((df['log_price'] - np.log10(df['zestimate']) - d_)**2))**0.5\n",
    "\n",
    "# Number of observations\n",
    "\n",
    "# Standard error of the mean difference\n",
    "SE = std_diff / np.sqrt(n)\n",
    "SE2 = sd / n**0.5\n",
    "print(SE2, SE)\n",
    "\n",
    "# t-statistic\n",
    "t_stat = mean_diff / SE\n",
    "\n",
    "# Use scipy to verify\n",
    "res = ttest_rel(X, Y)\n",
    "\n",
    "print(f\"Calculated t-statistic: {d_/SE2}{t_stat}\")\n",
    "print(f\"Scipy t-statistic: {res.statistic}\")\n",
    "print(f\"Scipy p-value: {res.pvalue}\")\n",
    "cohen_d = mean_diff / std_diff\n",
    "print(f\"Cohen's d: {cohen_d}\")"
   ]
  },
  {
   "cell_type": "code",
   "execution_count": 25,
   "metadata": {},
   "outputs": [
    {
     "data": {
      "image/png": "[encoded data removed]",
      "text/plain": [
       "<Figure size 1200x600 with 1 Axes>"
      ]
     },
     "metadata": {},
     "output_type": "display_data"
    }
   ],
   "source": [
    "import matplotlib.pyplot as plt\n",
    "import seaborn as sns\n",
    "\n",
    "# Plot the distributions\n",
    "plt.figure(figsize=(12, 6))\n",
    "sns.histplot(df['log_price'], color='blue', label='log_price', kde=True)\n",
    "sns.histplot(np.log10(df['zestimate']), color='red', label='log10(zestimate)', kde=True)\n",
    "plt.legend()\n",
    "plt.title('Distributions of log_price and log10(zestimate)')\n",
    "plt.xlabel('Log Value')\n",
    "plt.ylabel('Frequency')\n",
    "plt.show()\n"
   ]
  },
  {
   "cell_type": "code",
   "execution_count": 26,
   "metadata": {},
   "outputs": [
    {
     "data": {
      "image/png": "[encoded data removed]",
      "text/plain": [
       "<Figure size 1200x600 with 1 Axes>"
      ]
     },
     "metadata": {},
     "output_type": "display_data"
    }
   ],
   "source": [
    "# Calculate the difference\n",
    "df['log_diff'] = df['log_price'] - np.log10(df['zestimate'])\n",
    "\n",
    "# Plot the difference\n",
    "plt.figure(figsize=(12, 6))\n",
    "sns.histplot(df['log_diff'], bins=50, kde=True)\n",
    "plt.title('Difference between log_price and log10(zestimate)')\n",
    "plt.xlabel('log_price - log10(zestimate)')\n",
    "plt.ylabel('Frequency')\n",
    "plt.show()\n"
   ]
  },
  {
   "cell_type": "code",
   "execution_count": 54,
   "metadata": {},
   "outputs": [
    {
     "name": "stdout",
     "output_type": "stream",
     "text": [
      "Chi-Square Test: chi2 = 513.3043566052961, p-value = 1.211395027768265e-113\n"
     ]
    }
   ],
   "source": [
    "import pandas as pd\n",
    "from scipy.stats import chi2_contingency\n",
    "\n",
    "\n",
    "# Contingency table\n",
    "contingency_table = pd.crosstab(df['hasCooling'], df['hasHeating'])\n",
    "\n",
    "# Chi-Square Test\n",
    "chi2, p, dof, ex = chi2_contingency(contingency_table)\n",
    "print(f'Chi-Square Test: chi2 = {chi2}, p-value = {p}')\n"
   ]
  }
 ],
 "metadata": {
  "kernelspec": {
   "display_name": "Python 3",
   "language": "python",
   "name": "python3"
  },
  "language_info": {
   "codemirror_mode": {
    "name": "ipython",
    "version": 3
   },
   "file_extension": ".py",
   "mimetype": "text/x-python",
   "name": "python",
   "nbconvert_exporter": "python",
   "pygments_lexer": "ipython3",
   "version": "3.10.6"
  }
 },
 "nbformat": 4,
 "nbformat_minor": 2
}

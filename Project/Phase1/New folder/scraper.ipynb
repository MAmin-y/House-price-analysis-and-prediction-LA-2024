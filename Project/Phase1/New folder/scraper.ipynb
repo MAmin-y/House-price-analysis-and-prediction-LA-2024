{
 "cells": [
  {
   "cell_type": "markdown",
   "metadata": {},
   "source": [
    "## Scraping\n",
    "We scrape our data from [Zillow](https://www.zillow.com/) which is a real estate website. We are going to scrape the data of sold houses in Los Angeles, California. We divide our scraping into two parts:\n",
    "\n",
    "* First we scrape the links of the houses that are sold in Los Angeles, California in the past 90 days.\n",
    "* Then we scrape the data of each house from the links we got in the first part."
   ]
  },
  {
   "cell_type": "markdown",
   "metadata": {},
   "source": [
    "### Part 1: Scraping the links of the houses"
   ]
  },
  {
   "cell_type": "markdown",
   "metadata": {},
   "source": [
    "We use `selenium` to scrape the links of the houses. There was a problem in scraping the links of the houses because the website gives only the first 20 pages of our query. To solve this problem, we divided the houses by price range and scraped the links of the houses in each price range separately. `search_links` is the link of the first page of the houses that are sold in Los Angeles, California in the past 90 days in a specific price range.  `scrape_house_links` gets the link of the first page of the search query and scrape all of the house links in the search query."
   ]
  },
  {
   "cell_type": "code",
   "execution_count": 32,
   "metadata": {},
   "outputs": [],
   "source": [
    "from selenium import webdriver\n",
    "from selenium.webdriver.common.by import By\n",
    "from selenium.webdriver.support.ui import WebDriverWait\n",
    "from selenium.webdriver.support import expected_conditions as EC\n",
    "import time\n",
    "\n",
    "def scrape_house_links(starting_page_link, file_name, max_pages = 20):\n",
    "\n",
    "    file = open(f\"house-links/{file_name}.txt\", \"w\")\n",
    "\n",
    "    options = webdriver.ChromeOptions() \n",
    "    options.add_argument(\"--disable-blink-features=AutomationControlled\") \n",
    "    options.add_experimental_option(\"excludeSwitches\", [\"enable-automation\"]) \n",
    "    options.add_experimental_option(\"useAutomationExtension\", False) \n",
    "    \n",
    "    driver = webdriver.Chrome(options=options) \n",
    "    driver.execute_script(\"Object.defineProperty(navigator, 'webdriver', {get: () => undefined})\") \n",
    "    driver.set_window_size(800, 600)\n",
    "    \n",
    "    driver.get(starting_page_link)\n",
    "\n",
    "    for i in range(max_pages):\n",
    "        print(i)\n",
    "        element_present = EC.presence_of_element_located((By.ID, 'grid-search-results'))\n",
    "        WebDriverWait(driver, timeout=10).until(element_present)\n",
    "        time.sleep(1)\n",
    "        total_height = driver.execute_script(\"return document.body.scrollHeight\")\n",
    "\n",
    "        scroll_position = 0\n",
    "\n",
    "        while scroll_position < total_height:\n",
    "            scroll_position += 500\n",
    "            driver.execute_script(\"window.scrollTo(0, {});\".format(scroll_position))\n",
    "            time.sleep(0.5)\n",
    "        \n",
    "        \n",
    "        link_elements = driver.find_elements(By.CLASS_NAME, \"property-card-link\")\n",
    "        links = {link.get_attribute(\"href\") for link in link_elements}\n",
    "\n",
    "        for link in links:\n",
    "            file.write(link + \"\\n\")\n",
    "            \n",
    "        next_button = driver.find_element(By.XPATH, '//*[@id=\"grid-search-results\"]/div[2]/nav/ul/li[10]/a')\n",
    "        driver.execute_script(\"window.scrollTo(0, arguments[0].scrollHeight)\", next_button)\n",
    "\n",
    "        try:\n",
    "            next_button.click()\n",
    "        except:\n",
    "            break\n",
    "            \n",
    "\n",
    "    file.close()"
   ]
  },
  {
   "cell_type": "code",
   "execution_count": 27,
   "metadata": {},
   "outputs": [],
   "source": [
    "search_links = [\n",
    "    \"https://www.zillow.com/los-angeles-ca/sold/?searchQueryState=%7B%22pagination%22%3A%7B%7D%2C%22isMapVisible%22%3Atrue%2C%22mapBounds%22%3A%7B%22west%22%3A-118.95143586914062%2C%22east%22%3A-117.87202913085937%2C%22south%22%3A33.67720212849842%2C%22north%22%3A34.36355099753262%7D%2C%22usersSearchTerm%22%3A%22Los%20Angeles%2C%20CA%22%2C%22regionSelection%22%3A%5B%7B%22regionId%22%3A12447%2C%22regionType%22%3A6%7D%5D%2C%22filterState%22%3A%7B%22sort%22%3A%7B%22value%22%3A%22pricea%22%7D%2C%22fsba%22%3A%7B%22value%22%3Afalse%7D%2C%22fsbo%22%3A%7B%22value%22%3Afalse%7D%2C%22nc%22%3A%7B%22value%22%3Afalse%7D%2C%22cmsn%22%3A%7B%22value%22%3Afalse%7D%2C%22auc%22%3A%7B%22value%22%3Afalse%7D%2C%22fore%22%3A%7B%22value%22%3Afalse%7D%2C%22rs%22%3A%7B%22value%22%3Atrue%7D%2C%22ah%22%3A%7B%22value%22%3Atrue%7D%2C%22doz%22%3A%7B%22value%22%3A%2290%22%7D%2C%22price%22%3A%7B%22min%22%3A1%2C%22max%22%3A550000%7D%2C%22mp%22%3A%7B%22min%22%3A0%2C%22max%22%3A2878%7D%7D%2C%22isListVisible%22%3Atrue%7D\",\n",
    "    \"https://www.zillow.com/los-angeles-ca/sold/?searchQueryState=%7B%22pagination%22%3A%7B%7D%2C%22isMapVisible%22%3Atrue%2C%22mapBounds%22%3A%7B%22west%22%3A-118.95143586914062%2C%22east%22%3A-117.87202913085937%2C%22south%22%3A33.67720212849842%2C%22north%22%3A34.36355099753262%7D%2C%22usersSearchTerm%22%3A%22Los%20Angeles%2C%20CA%22%2C%22regionSelection%22%3A%5B%7B%22regionId%22%3A12447%2C%22regionType%22%3A6%7D%5D%2C%22filterState%22%3A%7B%22sort%22%3A%7B%22value%22%3A%22pricea%22%7D%2C%22fsba%22%3A%7B%22value%22%3Afalse%7D%2C%22fsbo%22%3A%7B%22value%22%3Afalse%7D%2C%22nc%22%3A%7B%22value%22%3Afalse%7D%2C%22cmsn%22%3A%7B%22value%22%3Afalse%7D%2C%22auc%22%3A%7B%22value%22%3Afalse%7D%2C%22fore%22%3A%7B%22value%22%3Afalse%7D%2C%22rs%22%3A%7B%22value%22%3Atrue%7D%2C%22ah%22%3A%7B%22value%22%3Atrue%7D%2C%22doz%22%3A%7B%22value%22%3A%2290%22%7D%2C%22price%22%3A%7B%22min%22%3A550001%2C%22max%22%3A720000%7D%2C%22mp%22%3A%7B%22min%22%3A2878%2C%22max%22%3A3663%7D%7D%2C%22isListVisible%22%3Atrue%7D\",\n",
    "    \"https://www.zillow.com/los-angeles-ca/sold/?searchQueryState=%7B%22pagination%22%3A%7B%7D%2C%22isMapVisible%22%3Atrue%2C%22mapBounds%22%3A%7B%22west%22%3A-118.95143586914062%2C%22east%22%3A-117.87202913085937%2C%22south%22%3A33.67720212849842%2C%22north%22%3A34.36355099753262%7D%2C%22usersSearchTerm%22%3A%22Los%20Angeles%2C%20CA%22%2C%22regionSelection%22%3A%5B%7B%22regionId%22%3A12447%2C%22regionType%22%3A6%7D%5D%2C%22filterState%22%3A%7B%22sort%22%3A%7B%22value%22%3A%22pricea%22%7D%2C%22fsba%22%3A%7B%22value%22%3Afalse%7D%2C%22fsbo%22%3A%7B%22value%22%3Afalse%7D%2C%22nc%22%3A%7B%22value%22%3Afalse%7D%2C%22cmsn%22%3A%7B%22value%22%3Afalse%7D%2C%22auc%22%3A%7B%22value%22%3Afalse%7D%2C%22fore%22%3A%7B%22value%22%3Afalse%7D%2C%22rs%22%3A%7B%22value%22%3Atrue%7D%2C%22ah%22%3A%7B%22value%22%3Atrue%7D%2C%22doz%22%3A%7B%22value%22%3A%2290%22%7D%2C%22price%22%3A%7B%22min%22%3A720001%2C%22max%22%3A870000%7D%2C%22mp%22%3A%7B%22min%22%3A3767%2C%22max%22%3A4448%7D%7D%2C%22isListVisible%22%3Atrue%7D\",\n",
    "    \"https://www.zillow.com/los-angeles-ca/sold/?searchQueryState=%7B%22pagination%22%3A%7B%7D%2C%22isMapVisible%22%3Atrue%2C%22mapBounds%22%3A%7B%22west%22%3A-118.95143586914062%2C%22east%22%3A-117.87202913085937%2C%22south%22%3A33.67720212849842%2C%22north%22%3A34.36355099753262%7D%2C%22usersSearchTerm%22%3A%22Los%20Angeles%2C%20CA%22%2C%22regionSelection%22%3A%5B%7B%22regionId%22%3A12447%2C%22regionType%22%3A6%7D%5D%2C%22filterState%22%3A%7B%22sort%22%3A%7B%22value%22%3A%22pricea%22%7D%2C%22fsba%22%3A%7B%22value%22%3Afalse%7D%2C%22fsbo%22%3A%7B%22value%22%3Afalse%7D%2C%22nc%22%3A%7B%22value%22%3Afalse%7D%2C%22cmsn%22%3A%7B%22value%22%3Afalse%7D%2C%22auc%22%3A%7B%22value%22%3Afalse%7D%2C%22fore%22%3A%7B%22value%22%3Afalse%7D%2C%22rs%22%3A%7B%22value%22%3Atrue%7D%2C%22ah%22%3A%7B%22value%22%3Atrue%7D%2C%22doz%22%3A%7B%22value%22%3A%2290%22%7D%2C%22price%22%3A%7B%22min%22%3A870001%2C%22max%22%3A1070000%7D%2C%22mp%22%3A%7B%22min%22%3A3767%2C%22max%22%3A6541%7D%7D%2C%22isListVisible%22%3Atrue%7D\",\n",
    "    \"https://www.zillow.com/los-angeles-ca/sold/?searchQueryState=%7B%22pagination%22%3A%7B%7D%2C%22isMapVisible%22%3Atrue%2C%22mapBounds%22%3A%7B%22west%22%3A-118.95143586914062%2C%22east%22%3A-117.87202913085937%2C%22south%22%3A33.67720212849842%2C%22north%22%3A34.36355099753262%7D%2C%22usersSearchTerm%22%3A%22Los%20Angeles%2C%20CA%22%2C%22regionSelection%22%3A%5B%7B%22regionId%22%3A12447%2C%22regionType%22%3A6%7D%5D%2C%22filterState%22%3A%7B%22sort%22%3A%7B%22value%22%3A%22pricea%22%7D%2C%22fsba%22%3A%7B%22value%22%3Afalse%7D%2C%22fsbo%22%3A%7B%22value%22%3Afalse%7D%2C%22nc%22%3A%7B%22value%22%3Afalse%7D%2C%22cmsn%22%3A%7B%22value%22%3Afalse%7D%2C%22auc%22%3A%7B%22value%22%3Afalse%7D%2C%22fore%22%3A%7B%22value%22%3Afalse%7D%2C%22rs%22%3A%7B%22value%22%3Atrue%7D%2C%22ah%22%3A%7B%22value%22%3Atrue%7D%2C%22doz%22%3A%7B%22value%22%3A%2290%22%7D%2C%22price%22%3A%7B%22min%22%3A1070001%2C%22max%22%3A1350000%7D%2C%22mp%22%3A%7B%22min%22%3A5599%2C%22max%22%3A6541%7D%7D%2C%22isListVisible%22%3Atrue%7D\",\n",
    "    \"https://www.zillow.com/los-angeles-ca/sold/?searchQueryState=%7B%22pagination%22%3A%7B%7D%2C%22isMapVisible%22%3Atrue%2C%22mapBounds%22%3A%7B%22west%22%3A-118.95143586914062%2C%22east%22%3A-117.87202913085937%2C%22south%22%3A33.67720212849842%2C%22north%22%3A34.36355099753262%7D%2C%22usersSearchTerm%22%3A%22Los%20Angeles%2C%20CA%22%2C%22regionSelection%22%3A%5B%7B%22regionId%22%3A12447%2C%22regionType%22%3A6%7D%5D%2C%22filterState%22%3A%7B%22sort%22%3A%7B%22value%22%3A%22pricea%22%7D%2C%22fsba%22%3A%7B%22value%22%3Afalse%7D%2C%22fsbo%22%3A%7B%22value%22%3Afalse%7D%2C%22nc%22%3A%7B%22value%22%3Afalse%7D%2C%22cmsn%22%3A%7B%22value%22%3Afalse%7D%2C%22auc%22%3A%7B%22value%22%3Afalse%7D%2C%22fore%22%3A%7B%22value%22%3Afalse%7D%2C%22rs%22%3A%7B%22value%22%3Atrue%7D%2C%22ah%22%3A%7B%22value%22%3Atrue%7D%2C%22doz%22%3A%7B%22value%22%3A%2290%22%7D%2C%22price%22%3A%7B%22min%22%3A1350001%2C%22max%22%3A1850000%7D%2C%22mp%22%3A%7B%22min%22%3A7064%2C%22max%22%3A9157%7D%7D%2C%22isListVisible%22%3Atrue%7D\",\n",
    "    \"https://www.zillow.com/los-angeles-ca/sold/?searchQueryState=%7B%22pagination%22%3A%7B%7D%2C%22isMapVisible%22%3Atrue%2C%22mapBounds%22%3A%7B%22west%22%3A-118.95143586914062%2C%22east%22%3A-117.87202913085937%2C%22south%22%3A33.67720212849842%2C%22north%22%3A34.36355099753262%7D%2C%22usersSearchTerm%22%3A%22Los%20Angeles%2C%20CA%22%2C%22regionSelection%22%3A%5B%7B%22regionId%22%3A12447%2C%22regionType%22%3A6%7D%5D%2C%22filterState%22%3A%7B%22sort%22%3A%7B%22value%22%3A%22pricea%22%7D%2C%22fsba%22%3A%7B%22value%22%3Afalse%7D%2C%22fsbo%22%3A%7B%22value%22%3Afalse%7D%2C%22nc%22%3A%7B%22value%22%3Afalse%7D%2C%22cmsn%22%3A%7B%22value%22%3Afalse%7D%2C%22auc%22%3A%7B%22value%22%3Afalse%7D%2C%22fore%22%3A%7B%22value%22%3Afalse%7D%2C%22rs%22%3A%7B%22value%22%3Atrue%7D%2C%22ah%22%3A%7B%22value%22%3Atrue%7D%2C%22doz%22%3A%7B%22value%22%3A%2290%22%7D%2C%22price%22%3A%7B%22min%22%3A1850001%2C%22max%22%3A3500000%7D%2C%22mp%22%3A%7B%22min%22%3A7064%2C%22max%22%3A18314%7D%7D%2C%22isListVisible%22%3Atrue%7D\",\n",
    "    \"https://www.zillow.com/los-angeles-ca/sold/?searchQueryState=%7B%22pagination%22%3A%7B%7D%2C%22isMapVisible%22%3Atrue%2C%22mapBounds%22%3A%7B%22west%22%3A-118.95143586914062%2C%22east%22%3A-117.87202913085937%2C%22south%22%3A33.67720212849842%2C%22north%22%3A34.36355099753262%7D%2C%22usersSearchTerm%22%3A%22Los%20Angeles%2C%20CA%22%2C%22regionSelection%22%3A%5B%7B%22regionId%22%3A12447%2C%22regionType%22%3A6%7D%5D%2C%22filterState%22%3A%7B%22sort%22%3A%7B%22value%22%3A%22pricea%22%7D%2C%22fsba%22%3A%7B%22value%22%3Afalse%7D%2C%22fsbo%22%3A%7B%22value%22%3Afalse%7D%2C%22nc%22%3A%7B%22value%22%3Afalse%7D%2C%22cmsn%22%3A%7B%22value%22%3Afalse%7D%2C%22auc%22%3A%7B%22value%22%3Afalse%7D%2C%22fore%22%3A%7B%22value%22%3Afalse%7D%2C%22rs%22%3A%7B%22value%22%3Atrue%7D%2C%22ah%22%3A%7B%22value%22%3Atrue%7D%2C%22doz%22%3A%7B%22value%22%3A%2290%22%7D%2C%22price%22%3A%7B%22min%22%3A3500001%7D%2C%22mp%22%3A%7B%22min%22%3A18314%7D%7D%2C%22isListVisible%22%3Atrue%7D\"\n",
    "]"
   ]
  },
  {
   "cell_type": "markdown",
   "metadata": {},
   "source": [
    "Now for each search link we call `scrape_house_links` to scrape the links of houses."
   ]
  },
  {
   "cell_type": "code",
   "execution_count": null,
   "metadata": {},
   "outputs": [],
   "source": [
    "for i, starting_link in enumerate(search_links[]):\n",
    "    print(f\"reading link:{i}\")\n",
    "    try:\n",
    "        scrape_house_links(starting_link, f\"houses{i}\")\n",
    "    except:\n",
    "        print(f\"exception happened at iteration{i}\")\n",
    "        break"
   ]
  },
  {
   "cell_type": "markdown",
   "metadata": {},
   "source": [
    "### Part 2: Scraping the details of each house\n",
    "\n",
    "In this part we use `requests` library to get the html of each house's page and then by utilizing `BeautifulSoup` library we find the data of the house with `#__NEXT_DATA__` element id. we convert this data to json and after that we save the specific features that we want to have in our dataset. we also write a function to convert this data to a row in csv file.\n",
    "We had a problem that the site would give us 403 error after some requests. To solve this problem we sent the request with a header that makes the site think we are human and we also resend the request until we get the response."
   ]
  },
  {
   "cell_type": "code",
   "execution_count": 40,
   "metadata": {},
   "outputs": [],
   "source": [
    "from requests import get\n",
    "from requests.exceptions import HTTPError, ConnectionError \n",
    "from bs4 import BeautifulSoup\n",
    "from json import loads\n",
    "from html import unescape\n",
    "from re import compile\n",
    "from fake_useragent import UserAgent\n",
    "\n",
    "\n",
    "FEATURES = [\"price\", \"streetAddress\", \"zipcode\", \"bedrooms\", \"bathrooms\", \"latitude\",\n",
    "                \"longitude\", \"homeStatus\", \"homeType\", \"lotAreaValue\", \"lotAreaUnits\",\n",
    "                \"zestimate\", \"rentZestimate\", \"currency\", \"yearBuilt\", \"livingAreaValue\",\n",
    "                \"livingAreaUnitsShort\", \"taxAssessedValue\"]\n",
    "    \n",
    "RESOFACTS = [\"bathroomsFull\", \"pricePerSquareFoot\", \"stories\", \"heating\", \"cooling\", \"flooring\", \"fireplaceFeatures\", \"foundationDetails\",\n",
    "            \"garageParkingCapacity\", \"sewer\", \"roofType\"]\n",
    "\n",
    "COLUMNS = [\"zipcode\", \"streetAddress\", \"homeStatus\", \"homeType\", \"latitude\", \"longitude\", \"yearBuilt\",\n",
    "           \"lotAreaValue\", \"lotAreaUnits\", \"livingAreaValue\", \"livingAreaUnitsShort\", \"garageParkingCapacity\",\n",
    "           \"bedrooms\", \"bathrooms\", \"bathroomsFull\", \"stories\", \"flooring\", \"foundationDetails\", \"heating\",\n",
    "           \"cooling\", \"fireplaceFeatures\", \"sewer\", \"roofType\", \"taxAssessedValue\", \"zestimate\", \"rentZestimate\", \"sold-history\",\n",
    "           \"pricePerSquareFoot\", \"price\", \"currency\"]\n",
    "\n",
    "def get_nested_value(dic, key_path):\n",
    "    keys = key_path.split(\".\")\n",
    "    current = dic\n",
    "    for key in keys:\n",
    "        current = current.get(key, {})\n",
    "        if current == {} or current is None:\n",
    "            return None\n",
    "    return current\n",
    "\n",
    "def remove_space(value):\n",
    "    regex_space = compile(r\"[\\s ]+\")\n",
    "    return regex_space.sub(\" \", value.strip())\n",
    "\n",
    "ua = UserAgent()\n",
    "\n",
    "def get_house_data(house_link):\n",
    "    user_agent = next(user_agent_cycle)\n",
    "    \n",
    "    headers = {\n",
    "        \"Accept\": \"text/html,application/xhtml+xml,application/xml;q=0.9,image/avif,image/webp,image/apng,*/*;q=0.8,application/signed-exchange;v=b3;q=0.7\",\n",
    "        \"Accept-Language\": \"en-US,en;q=0.9\",\n",
    "        \"Cache-Control\": \"no-cache\",\n",
    "        \"Pragma\": \"no-cache\",\n",
    "        \"Sec-Ch-Ua\": '\"Chromium\";v=\"120\", \"Google Chrome\";v=\"120\", \"Not;A=Brand\";v=\"8\"',\n",
    "        \"Sec-Ch-Ua-Mobile\": \"?0\",\n",
    "        \"Sec-Ch-Ua-Platform\": '\"Windows\"',\n",
    "        \"Sec-Fetch-Dest\": \"document\",\n",
    "        \"Sec-Fetch-Mode\": \"navigate\",\n",
    "        \"Sec-Fetch-Site\": \"same-origin\",\n",
    "        \"Sec-Fetch-User\": \"?1\",\n",
    "        \"Upgrade-Insecure-Requests\": \"1\",\n",
    "        \"User-Agent\": ua.random,\n",
    "        \"Referer\": \"https://www.google.com/\",\n",
    "        \"Connection\": \"keep-alive\",\n",
    "        \"DNT\": \"1\",  \n",
    "    }   \n",
    "    try:\n",
    "        response = get(url=house_link, headers=headers)\n",
    "        response.raise_for_status()\n",
    "    except HTTPError as e:\n",
    "        return get_house_data(house_link)\n",
    "    except ConnectionError as e:\n",
    "        return get_house_data(house_link)\n",
    "    soup = BeautifulSoup(response.content, \"html.parser\")\n",
    "    selections = soup.select(\"#__NEXT_DATA__\")\n",
    "    if selections:\n",
    "        htmlData = soup.select(\"#__NEXT_DATA__\")[0].getText()\n",
    "        htmlData = remove_space(unescape(htmlData))\n",
    "        data = loads(htmlData)\n",
    "        property_json = get_nested_value(data,\"props.pageProps.componentProps.gdpClientCache\")\n",
    "        property_json = loads(property_json)\n",
    "        for data in property_json.values():\n",
    "            if \"property\" in str(data) :\n",
    "                parsed_data = data.get(\"property\")\n",
    "    return parsed_data\n",
    "\n",
    "\n",
    "def fetch_house_features(house_data):\n",
    "    feature_values = {} \n",
    "    \n",
    "    for feature in FEATURES:\n",
    "        feature_values[feature] = house_data.get(feature)\n",
    "        \n",
    "    for resofact in RESOFACTS:\n",
    "        feature_values[resofact] = house_data.get(\"resoFacts\", {}).get(resofact)\n",
    "        \n",
    "    sold_values = []\n",
    "    price_history = house_data.get('priceHistory')\n",
    "    for ph in price_history:\n",
    "        if ph.get('event') == 'Sold':\n",
    "            sold_values.append((ph.get('date'), ph.get('price')))\n",
    "    feature_values[\"sold-history\"] = sold_values[1:]\n",
    "    \n",
    "    return feature_values\n",
    "\n",
    "def scrape_house_data(house_link):\n",
    "    house_data = get_house_data(house_link)\n",
    "    return fetch_house_features(house_data)\n",
    "\n",
    "def convert_feature_values_to_csv_row(feature_values):\n",
    "    row = \"\"\n",
    "    for col in COLUMNS:\n",
    "        cell_value = feature_values.get(col, '')\n",
    "        if type(cell_value) == list:\n",
    "            cell_value = f'\"{cell_value}\"'\n",
    "        else:\n",
    "            cell_value = str(cell_value)\n",
    "            \n",
    "        row += f\"{cell_value},\"\n",
    "    return row\n",
    "        "
   ]
  },
  {
   "cell_type": "markdown",
   "metadata": {},
   "source": [
    "Now we write a function(`scrape_houses`) that scrape all of the links that we had found in the first part."
   ]
  },
  {
   "cell_type": "code",
   "execution_count": 7,
   "metadata": {},
   "outputs": [],
   "source": [
    "import tqdm\n",
    "import csv\n",
    "import time\n",
    "\n",
    "def scrape_houses(index, start_index = 0, end_index = -1):\n",
    "    input_file = open(f\"houses{index}.txt\", \"r\")\n",
    "    links = input_file.readlines()\n",
    "    input_file.close()\n",
    "    output_file = open(f\"houses.csv\", \"a+\")\n",
    "    if end_index == -1:\n",
    "        end_index = len(links)\n",
    "    for i in tqdm.tqdm(range(start_index, end_index)):\n",
    "        try:\n",
    "            house_data = scrape_house_data(links[i])\n",
    "            row = convert_feature_values_to_csv_row(house_data)\n",
    "            output_file.write(row + \"\\n\")\n",
    "        except Exception as e:\n",
    "            print(f\"error at index {i}\")\n",
    "            print(e)\n",
    "            output_file.close()\n",
    "            break\n",
    "    output_file.close()"
   ]
  },
  {
   "cell_type": "markdown",
   "metadata": {},
   "source": [
    "We also write a function to setup the csv file by writing the header of the csv file."
   ]
  },
  {
   "cell_type": "code",
   "execution_count": 6,
   "metadata": {},
   "outputs": [],
   "source": [
    "def setup_csv_file():\n",
    "    file = open(f\"houses.csv\", \"w\")\n",
    "    for col in COLUMNS:\n",
    "        file.write(f\"{col},\")\n",
    "    file.write(\"\\n\")\n",
    "    file.close()"
   ]
  },
  {
   "cell_type": "markdown",
   "metadata": {},
   "source": [
    "Now we call `scrape_houses` for each file that we had found in the first part to scrape the data of the houses."
   ]
  },
  {
   "cell_type": "code",
   "execution_count": null,
   "metadata": {},
   "outputs": [],
   "source": [
    "for i in range(8):\n",
    "    scrape_houses(i)"
   ]
  },
  {
   "cell_type": "markdown",
   "metadata": {},
   "source": [
    "We had a bug in our code that we could have comma in the data of one of the columns which would make the csv file to have more columns than we want. To solve this problem we put \" \" around the data of that specific column."
   ]
  },
  {
   "cell_type": "code",
   "execution_count": null,
   "metadata": {},
   "outputs": [],
   "source": [
    "import csv\n",
    "\n",
    "input_file = 'houses.csv'\n",
    "output_file = 'modified_data.csv'\n",
    "\n",
    "def is_number(s):\n",
    "    if s == 'None':\n",
    "        return True\n",
    "    try:\n",
    "        float(s)\n",
    "        return True\n",
    "    except ValueError:\n",
    "        return False\n",
    "\n",
    "def process_row(row):\n",
    "    while len(row) > 23 and not is_number(row[23]):\n",
    "        row[22] += ',' + row[23]\n",
    "        del row[23]\n",
    "    return row\n",
    "\n",
    "with open(input_file, 'r', newline='') as infile, open(output_file, 'w', newline='') as outfile:\n",
    "    reader = csv.reader(infile)\n",
    "    writer = csv.writer(outfile)\n",
    "    \n",
    "    header = next(reader)  \n",
    "    writer.writerow(header)\n",
    "    \n",
    "    for row in reader:\n",
    "        if len(row) > 23:\n",
    "            row = process_row(row)\n",
    "        writer.writerow(row)\n"
   ]
  },
  {
   "cell_type": "markdown",
   "metadata": {},
   "source": [
    "After the scraping the data we found out that we needed some more features to have a better dataset. We added the features that we needed to the code and scraped the remaining features like we did before."
   ]
  },
  {
   "cell_type": "code",
   "execution_count": null,
   "metadata": {},
   "outputs": [],
   "source": [
    "ADDITIONAL_FEATURES = ['parkingCapacity', 'hasCooling', 'hasHeating', 'hasFireplace', 'hasPrivatePool', 'hasSpa',\n",
    "                           'hasView', 'securityFeatures', ]\n",
    "\n",
    "def fetch_additional_features(house_data):\n",
    "    feature_values = {}\n",
    "            \n",
    "    for resofact in ADDITIONAL_FEATURES:\n",
    "        feature_values[resofact] = house_data.get(\"resoFacts\", {}).get(resofact)\n",
    "        \n",
    "    \n",
    "    return feature_values\n",
    "\n",
    "def convert_additional_features_to_csv(feature_values):\n",
    "    row = \"\"\n",
    "    for col in ADDITIONAL_FEATURES:\n",
    "        cell_value = feature_values.get(col, '')\n",
    "        if type(cell_value) == list:\n",
    "            cell_value = f'\"{cell_value}\"'\n",
    "        else:\n",
    "            cell_value = str(cell_value)\n",
    "            \n",
    "        row += f\"{cell_value},\"\n",
    "    return row\n",
    "\n",
    "def scrape_additional_features_data(house_link):\n",
    "    house_data = get_house_data(house_link)\n",
    "    return fetch_additional_features(house_data)\n",
    "\n",
    "def scrape_additional_features(index, start_index = 0, end_index = -1):\n",
    "    input_file = open(f\"houses{index}.txt\", \"r\")\n",
    "    prev_file = open(\"modified_data.csv\", \"r\")\n",
    "    data_prev = prev_file.readlines()\n",
    "    row_nums = [765, 759, 794, 795, 770, 711, 729, 283]\n",
    "    links = input_file.readlines()\n",
    "    input_file.close()\n",
    "    output_file = open(f\"modfied_data2.csv\", \"a+\")\n",
    "    if end_index == -1:\n",
    "        end_index = len(links)\n",
    "    for i in tqdm.tqdm(range(start_index, end_index)):\n",
    "        try:\n",
    "            house_data = scrape_additional_features_data(links[i])\n",
    "            row = convert_additional_features_to_csv(house_data)\n",
    "            row_num = sum(row_nums[:index]) + i + 1\n",
    "            row_before = data_prev[row_num]\n",
    "            output_file.write(row_before[:-1] + row + \"\\n\")\n",
    "        except Exception as e:\n",
    "            print(f\"error at index {i}\")\n",
    "            print(e)\n",
    "            output_file.close()\n",
    "            break\n",
    "    output_file.close()\n",
    "    \n",
    "def setup_additional_csv_file():\n",
    "    file = open(f\"modfied_data2.csv\", \"w\")\n",
    "    for col in COLUMNS:\n",
    "        file.write(f\"{col},\")\n",
    "    for col in ADDITIONAL_FEATURES:\n",
    "        file.write(f\"{col},\")\n",
    "    file.write(\"\\n\")\n",
    "    file.close()\n"
   ]
  },
  {
   "cell_type": "code",
   "execution_count": 41,
   "metadata": {},
   "outputs": [
    {
     "name": "stderr",
     "output_type": "stream",
     "text": [
      "  0%|          | 0/759 [00:00<?, ?it/s]"
     ]
    },
    {
     "name": "stderr",
     "output_type": "stream",
     "text": [
      "100%|██████████| 759/759 [36:55<00:00,  2.92s/it]\n",
      "100%|██████████| 794/794 [37:06<00:00,  2.80s/it]\n",
      "100%|██████████| 795/795 [34:34<00:00,  2.61s/it]\n",
      "100%|██████████| 770/770 [37:54<00:00,  2.95s/it]  \n",
      "100%|██████████| 711/711 [45:32<00:00,  3.84s/it]  \n",
      "100%|██████████| 729/729 [31:20<00:00,  2.58s/it]\n",
      "100%|██████████| 283/283 [21:43<00:00,  4.61s/it]\n"
     ]
    }
   ],
   "source": [
    "for i in range(1, 8):\n",
    "    scrape_additional_features(i)"
   ]
  }
 ],
 "metadata": {
  "kernelspec": {
   "display_name": "Python 3",
   "language": "python",
   "name": "python3"
  },
  "language_info": {
   "codemirror_mode": {
    "name": "ipython",
    "version": 3
   },
   "file_extension": ".py",
   "mimetype": "text/x-python",
   "name": "python",
   "nbconvert_exporter": "python",
   "pygments_lexer": "ipython3",
   "version": "3.10.6"
  }
 },
 "nbformat": 4,
 "nbformat_minor": 2
}

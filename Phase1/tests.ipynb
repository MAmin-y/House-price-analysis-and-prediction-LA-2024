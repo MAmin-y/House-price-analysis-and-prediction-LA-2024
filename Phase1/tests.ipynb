{
 "cells": [
  {
   "cell_type": "markdown",
   "metadata": {},
   "source": [
    "## Statistical Tests\n",
    "\n",
    "In this part, We will use some statistical tests to gain more information about the features and the relationships between them. We will use the following methods:\n",
    "\n",
    "* Paired T-Test\n",
    "* Independent T-Test\n",
    "* Confidence Interval\n",
    "* Chi-Square Test\n",
    "* Cranmer's V and Phi Coefficient"
   ]
  },
  {
   "cell_type": "markdown",
   "metadata": {},
   "source": [
    "First we load the data from the previous parts and take a look at its general information."
   ]
  },
  {
   "cell_type": "code",
   "execution_count": 47,
   "metadata": {},
   "outputs": [],
   "source": [
    "import pandas as pd  \n",
    "\n",
    "df = pd.read_csv(\"data_without_price_outliers.csv\")"
   ]
  },
  {
   "cell_type": "code",
   "execution_count": 48,
   "metadata": {},
   "outputs": [
    {
     "data": {
      "text/html": [
       "<div>\n",
       "<style scoped>\n",
       "    .dataframe tbody tr th:only-of-type {\n",
       "        vertical-align: middle;\n",
       "    }\n",
       "\n",
       "    .dataframe tbody tr th {\n",
       "        vertical-align: top;\n",
       "    }\n",
       "\n",
       "    .dataframe thead th {\n",
       "        text-align: right;\n",
       "    }\n",
       "</style>\n",
       "<table border=\"1\" class=\"dataframe\">\n",
       "  <thead>\n",
       "    <tr style=\"text-align: right;\">\n",
       "      <th></th>\n",
       "      <th>zipcode</th>\n",
       "      <th>streetAddress</th>\n",
       "      <th>homeType</th>\n",
       "      <th>yearBuilt</th>\n",
       "      <th>lotAreaValue</th>\n",
       "      <th>livingAreaValue</th>\n",
       "      <th>bedrooms</th>\n",
       "      <th>bathrooms</th>\n",
       "      <th>stories</th>\n",
       "      <th>flooring</th>\n",
       "      <th>...</th>\n",
       "      <th>hasCooling</th>\n",
       "      <th>hasHeating</th>\n",
       "      <th>hasFireplace</th>\n",
       "      <th>hasPrivatePool</th>\n",
       "      <th>hasSpa</th>\n",
       "      <th>hasView</th>\n",
       "      <th>log_lotAreaValue</th>\n",
       "      <th>log_livingAreaValue</th>\n",
       "      <th>log_price</th>\n",
       "      <th>log_taxAssessedValue</th>\n",
       "    </tr>\n",
       "  </thead>\n",
       "  <tbody>\n",
       "    <tr>\n",
       "      <th>0</th>\n",
       "      <td>90210</td>\n",
       "      <td>10100 Angelo Cir</td>\n",
       "      <td>SINGLE_FAMILY</td>\n",
       "      <td>2009</td>\n",
       "      <td>1041.815612</td>\n",
       "      <td>596.901775</td>\n",
       "      <td>5</td>\n",
       "      <td>7.0</td>\n",
       "      <td>1.0</td>\n",
       "      <td>['Tile']</td>\n",
       "      <td>...</td>\n",
       "      <td>1</td>\n",
       "      <td>1</td>\n",
       "      <td>1</td>\n",
       "      <td>0</td>\n",
       "      <td>0</td>\n",
       "      <td>1</td>\n",
       "      <td>3.017791</td>\n",
       "      <td>2.775903</td>\n",
       "      <td>4.556303</td>\n",
       "      <td>6.839742</td>\n",
       "    </tr>\n",
       "    <tr>\n",
       "      <th>1</th>\n",
       "      <td>90044</td>\n",
       "      <td>948 W 61st St</td>\n",
       "      <td>MULTI_FAMILY</td>\n",
       "      <td>2008</td>\n",
       "      <td>483.281406</td>\n",
       "      <td>78.410132</td>\n",
       "      <td>2</td>\n",
       "      <td>1.0</td>\n",
       "      <td>1.0</td>\n",
       "      <td>[]</td>\n",
       "      <td>...</td>\n",
       "      <td>0</td>\n",
       "      <td>0</td>\n",
       "      <td>0</td>\n",
       "      <td>0</td>\n",
       "      <td>0</td>\n",
       "      <td>0</td>\n",
       "      <td>2.684200</td>\n",
       "      <td>1.894372</td>\n",
       "      <td>4.648360</td>\n",
       "      <td>5.958711</td>\n",
       "    </tr>\n",
       "    <tr>\n",
       "      <th>2</th>\n",
       "      <td>91352</td>\n",
       "      <td>10159 Colwell Dr</td>\n",
       "      <td>SINGLE_FAMILY</td>\n",
       "      <td>1943</td>\n",
       "      <td>535.957407</td>\n",
       "      <td>107.210062</td>\n",
       "      <td>3</td>\n",
       "      <td>1.0</td>\n",
       "      <td>1.0</td>\n",
       "      <td>['Carpet', 'Vinyl', 'Wood']</td>\n",
       "      <td>...</td>\n",
       "      <td>0</td>\n",
       "      <td>1</td>\n",
       "      <td>0</td>\n",
       "      <td>0</td>\n",
       "      <td>0</td>\n",
       "      <td>1</td>\n",
       "      <td>2.729130</td>\n",
       "      <td>2.030236</td>\n",
       "      <td>5.093422</td>\n",
       "      <td>5.856789</td>\n",
       "    </tr>\n",
       "    <tr>\n",
       "      <th>3</th>\n",
       "      <td>91605</td>\n",
       "      <td>8250 Lankershim Blvd</td>\n",
       "      <td>MANUFACTURED</td>\n",
       "      <td>1990</td>\n",
       "      <td>111.483600</td>\n",
       "      <td>69.677250</td>\n",
       "      <td>2</td>\n",
       "      <td>2.0</td>\n",
       "      <td>1.0</td>\n",
       "      <td>['Laminate']</td>\n",
       "      <td>...</td>\n",
       "      <td>1</td>\n",
       "      <td>1</td>\n",
       "      <td>0</td>\n",
       "      <td>0</td>\n",
       "      <td>1</td>\n",
       "      <td>1</td>\n",
       "      <td>2.047211</td>\n",
       "      <td>1.843091</td>\n",
       "      <td>5.130334</td>\n",
       "      <td>4.251881</td>\n",
       "    </tr>\n",
       "    <tr>\n",
       "      <th>4</th>\n",
       "      <td>91304</td>\n",
       "      <td>8811 Canoga Ave SPACE 535</td>\n",
       "      <td>MANUFACTURED</td>\n",
       "      <td>1971</td>\n",
       "      <td>82058.180220</td>\n",
       "      <td>124.861632</td>\n",
       "      <td>2</td>\n",
       "      <td>2.0</td>\n",
       "      <td>1.0</td>\n",
       "      <td>[]</td>\n",
       "      <td>...</td>\n",
       "      <td>1</td>\n",
       "      <td>1</td>\n",
       "      <td>0</td>\n",
       "      <td>0</td>\n",
       "      <td>0</td>\n",
       "      <td>1</td>\n",
       "      <td>4.914122</td>\n",
       "      <td>2.096429</td>\n",
       "      <td>4.929419</td>\n",
       "      <td>5.641439</td>\n",
       "    </tr>\n",
       "  </tbody>\n",
       "</table>\n",
       "<p>5 rows × 29 columns</p>\n",
       "</div>"
      ],
      "text/plain": [
       "   zipcode              streetAddress       homeType  yearBuilt  lotAreaValue  \\\n",
       "0    90210           10100 Angelo Cir  SINGLE_FAMILY       2009   1041.815612   \n",
       "1    90044              948 W 61st St   MULTI_FAMILY       2008    483.281406   \n",
       "2    91352           10159 Colwell Dr  SINGLE_FAMILY       1943    535.957407   \n",
       "3    91605       8250 Lankershim Blvd   MANUFACTURED       1990    111.483600   \n",
       "4    91304  8811 Canoga Ave SPACE 535   MANUFACTURED       1971  82058.180220   \n",
       "\n",
       "   livingAreaValue  bedrooms  bathrooms  stories                     flooring  \\\n",
       "0       596.901775         5        7.0      1.0                     ['Tile']   \n",
       "1        78.410132         2        1.0      1.0                           []   \n",
       "2       107.210062         3        1.0      1.0  ['Carpet', 'Vinyl', 'Wood']   \n",
       "3        69.677250         2        2.0      1.0                 ['Laminate']   \n",
       "4       124.861632         2        2.0      1.0                           []   \n",
       "\n",
       "   ... hasCooling hasHeating  hasFireplace  hasPrivatePool  hasSpa  hasView  \\\n",
       "0  ...          1          1             1               0       0        1   \n",
       "1  ...          0          0             0               0       0        0   \n",
       "2  ...          0          1             0               0       0        1   \n",
       "3  ...          1          1             0               0       1        1   \n",
       "4  ...          1          1             0               0       0        1   \n",
       "\n",
       "  log_lotAreaValue  log_livingAreaValue  log_price  log_taxAssessedValue  \n",
       "0         3.017791             2.775903   4.556303              6.839742  \n",
       "1         2.684200             1.894372   4.648360              5.958711  \n",
       "2         2.729130             2.030236   5.093422              5.856789  \n",
       "3         2.047211             1.843091   5.130334              4.251881  \n",
       "4         4.914122             2.096429   4.929419              5.641439  \n",
       "\n",
       "[5 rows x 29 columns]"
      ]
     },
     "execution_count": 48,
     "metadata": {},
     "output_type": "execute_result"
    }
   ],
   "source": [
    "df.head()"
   ]
  },
  {
   "cell_type": "code",
   "execution_count": 49,
   "metadata": {},
   "outputs": [
    {
     "data": {
      "text/html": [
       "<div>\n",
       "<style scoped>\n",
       "    .dataframe tbody tr th:only-of-type {\n",
       "        vertical-align: middle;\n",
       "    }\n",
       "\n",
       "    .dataframe tbody tr th {\n",
       "        vertical-align: top;\n",
       "    }\n",
       "\n",
       "    .dataframe thead th {\n",
       "        text-align: right;\n",
       "    }\n",
       "</style>\n",
       "<table border=\"1\" class=\"dataframe\">\n",
       "  <thead>\n",
       "    <tr style=\"text-align: right;\">\n",
       "      <th></th>\n",
       "      <th>zipcode</th>\n",
       "      <th>yearBuilt</th>\n",
       "      <th>lotAreaValue</th>\n",
       "      <th>livingAreaValue</th>\n",
       "      <th>bedrooms</th>\n",
       "      <th>bathrooms</th>\n",
       "      <th>stories</th>\n",
       "      <th>fireplaceFeatures</th>\n",
       "      <th>taxAssessedValue</th>\n",
       "      <th>zestimate</th>\n",
       "      <th>...</th>\n",
       "      <th>hasCooling</th>\n",
       "      <th>hasHeating</th>\n",
       "      <th>hasFireplace</th>\n",
       "      <th>hasPrivatePool</th>\n",
       "      <th>hasSpa</th>\n",
       "      <th>hasView</th>\n",
       "      <th>log_lotAreaValue</th>\n",
       "      <th>log_livingAreaValue</th>\n",
       "      <th>log_price</th>\n",
       "      <th>log_taxAssessedValue</th>\n",
       "    </tr>\n",
       "  </thead>\n",
       "  <tbody>\n",
       "    <tr>\n",
       "      <th>count</th>\n",
       "      <td>4735.000000</td>\n",
       "      <td>4735.000000</td>\n",
       "      <td>4735.000000</td>\n",
       "      <td>4735.000000</td>\n",
       "      <td>4735.000000</td>\n",
       "      <td>4735.000000</td>\n",
       "      <td>4735.000000</td>\n",
       "      <td>4735.000000</td>\n",
       "      <td>4.735000e+03</td>\n",
       "      <td>4.735000e+03</td>\n",
       "      <td>...</td>\n",
       "      <td>4735.000000</td>\n",
       "      <td>4735.000000</td>\n",
       "      <td>4735.000000</td>\n",
       "      <td>4735.000000</td>\n",
       "      <td>4735.000000</td>\n",
       "      <td>4735.000000</td>\n",
       "      <td>4735.000000</td>\n",
       "      <td>4735.000000</td>\n",
       "      <td>4735.000000</td>\n",
       "      <td>4735.000000</td>\n",
       "    </tr>\n",
       "    <tr>\n",
       "      <th>mean</th>\n",
       "      <td>90668.165998</td>\n",
       "      <td>1961.499894</td>\n",
       "      <td>2871.939986</td>\n",
       "      <td>186.919456</td>\n",
       "      <td>3.378458</td>\n",
       "      <td>2.809345</td>\n",
       "      <td>1.317423</td>\n",
       "      <td>0.544456</td>\n",
       "      <td>7.851525e+05</td>\n",
       "      <td>1.434810e+06</td>\n",
       "      <td>...</td>\n",
       "      <td>0.805913</td>\n",
       "      <td>0.885533</td>\n",
       "      <td>0.561985</td>\n",
       "      <td>0.109820</td>\n",
       "      <td>0.115100</td>\n",
       "      <td>0.844562</td>\n",
       "      <td>3.032504</td>\n",
       "      <td>2.206296</td>\n",
       "      <td>6.046425</td>\n",
       "      <td>5.681535</td>\n",
       "    </tr>\n",
       "    <tr>\n",
       "      <th>std</th>\n",
       "      <td>648.482534</td>\n",
       "      <td>29.535432</td>\n",
       "      <td>6969.945597</td>\n",
       "      <td>125.664397</td>\n",
       "      <td>2.147488</td>\n",
       "      <td>1.985461</td>\n",
       "      <td>0.584245</td>\n",
       "      <td>0.498072</td>\n",
       "      <td>1.080504e+06</td>\n",
       "      <td>1.427162e+06</td>\n",
       "      <td>...</td>\n",
       "      <td>0.395538</td>\n",
       "      <td>0.318411</td>\n",
       "      <td>0.496195</td>\n",
       "      <td>0.312699</td>\n",
       "      <td>0.319177</td>\n",
       "      <td>0.362360</td>\n",
       "      <td>0.490648</td>\n",
       "      <td>0.225559</td>\n",
       "      <td>0.273690</td>\n",
       "      <td>0.442529</td>\n",
       "    </tr>\n",
       "    <tr>\n",
       "      <th>min</th>\n",
       "      <td>90001.000000</td>\n",
       "      <td>1885.000000</td>\n",
       "      <td>72.371437</td>\n",
       "      <td>16.722540</td>\n",
       "      <td>0.000000</td>\n",
       "      <td>0.000000</td>\n",
       "      <td>0.000000</td>\n",
       "      <td>0.000000</td>\n",
       "      <td>9.010000e+03</td>\n",
       "      <td>3.700000e+04</td>\n",
       "      <td>...</td>\n",
       "      <td>0.000000</td>\n",
       "      <td>0.000000</td>\n",
       "      <td>0.000000</td>\n",
       "      <td>0.000000</td>\n",
       "      <td>0.000000</td>\n",
       "      <td>0.000000</td>\n",
       "      <td>1.859567</td>\n",
       "      <td>1.223302</td>\n",
       "      <td>4.556303</td>\n",
       "      <td>3.954725</td>\n",
       "    </tr>\n",
       "    <tr>\n",
       "      <th>25%</th>\n",
       "      <td>90041.500000</td>\n",
       "      <td>1941.000000</td>\n",
       "      <td>555.430805</td>\n",
       "      <td>114.828108</td>\n",
       "      <td>2.000000</td>\n",
       "      <td>2.000000</td>\n",
       "      <td>1.000000</td>\n",
       "      <td>0.000000</td>\n",
       "      <td>2.612390e+05</td>\n",
       "      <td>7.557000e+05</td>\n",
       "      <td>...</td>\n",
       "      <td>1.000000</td>\n",
       "      <td>1.000000</td>\n",
       "      <td>0.000000</td>\n",
       "      <td>0.000000</td>\n",
       "      <td>0.000000</td>\n",
       "      <td>1.000000</td>\n",
       "      <td>2.744630</td>\n",
       "      <td>2.060048</td>\n",
       "      <td>5.866287</td>\n",
       "      <td>5.417038</td>\n",
       "    </tr>\n",
       "    <tr>\n",
       "      <th>50%</th>\n",
       "      <td>90291.000000</td>\n",
       "      <td>1957.000000</td>\n",
       "      <td>701.046038</td>\n",
       "      <td>152.546726</td>\n",
       "      <td>3.000000</td>\n",
       "      <td>2.000000</td>\n",
       "      <td>1.000000</td>\n",
       "      <td>1.000000</td>\n",
       "      <td>5.307740e+05</td>\n",
       "      <td>1.030800e+06</td>\n",
       "      <td>...</td>\n",
       "      <td>1.000000</td>\n",
       "      <td>1.000000</td>\n",
       "      <td>1.000000</td>\n",
       "      <td>0.000000</td>\n",
       "      <td>0.000000</td>\n",
       "      <td>1.000000</td>\n",
       "      <td>2.845747</td>\n",
       "      <td>2.183403</td>\n",
       "      <td>6.000000</td>\n",
       "      <td>5.724910</td>\n",
       "    </tr>\n",
       "    <tr>\n",
       "      <th>75%</th>\n",
       "      <td>91342.000000</td>\n",
       "      <td>1980.000000</td>\n",
       "      <td>1557.892455</td>\n",
       "      <td>213.444642</td>\n",
       "      <td>4.000000</td>\n",
       "      <td>3.000000</td>\n",
       "      <td>2.000000</td>\n",
       "      <td>1.000000</td>\n",
       "      <td>9.066600e+05</td>\n",
       "      <td>1.603150e+06</td>\n",
       "      <td>...</td>\n",
       "      <td>1.000000</td>\n",
       "      <td>1.000000</td>\n",
       "      <td>1.000000</td>\n",
       "      <td>0.000000</td>\n",
       "      <td>0.000000</td>\n",
       "      <td>1.000000</td>\n",
       "      <td>3.192537</td>\n",
       "      <td>2.329285</td>\n",
       "      <td>6.197281</td>\n",
       "      <td>5.957444</td>\n",
       "    </tr>\n",
       "    <tr>\n",
       "      <th>max</th>\n",
       "      <td>91607.000000</td>\n",
       "      <td>2024.000000</td>\n",
       "      <td>82058.180220</td>\n",
       "      <td>1246.944066</td>\n",
       "      <td>72.000000</td>\n",
       "      <td>38.000000</td>\n",
       "      <td>6.000000</td>\n",
       "      <td>1.000000</td>\n",
       "      <td>2.264544e+07</td>\n",
       "      <td>2.351180e+07</td>\n",
       "      <td>...</td>\n",
       "      <td>1.000000</td>\n",
       "      <td>1.000000</td>\n",
       "      <td>1.000000</td>\n",
       "      <td>1.000000</td>\n",
       "      <td>1.000000</td>\n",
       "      <td>1.000000</td>\n",
       "      <td>4.914122</td>\n",
       "      <td>3.095847</td>\n",
       "      <td>7.374748</td>\n",
       "      <td>7.354981</td>\n",
       "    </tr>\n",
       "  </tbody>\n",
       "</table>\n",
       "<p>8 rows × 23 columns</p>\n",
       "</div>"
      ],
      "text/plain": [
       "            zipcode    yearBuilt  lotAreaValue  livingAreaValue     bedrooms  \\\n",
       "count   4735.000000  4735.000000   4735.000000      4735.000000  4735.000000   \n",
       "mean   90668.165998  1961.499894   2871.939986       186.919456     3.378458   \n",
       "std      648.482534    29.535432   6969.945597       125.664397     2.147488   \n",
       "min    90001.000000  1885.000000     72.371437        16.722540     0.000000   \n",
       "25%    90041.500000  1941.000000    555.430805       114.828108     2.000000   \n",
       "50%    90291.000000  1957.000000    701.046038       152.546726     3.000000   \n",
       "75%    91342.000000  1980.000000   1557.892455       213.444642     4.000000   \n",
       "max    91607.000000  2024.000000  82058.180220      1246.944066    72.000000   \n",
       "\n",
       "         bathrooms      stories  fireplaceFeatures  taxAssessedValue  \\\n",
       "count  4735.000000  4735.000000        4735.000000      4.735000e+03   \n",
       "mean      2.809345     1.317423           0.544456      7.851525e+05   \n",
       "std       1.985461     0.584245           0.498072      1.080504e+06   \n",
       "min       0.000000     0.000000           0.000000      9.010000e+03   \n",
       "25%       2.000000     1.000000           0.000000      2.612390e+05   \n",
       "50%       2.000000     1.000000           1.000000      5.307740e+05   \n",
       "75%       3.000000     2.000000           1.000000      9.066600e+05   \n",
       "max      38.000000     6.000000           1.000000      2.264544e+07   \n",
       "\n",
       "          zestimate  ...   hasCooling   hasHeating  hasFireplace  \\\n",
       "count  4.735000e+03  ...  4735.000000  4735.000000   4735.000000   \n",
       "mean   1.434810e+06  ...     0.805913     0.885533      0.561985   \n",
       "std    1.427162e+06  ...     0.395538     0.318411      0.496195   \n",
       "min    3.700000e+04  ...     0.000000     0.000000      0.000000   \n",
       "25%    7.557000e+05  ...     1.000000     1.000000      0.000000   \n",
       "50%    1.030800e+06  ...     1.000000     1.000000      1.000000   \n",
       "75%    1.603150e+06  ...     1.000000     1.000000      1.000000   \n",
       "max    2.351180e+07  ...     1.000000     1.000000      1.000000   \n",
       "\n",
       "       hasPrivatePool       hasSpa      hasView  log_lotAreaValue  \\\n",
       "count     4735.000000  4735.000000  4735.000000       4735.000000   \n",
       "mean         0.109820     0.115100     0.844562          3.032504   \n",
       "std          0.312699     0.319177     0.362360          0.490648   \n",
       "min          0.000000     0.000000     0.000000          1.859567   \n",
       "25%          0.000000     0.000000     1.000000          2.744630   \n",
       "50%          0.000000     0.000000     1.000000          2.845747   \n",
       "75%          0.000000     0.000000     1.000000          3.192537   \n",
       "max          1.000000     1.000000     1.000000          4.914122   \n",
       "\n",
       "       log_livingAreaValue    log_price  log_taxAssessedValue  \n",
       "count          4735.000000  4735.000000           4735.000000  \n",
       "mean              2.206296     6.046425              5.681535  \n",
       "std               0.225559     0.273690              0.442529  \n",
       "min               1.223302     4.556303              3.954725  \n",
       "25%               2.060048     5.866287              5.417038  \n",
       "50%               2.183403     6.000000              5.724910  \n",
       "75%               2.329285     6.197281              5.957444  \n",
       "max               3.095847     7.374748              7.354981  \n",
       "\n",
       "[8 rows x 23 columns]"
      ]
     },
     "execution_count": 49,
     "metadata": {},
     "output_type": "execute_result"
    }
   ],
   "source": [
    "df.describe()"
   ]
  },
  {
   "cell_type": "code",
   "execution_count": 50,
   "metadata": {},
   "outputs": [
    {
     "name": "stdout",
     "output_type": "stream",
     "text": [
      "<class 'pandas.core.frame.DataFrame'>\n",
      "RangeIndex: 4735 entries, 0 to 4734\n",
      "Data columns (total 29 columns):\n",
      " #   Column                Non-Null Count  Dtype  \n",
      "---  ------                --------------  -----  \n",
      " 0   zipcode               4735 non-null   int64  \n",
      " 1   streetAddress         4735 non-null   object \n",
      " 2   homeType              4735 non-null   object \n",
      " 3   yearBuilt             4735 non-null   int64  \n",
      " 4   lotAreaValue          4735 non-null   float64\n",
      " 5   livingAreaValue       4735 non-null   float64\n",
      " 6   bedrooms              4735 non-null   int64  \n",
      " 7   bathrooms             4735 non-null   float64\n",
      " 8   stories               4735 non-null   float64\n",
      " 9   flooring              4735 non-null   object \n",
      " 10  heating               4735 non-null   object \n",
      " 11  cooling               4735 non-null   object \n",
      " 12  fireplaceFeatures     4735 non-null   int64  \n",
      " 13  taxAssessedValue      4735 non-null   float64\n",
      " 14  zestimate             4735 non-null   float64\n",
      " 15  rentZestimate         4735 non-null   float64\n",
      " 16  sold-history          4735 non-null   object \n",
      " 17  price                 4735 non-null   int64  \n",
      " 18  parkingCapacity       4735 non-null   int64  \n",
      " 19  hasCooling            4735 non-null   int64  \n",
      " 20  hasHeating            4735 non-null   int64  \n",
      " 21  hasFireplace          4735 non-null   int64  \n",
      " 22  hasPrivatePool        4735 non-null   int64  \n",
      " 23  hasSpa                4735 non-null   int64  \n",
      " 24  hasView               4735 non-null   int64  \n",
      " 25  log_lotAreaValue      4735 non-null   float64\n",
      " 26  log_livingAreaValue   4735 non-null   float64\n",
      " 27  log_price             4735 non-null   float64\n",
      " 28  log_taxAssessedValue  4735 non-null   float64\n",
      "dtypes: float64(11), int64(12), object(6)\n",
      "memory usage: 1.0+ MB\n"
     ]
    }
   ],
   "source": [
    "df.info()"
   ]
  },
  {
   "cell_type": "code",
   "execution_count": 51,
   "metadata": {},
   "outputs": [
    {
     "data": {
      "text/plain": [
       "Index(['zipcode', 'streetAddress', 'homeType', 'yearBuilt', 'lotAreaValue',\n",
       "       'livingAreaValue', 'bedrooms', 'bathrooms', 'stories', 'flooring',\n",
       "       'heating', 'cooling', 'fireplaceFeatures', 'taxAssessedValue',\n",
       "       'zestimate', 'rentZestimate', 'sold-history', 'price',\n",
       "       'parkingCapacity', 'hasCooling', 'hasHeating', 'hasFireplace',\n",
       "       'hasPrivatePool', 'hasSpa', 'hasView', 'log_lotAreaValue',\n",
       "       'log_livingAreaValue', 'log_price', 'log_taxAssessedValue'],\n",
       "      dtype='object')"
      ]
     },
     "execution_count": 51,
     "metadata": {},
     "output_type": "execute_result"
    }
   ],
   "source": [
    "df.columns"
   ]
  },
  {
   "cell_type": "markdown",
   "metadata": {},
   "source": [
    "### Paired T-Test\n",
    "\n",
    "The paired T-Test is used to determine whether the mean of the differences between two paired samples is significantly different from zero. We can use this test to determine if zestimate and price are significantly different from each other.\n",
    "\n",
    "We will use the log of the price and zestimate as they are not normally distributed."
   ]
  },
  {
   "cell_type": "markdown",
   "metadata": {},
   "source": [
    "Before we start, we remove the rows that have null zestimates."
   ]
  },
  {
   "cell_type": "code",
   "execution_count": 52,
   "metadata": {},
   "outputs": [
    {
     "data": {
      "text/plain": [
       "TtestResult(statistic=-24.582388017565115, pvalue=1.0972092534234243e-125, df=4734)"
      ]
     },
     "execution_count": 52,
     "metadata": {},
     "output_type": "execute_result"
    }
   ],
   "source": [
    "from scipy.stats import ttest_rel\n",
    "import numpy as np\n",
    "\n",
    "res = ttest_rel(df['log_price'], np.log10(df['zestimate']))\n",
    "res"
   ]
  },
  {
   "cell_type": "markdown",
   "metadata": {},
   "source": [
    "As you can see the p-value is almost zero so according it we can reject the null hypothesis and say that the difference between zestimate and price is significant, but if we plot the distributions of zestimate and price we can see that the difference is not that significant. We also plot the distribution of (zestimate - price) and again we can see that the difference is not that significant."
   ]
  },
  {
   "cell_type": "code",
   "execution_count": 53,
   "metadata": {},
   "outputs": [
    {
     "data": {
      "image/png": "[encoded data removed]",
      "text/plain": [
       "<Figure size 1200x600 with 1 Axes>"
      ]
     },
     "metadata": {},
     "output_type": "display_data"
    }
   ],
   "source": [
    "import matplotlib.pyplot as plt\n",
    "import seaborn as sns\n",
    "\n",
    "sns.set_style('whitegrid')\n",
    "\n",
    "plt.figure(figsize=(12, 6))\n",
    "sns.histplot(df['log_price'], color='blue', label='log_price', kde=True)\n",
    "sns.histplot(np.log10(df['zestimate']), color='red', label='log10(zestimate)', kde=True)\n",
    "plt.legend()\n",
    "plt.title('Distributions of log_price and log10(zestimate)')\n",
    "plt.xlabel('Log Value')\n",
    "plt.ylabel('Frequency')\n",
    "plt.show()\n"
   ]
  },
  {
   "cell_type": "code",
   "execution_count": 54,
   "metadata": {},
   "outputs": [
    {
     "data": {
      "image/png": "[encoded data removed]",
      "text/plain": [
       "<Figure size 1200x600 with 1 Axes>"
      ]
     },
     "metadata": {},
     "output_type": "display_data"
    }
   ],
   "source": [
    "df['log_diff'] = df['log_price'] - np.log10(df['zestimate'])\n",
    "\n",
    "plt.figure(figsize=(12, 6))\n",
    "sns.histplot(df['log_diff'], bins=50, kde=True)\n",
    "plt.title('Difference between log_price and log10(zestimate)')\n",
    "plt.xlabel('log_price - log10(zestimate)')\n",
    "plt.ylabel('Frequency')\n",
    "plt.show()\n"
   ]
  },
  {
   "cell_type": "markdown",
   "metadata": {},
   "source": [
    "In this case we have statistical significance but not practical significance. The reason for this is that the sample size is very large and it captures even the smallest differences:\n",
    "\n",
    "$$s_D^2 = \\frac{1}{n-1} \\sum_{i=1}^n (D_i - \\bar{D})^2$$\n",
    "\n",
    "$$t = \\frac{\\bar{D}}{s_D / \\sqrt{n}}$$\n",
    "\n",
    "from the above formula we can see that when n is large the t value will be large even if the difference is small.\n",
    "\n",
    "\n"
   ]
  },
  {
   "cell_type": "markdown",
   "metadata": {},
   "source": [
    "We can use another method called `effect size` which shows the practical significance of a difference. We can use Cohen's d for this purpose. Cohen's d is calculated as below:\n",
    "\n",
    "$$d = \\frac{\\bar{x}_1 - \\bar{x}_2}{s}$$\n",
    "\n",
    "where $s = \\sqrt{\\frac{s_1^2 + s_2^2}{2}}$\n"
   ]
  },
  {
   "cell_type": "code",
   "execution_count": 55,
   "metadata": {},
   "outputs": [
    {
     "data": {
      "text/plain": [
       "-0.030828477386641125"
      ]
     },
     "execution_count": 55,
     "metadata": {},
     "output_type": "execute_result"
    }
   ],
   "source": [
    "s = np.sqrt(df[\"log_price\"].std()**2 + np.log10(df[\"zestimate\"]).std()**2 / 2)\n",
    "cohen_d = (df['log_price'].mean() - np.log10(df['zestimate']).mean()) / s\n",
    "cohen_d"
   ]
  },
  {
   "cell_type": "markdown",
   "metadata": {},
   "source": [
    "We can see that the effect size is very small which means that the practical difference between zestimate and price is very small. "
   ]
  },
  {
   "cell_type": "markdown",
   "metadata": {},
   "source": [
    "In order to reduce the effect of large sample size, we took a smaller sample from our population and repeated the test. We can see that the p-value is still very small and it did not change and the effect size is still very small.  "
   ]
  },
  {
   "cell_type": "code",
   "execution_count": 56,
   "metadata": {},
   "outputs": [],
   "source": [
    "SAMPLE_PORTION = 0.1\n",
    "\n",
    "sample = df.sample(frac=SAMPLE_PORTION, random_state=42)"
   ]
  },
  {
   "cell_type": "code",
   "execution_count": 57,
   "metadata": {},
   "outputs": [
    {
     "data": {
      "text/plain": [
       "TtestResult(statistic=-7.091243575365157, pvalue=4.871078799286413e-12, df=473)"
      ]
     },
     "execution_count": 57,
     "metadata": {},
     "output_type": "execute_result"
    }
   ],
   "source": [
    "from scipy.stats import ttest_rel\n",
    "import numpy as np\n",
    "\n",
    "res = ttest_rel(sample['log_price'], np.log10(sample['zestimate']))\n",
    "res"
   ]
  },
  {
   "cell_type": "code",
   "execution_count": 58,
   "metadata": {},
   "outputs": [
    {
     "data": {
      "text/plain": [
       "-0.029826090389680895"
      ]
     },
     "execution_count": 58,
     "metadata": {},
     "output_type": "execute_result"
    }
   ],
   "source": [
    "s = np.sqrt(sample[\"log_price\"].std()**2 + np.log10(sample[\"zestimate\"]).std()**2 / 2)\n",
    "cohen_d = sample['log_diff'].mean() / s\n",
    "cohen_d"
   ]
  },
  {
   "cell_type": "markdown",
   "metadata": {},
   "source": [
    "We also repeat the process with the difference between price and zestimate itself(rather than the log of them) and we can see that the p-value is still very small and the effect size is still very small."
   ]
  },
  {
   "cell_type": "code",
   "execution_count": 59,
   "metadata": {},
   "outputs": [
    {
     "data": {
      "text/plain": [
       "TtestResult(statistic=-7.217583895966474, pvalue=2.1220583558294986e-12, df=473)"
      ]
     },
     "execution_count": 59,
     "metadata": {},
     "output_type": "execute_result"
    }
   ],
   "source": [
    "from scipy.stats import ttest_rel\n",
    "import numpy as np\n",
    "\n",
    "res = ttest_rel(sample['price'], sample['zestimate'])\n",
    "res"
   ]
  },
  {
   "cell_type": "code",
   "execution_count": 60,
   "metadata": {},
   "outputs": [],
   "source": [
    "cohen_d = sample['price'].mean() / sample['price'].std()"
   ]
  },
  {
   "cell_type": "markdown",
   "metadata": {},
   "source": [
    "The final method we used is the confidence interval. We use the 95% confidence interval to see if the difference between zestimate and price is significant. From the confidence interval we can see that although 0 doesn't lie in the interval, the distance between the lower bound and 0 is very small which means that the difference is not that significant."
   ]
  },
  {
   "cell_type": "code",
   "execution_count": 61,
   "metadata": {},
   "outputs": [
    {
     "name": "stdout",
     "output_type": "stream",
     "text": [
      "-0.01111150192078154 -0.009470457290506596\n",
      "The null hypothesis that the means are equal can be rejected.\n"
     ]
    }
   ],
   "source": [
    "import numpy as np\n",
    "from scipy.stats import t\n",
    "\n",
    "column1 = np.array(df['log_price'])\n",
    "column2 = np.array(np.log10(df['zestimate']))\n",
    "\n",
    "mean1, std1 = np.mean(column1), np.std(column1, ddof=1)\n",
    "mean2, std2 = np.mean(column2), np.std(column2, ddof=1)\n",
    "\n",
    "n1, n2 = len(column1), len(column2)\n",
    "\n",
    "s = (column2 - column1).std()\n",
    "\n",
    "alpha = 0.05\n",
    "z_critical = t.ppf(1 - alpha / 2, n1 + n2 - 2) \n",
    "se_diff = s / np.sqrt(n1)\n",
    "mean_diff = mean1 - mean2\n",
    "lower, upper = mean_diff - z_critical * se_diff, mean_diff + z_critical * se_diff\n",
    "\n",
    "print(lower, upper)\n",
    "\n",
    "if lower <= 0 <= upper:\n",
    "    print(\"The null hypothesis that the means are equal cannot be rejected.\")\n",
    "else:\n",
    "    print(\"The null hypothesis that the means are equal can be rejected.\")"
   ]
  },
  {
   "cell_type": "markdown",
   "metadata": {},
   "source": [
    "We repeat this process for the difference between price and tax assessed value and again the null hypothesis is rejected and the difference is significant. This time the cohen_d is also high so we have both statistical and practical significance."
   ]
  },
  {
   "cell_type": "code",
   "execution_count": 62,
   "metadata": {},
   "outputs": [
    {
     "data": {
      "text/plain": [
       "TtestResult(statistic=70.88459552813123, pvalue=0.0, df=4734)"
      ]
     },
     "execution_count": 62,
     "metadata": {},
     "output_type": "execute_result"
    }
   ],
   "source": [
    "from scipy.stats import ttest_rel\n",
    "import numpy as np\n",
    "\n",
    "res = ttest_rel(df['log_price'], df['log_taxAssessedValue'])\n",
    "res"
   ]
  },
  {
   "cell_type": "code",
   "execution_count": 63,
   "metadata": {},
   "outputs": [
    {
     "data": {
      "text/plain": [
       "1.333222370302646"
      ]
     },
     "execution_count": 63,
     "metadata": {},
     "output_type": "execute_result"
    }
   ],
   "source": [
    "cohen_d = (df['log_price'].mean() - df['log_taxAssessedValue'].mean()) / df['log_price'].std()\n",
    "cohen_d"
   ]
  },
  {
   "cell_type": "markdown",
   "metadata": {},
   "source": [
    "From plots we can see we also have a practical difference between price and tax assessed value!"
   ]
  },
  {
   "cell_type": "code",
   "execution_count": 64,
   "metadata": {},
   "outputs": [
    {
     "data": {
      "image/png": "[encoded data removed]",
      "text/plain": [
       "<Figure size 1200x600 with 1 Axes>"
      ]
     },
     "metadata": {},
     "output_type": "display_data"
    }
   ],
   "source": [
    "import matplotlib.pyplot as plt\n",
    "import seaborn as sns\n",
    "\n",
    "sns.set_style('whitegrid')\n",
    "\n",
    "plt.figure(figsize=(12, 6))\n",
    "sns.histplot(df['log_price'], color='blue', label='log_price', kde=True)\n",
    "sns.histplot(df['log_taxAssessedValue'], color='red', label='log_taxAssessedValue', kde=True)\n",
    "plt.legend()\n",
    "plt.title('Distributions of log_price and log_taxAssessedValue')\n",
    "plt.xlabel('Log Value')\n",
    "plt.ylabel('Frequency')\n",
    "plt.show()\n"
   ]
  },
  {
   "cell_type": "code",
   "execution_count": 65,
   "metadata": {},
   "outputs": [
    {
     "data": {
      "image/png": "[encoded data removed]",
      "text/plain": [
       "<Figure size 1200x600 with 1 Axes>"
      ]
     },
     "metadata": {},
     "output_type": "display_data"
    }
   ],
   "source": [
    "df['log_diff'] = df['log_price'] - df['log_taxAssessedValue']\n",
    "\n",
    "plt.figure(figsize=(12, 6))\n",
    "sns.histplot(df['log_diff'], bins=50, kde=True)\n",
    "plt.title('Difference between log_price and log_taxAssessedValue')\n",
    "plt.xlabel('log_price - log10(zestimate)')\n",
    "plt.ylabel('Frequency')\n",
    "plt.show()\n"
   ]
  },
  {
   "cell_type": "markdown",
   "metadata": {},
   "source": [
    "### independant t-test"
   ]
  },
  {
   "cell_type": "markdown",
   "metadata": {},
   "source": [
    "independant t-test is used to determine if the means of two independent samples are significantly different from each other. \n",
    "\n",
    "First we define some functions for this part:\n",
    "\n",
    "* `perform_ttest_ind`: This function performs the independant t-test on two samples and checks whether we can reject the null hypothesis or not.\n",
    "\n",
    "* `calculate_cohen_d`: This function calculates the effect size of the difference between two samples.\n",
    "\n",
    "* `test_on_confidence_interval`: This function calculates the confidence interval of the difference between two samples and checks if 0 lies in the interval or not."
   ]
  },
  {
   "cell_type": "code",
   "execution_count": 66,
   "metadata": {},
   "outputs": [],
   "source": [
    "from scipy.stats import ttest_ind\n",
    "\n",
    "def perform_ttest_ind(column1, column2):\n",
    "    res = ttest_ind(column1, column2)\n",
    "    print(res)\n",
    "    if res.pvalue < 0.05:\n",
    "        print(\"The null hypothesis that the means are equal can be rejected.\")\n",
    "    else:\n",
    "        print(\"The null hypothesis that the means are equal cannot be rejected.\")\n",
    "\n",
    "def calculate_cohens_d(column1, column2):\n",
    "    n1 = len(column1)\n",
    "    n2 = len(column2)\n",
    "    s_pooled = np.sqrt(((n1 - 1) * column1.var() + (n2 - 1) * column2.var()) / (n1 + n2 - 2))\n",
    "    cohen_d = (column1.mean() - column2.mean()) / s_pooled\n",
    "    print(\"cohen's d: \", cohen_d)\n",
    "    \n",
    "def test_on_confidence_interval(column1, column2, confidence_level=0.95):\n",
    "    mean_with_pool = np.mean(column1)\n",
    "    mean_without_pool = np.mean(column2)\n",
    "\n",
    "    std_with_pool = np.std(column1, ddof=1)\n",
    "    std_without_pool = np.std(column2, ddof=1)\n",
    "\n",
    "    n1 = len(column1)\n",
    "    n2 = len(column2)\n",
    "    pooled_std = np.sqrt(((n1 - 1) * std_with_pool ** 2 + (n2 - 1) * std_without_pool ** 2) / (n1 + n2 - 2))\n",
    "\n",
    "    SE = pooled_std * np.sqrt(1/n1 + 1/n2)\n",
    "\n",
    "    t_critical = t.ppf((1 + confidence_level) / 2, df=n1 + n2 - 2)\n",
    "    margin_of_error = t_critical * SE\n",
    "\n",
    "    lower_bound = (mean_with_pool - mean_without_pool) - margin_of_error\n",
    "    upper_bound = (mean_with_pool - mean_without_pool) + margin_of_error\n",
    "\n",
    "    is_significant = lower_bound > 0 or upper_bound < 0\n",
    "\n",
    "    print(\"confidence interval: \", (lower_bound, upper_bound))\n",
    "    if is_significant:\n",
    "        print(\"The null hypothesis that the means are equal can be rejected.\")\n",
    "    else:\n",
    "        print(\"The null hypothesis that the means are equal cannot be rejected.\")"
   ]
  },
  {
   "cell_type": "markdown",
   "metadata": {},
   "source": [
    "Now in each scenario, we group the samples by a feature into two groups and check if the difference in another feature is significant between the two groups or not."
   ]
  },
  {
   "cell_type": "markdown",
   "metadata": {},
   "source": [
    "#### Having pool and lot area"
   ]
  },
  {
   "cell_type": "markdown",
   "metadata": {},
   "source": [
    "Suprisingly, We can see that having pool doesn't have significant effect on the lot area. We can reject the null hypothesis when we are comparing the lot area itself but the effect size is small and also when we're comparing the log of lot area, the null hypothesis is not rejected."
   ]
  },
  {
   "cell_type": "code",
   "execution_count": 67,
   "metadata": {},
   "outputs": [
    {
     "name": "stdout",
     "output_type": "stream",
     "text": [
      "TtestResult(statistic=-4.32864797542266, pvalue=1.531247729466232e-05, df=4733.0)\n",
      "The null hypothesis that the means are equal can be rejected.\n",
      "cohen's d:  -0.2012230623811496\n",
      "confidence interval:  (-2033.603394266182, -765.7588649328277)\n",
      "The null hypothesis that the means are equal can be rejected.\n"
     ]
    }
   ],
   "source": [
    "lot_area_has_pool = np.array(df[df['hasPrivatePool'] == 1]['lotAreaValue'])\n",
    "lot_area_has_not_pool = np.array(df[df['hasPrivatePool'] == 0]['lotAreaValue'])\n",
    "\n",
    "perform_ttest_ind(lot_area_has_pool, lot_area_has_not_pool)\n",
    "calculate_cohens_d(lot_area_has_pool, lot_area_has_not_pool)\n",
    "test_on_confidence_interval(lot_area_has_pool, lot_area_has_not_pool)"
   ]
  },
  {
   "cell_type": "code",
   "execution_count": 68,
   "metadata": {},
   "outputs": [
    {
     "name": "stdout",
     "output_type": "stream",
     "text": [
      "TtestResult(statistic=-0.4363527609769507, pvalue=0.6626007100352009, df=4733.0)\n",
      "The null hypothesis that the means are equal cannot be rejected.\n",
      "cohen's d:  -0.02028440940501723\n",
      "confidence interval:  (-0.05466400881540952, 0.03476029458423553)\n",
      "The null hypothesis that the means are equal cannot be rejected.\n"
     ]
    }
   ],
   "source": [
    "log_lot_area_has_pool = np.array(df[df['hasPrivatePool'] == 1]['log_lotAreaValue'])\n",
    "log_lot_area_has_not_pool = np.array(df[df['hasPrivatePool'] == 0]['log_lotAreaValue'])\n",
    "\n",
    "perform_ttest_ind(log_lot_area_has_pool, log_lot_area_has_not_pool)\n",
    "calculate_cohens_d(log_lot_area_has_pool, log_lot_area_has_not_pool)\n",
    "test_on_confidence_interval(log_lot_area_has_pool, log_lot_area_has_not_pool)"
   ]
  },
  {
   "cell_type": "markdown",
   "metadata": {},
   "source": [
    "#### Having pool and living area"
   ]
  },
  {
   "cell_type": "markdown",
   "metadata": {},
   "source": [
    "We can see tha having pool has much more significant effect on the living area. We can reject the null hypothesis in both cases and the effect size is also higher than the previous section."
   ]
  },
  {
   "cell_type": "code",
   "execution_count": 69,
   "metadata": {},
   "outputs": [
    {
     "name": "stdout",
     "output_type": "stream",
     "text": [
      "TtestResult(statistic=14.997666520968048, pvalue=1.0380761961763553e-49, df=4733.0)\n",
      "The null hypothesis that the means are equal can be rejected.\n",
      "cohen's d:  0.6972734364161356\n",
      "confidence interval:  (74.40807723087497, 96.78626309141171)\n",
      "The null hypothesis that the means are equal can be rejected.\n"
     ]
    }
   ],
   "source": [
    "living_area_has_pool = np.array(df[df['hasPrivatePool'] == 1]['livingAreaValue'])\n",
    "living_area_has_not_pool = np.array(df[df['hasPrivatePool'] == 0]['livingAreaValue'])\n",
    "\n",
    "perform_ttest_ind(living_area_has_pool, living_area_has_not_pool)\n",
    "calculate_cohens_d(living_area_has_pool, living_area_has_not_pool)\n",
    "test_on_confidence_interval(living_area_has_pool, living_area_has_not_pool)"
   ]
  },
  {
   "cell_type": "code",
   "execution_count": 70,
   "metadata": {},
   "outputs": [
    {
     "name": "stdout",
     "output_type": "stream",
     "text": [
      "TtestResult(statistic=17.112989980928823, pvalue=9.49413562363495e-64, df=4733.0)\n",
      "The null hypothesis that the means are equal can be rejected.\n",
      "cohen's d:  0.7955656245131577\n",
      "confidence interval:  (0.1541751889757403, 0.19407020577096293)\n",
      "The null hypothesis that the means are equal can be rejected.\n"
     ]
    }
   ],
   "source": [
    "living_area_has_pool = np.array(df[df['hasPrivatePool'] == 1]['log_livingAreaValue'])\n",
    "living_area_has_not_pool = np.array(df[df['hasPrivatePool'] == 0]['log_livingAreaValue'])\n",
    "\n",
    "perform_ttest_ind(living_area_has_pool, living_area_has_not_pool)\n",
    "calculate_cohens_d(living_area_has_pool, living_area_has_not_pool)\n",
    "test_on_confidence_interval(living_area_has_pool, living_area_has_not_pool)"
   ]
  },
  {
   "cell_type": "markdown",
   "metadata": {},
   "source": [
    "#### Having pool and price"
   ]
  },
  {
   "cell_type": "markdown",
   "metadata": {},
   "source": [
    "Having pool also has a significant effect on the price. We can reject the null hypothesis in both cases."
   ]
  },
  {
   "cell_type": "code",
   "execution_count": 71,
   "metadata": {},
   "outputs": [
    {
     "name": "stdout",
     "output_type": "stream",
     "text": [
      "TtestResult(statistic=13.914381507112584, pvalue=3.632475637572258e-43, df=4733.0)\n",
      "The null hypothesis that the means are equal can be rejected.\n",
      "cohen's d:  0.6469845440960713\n",
      "confidence interval:  (772912.9951606089, 1026431.4417679427)\n",
      "The null hypothesis that the means are equal can be rejected.\n"
     ]
    }
   ],
   "source": [
    "price_has_pool = np.array(df[df['hasPrivatePool'] == 1]['price'])\n",
    "price_has_not_pool = np.array(df[df['hasPrivatePool'] == 0]['price'])\n",
    "\n",
    "perform_ttest_ind(price_has_pool, price_has_not_pool)\n",
    "calculate_cohens_d(price_has_pool, price_has_not_pool)\n",
    "test_on_confidence_interval(price_has_pool, price_has_not_pool)"
   ]
  },
  {
   "cell_type": "code",
   "execution_count": 72,
   "metadata": {},
   "outputs": [
    {
     "name": "stdout",
     "output_type": "stream",
     "text": [
      "TtestResult(statistic=16.705926796136175, pvalue=6.401203726784372e-61, df=4733.0)\n",
      "The null hypothesis that the means are equal can be rejected.\n",
      "cohen's d:  0.7766511941775833\n",
      "confidence interval:  (0.18229795304291002, 0.2307723690488222)\n",
      "The null hypothesis that the means are equal can be rejected.\n"
     ]
    }
   ],
   "source": [
    "log_price_has_pool = np.array(df[df['hasPrivatePool'] == 1]['log_price'])\n",
    "log_price_has_not_pool = np.array(df[df['hasPrivatePool'] == 0]['log_price'])\n",
    "\n",
    "perform_ttest_ind(log_price_has_pool, log_price_has_not_pool)\n",
    "calculate_cohens_d(log_price_has_pool, log_price_has_not_pool)\n",
    "test_on_confidence_interval(log_price_has_pool, log_price_has_not_pool)"
   ]
  },
  {
   "cell_type": "markdown",
   "metadata": {},
   "source": [
    "#### Having fire place and price\n",
    "\n",
    "Having fire place also has a significant effect on the price. We can reject the null hypothesis in both cases."
   ]
  },
  {
   "cell_type": "code",
   "execution_count": 73,
   "metadata": {},
   "outputs": [
    {
     "name": "stdout",
     "output_type": "stream",
     "text": [
      "TtestResult(statistic=16.486900247135157, pvalue=2.011397665972827e-59, df=4733.0)\n",
      "The null hypothesis that the means are equal can be rejected.\n",
      "cohen's d:  0.4830110093472734\n",
      "confidence interval:  (587263.551294403, 745775.9238621223)\n",
      "The null hypothesis that the means are equal can be rejected.\n"
     ]
    }
   ],
   "source": [
    "price_has_fireplace = np.array(df[df['hasFireplace'] == 1]['price'])\n",
    "price_has_not_fireplace = np.array(df[df['hasFireplace'] == 0]['price'])\n",
    "\n",
    "perform_ttest_ind(price_has_fireplace, price_has_not_fireplace)\n",
    "calculate_cohens_d(price_has_fireplace, price_has_not_fireplace)\n",
    "test_on_confidence_interval(price_has_fireplace, price_has_not_fireplace)"
   ]
  },
  {
   "cell_type": "code",
   "execution_count": 74,
   "metadata": {},
   "outputs": [
    {
     "name": "stdout",
     "output_type": "stream",
     "text": [
      "TtestResult(statistic=23.651002520709174, pvalue=5.545098347081356e-117, df=4733.0)\n",
      "The null hypothesis that the means are equal can be rejected.\n",
      "cohen's d:  0.6929032172978187\n",
      "confidence interval:  (0.1644567209190994, 0.1941850486961863)\n",
      "The null hypothesis that the means are equal can be rejected.\n"
     ]
    }
   ],
   "source": [
    "log_price_has_fireplace = np.array(df[df['hasFireplace'] == 1]['log_price'])\n",
    "log_price_has_not_fireplace = np.array(df[df['hasFireplace'] == 0]['log_price'])\n",
    "\n",
    "perform_ttest_ind(log_price_has_fireplace, log_price_has_not_fireplace)\n",
    "calculate_cohens_d(log_price_has_fireplace, log_price_has_not_fireplace)\n",
    "test_on_confidence_interval(log_price_has_fireplace, log_price_has_not_fireplace)"
   ]
  },
  {
   "cell_type": "markdown",
   "metadata": {},
   "source": [
    "### Having cooling and price\n",
    "\n",
    "Although the test shows that having cooling has a significant effect on the price, the effect size smaller than the previous tests and the confidence interval shows that the interval is closer to 0 so the difference is less significant than the previous tests."
   ]
  },
  {
   "cell_type": "code",
   "execution_count": 75,
   "metadata": {},
   "outputs": [
    {
     "name": "stdout",
     "output_type": "stream",
     "text": [
      "TtestResult(statistic=8.366780219893172, pvalue=7.707435574215394e-17, df=4733.0)\n",
      "The null hypothesis that the means are equal can be rejected.\n",
      "cohen's d:  0.30748475174325923\n",
      "confidence interval:  (331653.71818038815, 534639.5617423017)\n",
      "The null hypothesis that the means are equal can be rejected.\n"
     ]
    }
   ],
   "source": [
    "price_has_cooling = np.array(df[df['hasCooling'] == 1]['price'])\n",
    "price_has_not_cooling = np.array(df[df['hasCooling'] == 0]['price'])\n",
    "\n",
    "perform_ttest_ind(price_has_cooling, price_has_not_cooling)\n",
    "calculate_cohens_d(price_has_cooling, price_has_not_cooling)\n",
    "test_on_confidence_interval(price_has_cooling, price_has_not_cooling)"
   ]
  },
  {
   "cell_type": "code",
   "execution_count": 76,
   "metadata": {},
   "outputs": [
    {
     "name": "stdout",
     "output_type": "stream",
     "text": [
      "TtestResult(statistic=11.628992323340002, pvalue=7.681852290329135e-31, df=4733.0)\n",
      "The null hypothesis that the means are equal can be rejected.\n",
      "cohen's d:  0.42738942653162215\n",
      "confidence interval:  (0.09588394739898509, 0.13476828928470364)\n",
      "The null hypothesis that the means are equal can be rejected.\n"
     ]
    }
   ],
   "source": [
    "log_price_has_cooling = np.array(df[df['hasCooling'] == 1]['log_price'])\n",
    "log_price_has_not_cooling = np.array(df[df['hasCooling'] == 0]['log_price'])\n",
    "\n",
    "perform_ttest_ind(log_price_has_cooling, log_price_has_not_cooling)\n",
    "calculate_cohens_d(log_price_has_cooling, log_price_has_not_cooling)\n",
    "test_on_confidence_interval(log_price_has_cooling, log_price_has_not_cooling)"
   ]
  },
  {
   "cell_type": "markdown",
   "metadata": {},
   "source": [
    "#### Having Spa and price\n",
    "\n",
    "For Spa the significance is even less than the cooling. The effect size is smaller and the confidence interval is closer to 0 but the test still shows that the difference is statistically significant."
   ]
  },
  {
   "cell_type": "code",
   "execution_count": 77,
   "metadata": {},
   "outputs": [
    {
     "name": "stdout",
     "output_type": "stream",
     "text": [
      "TtestResult(statistic=6.972198024117488, pvalue=3.5500244082267708e-12, df=4733.0)\n",
      "The null hypothesis that the means are equal can be rejected.\n",
      "cohen's d:  0.31761075808654754\n",
      "confidence interval:  (322248.16131388844, 574359.1123302181)\n",
      "The null hypothesis that the means are equal can be rejected.\n"
     ]
    }
   ],
   "source": [
    "price_has_spa = np.array(df[df['hasSpa'] == 1]['price'])\n",
    "price_has_not_spa = np.array(df[df['hasSpa'] == 0]['price'])\n",
    "\n",
    "perform_ttest_ind(price_has_spa, price_has_not_spa)\n",
    "calculate_cohens_d(price_has_spa, price_has_not_spa)\n",
    "test_on_confidence_interval(price_has_spa, price_has_not_spa)"
   ]
  },
  {
   "cell_type": "code",
   "execution_count": 78,
   "metadata": {},
   "outputs": [
    {
     "name": "stdout",
     "output_type": "stream",
     "text": [
      "TtestResult(statistic=2.7937113542091367, pvalue=0.005231650530578872, df=4733.0)\n",
      "The null hypothesis that the means are equal can be rejected.\n",
      "cohen's d:  0.12724956363065973\n",
      "confidence interval:  (0.010377080309161138, 0.0592075711340128)\n",
      "The null hypothesis that the means are equal can be rejected.\n"
     ]
    }
   ],
   "source": [
    "log_price_has_spa = np.array(df[df['hasSpa'] == 1]['log_price'])\n",
    "log_price_has_not_spa = np.array(df[df['hasSpa'] == 0]['log_price'])\n",
    "\n",
    "perform_ttest_ind(log_price_has_spa, log_price_has_not_spa)\n",
    "calculate_cohens_d(log_price_has_spa, log_price_has_not_spa)\n",
    "test_on_confidence_interval(log_price_has_spa, log_price_has_not_spa)"
   ]
  },
  {
   "cell_type": "markdown",
   "metadata": {},
   "source": [
    "### single-family vs condo"
   ]
  },
  {
   "cell_type": "markdown",
   "metadata": {},
   "source": [
    "Two most common home types in the data set are single-family and condo so we decided to compare the price of these two types. The test shows that the difference is significant and the effect size is also high."
   ]
  },
  {
   "cell_type": "code",
   "execution_count": 79,
   "metadata": {},
   "outputs": [
    {
     "name": "stdout",
     "output_type": "stream",
     "text": [
      "TtestResult(statistic=14.042002873566132, pvalue=9.178574481924477e-44, df=4021.0)\n",
      "The null hypothesis that the means are equal can be rejected.\n",
      "cohen's d:  0.5334627965550254\n",
      "confidence interval:  (672799.4188576543, 891160.5950701958)\n",
      "The null hypothesis that the means are equal can be rejected.\n"
     ]
    }
   ],
   "source": [
    "price_single_family = np.array(df[df['homeType'] == 'SINGLE_FAMILY']['price'])\n",
    "price_condo = np.array(df[df['homeType'] == 'CONDO']['price'])\n",
    "\n",
    "perform_ttest_ind(price_single_family, price_condo)\n",
    "calculate_cohens_d(price_single_family, price_condo)\n",
    "test_on_confidence_interval(price_single_family, price_condo)"
   ]
  },
  {
   "cell_type": "code",
   "execution_count": 80,
   "metadata": {},
   "outputs": [
    {
     "name": "stdout",
     "output_type": "stream",
     "text": [
      "TtestResult(statistic=24.74033903393239, pvalue=6.609476585212971e-126, df=4021.0)\n",
      "The null hypothesis that the means are equal can be rejected.\n",
      "cohen's d:  0.9399431029614862\n",
      "confidence interval:  (0.2235647485067133, 0.2620471830653458)\n",
      "The null hypothesis that the means are equal can be rejected.\n"
     ]
    }
   ],
   "source": [
    "log_price_single_family = np.array(df[df['homeType'] == 'SINGLE_FAMILY']['log_price'])\n",
    "log_price_condo = np.array(df[df['homeType'] == 'CONDO']['log_price'])\n",
    "\n",
    "perform_ttest_ind(log_price_single_family, log_price_condo)\n",
    "calculate_cohens_d(log_price_single_family, log_price_condo)\n",
    "test_on_confidence_interval(log_price_single_family, log_price_condo)"
   ]
  },
  {
   "cell_type": "markdown",
   "metadata": {},
   "source": [
    "### Chai Square test for home types\n",
    "\n",
    "Chai Square test is used to determine if there is a significant relationship between two categorical variables. We use this test to determine if there is a significant relationship between the home types and another categorical(or binary) feature:\n",
    "* Null Hypothesis (H0): There is no significant relationship between the two categorical variables.\n",
    "* Alternative Hypothesis (Ha): There is a significant relationship between the two categorical variables.\n",
    "\n",
    "Like other tests it calculates a score(here it's called chai2) and using that score, it calculates the p-value and the decides if the null hypothesis should be rejected or not.\n",
    "\n",
    "chai2 is calculated as below:\n",
    "\n",
    "$$\\chi^2 = \\sum \\frac{(O_i - E_i)^2}{E_i}$$\n",
    "\n",
    "where $O_i$ is the observed frequency and $E_i$ is the expected frequency."
   ]
  },
  {
   "cell_type": "code",
   "execution_count": 81,
   "metadata": {},
   "outputs": [
    {
     "data": {
      "text/plain": [
       "homeType\n",
       "SINGLE_FAMILY    3133\n",
       "CONDO             890\n",
       "MULTI_FAMILY      396\n",
       "TOWNHOUSE         293\n",
       "APARTMENT          11\n",
       "MANUFACTURED       10\n",
       "LOT                 2\n",
       "Name: count, dtype: int64"
      ]
     },
     "execution_count": 81,
     "metadata": {},
     "output_type": "execute_result"
    }
   ],
   "source": [
    "df[\"homeType\"].value_counts()"
   ]
  },
  {
   "cell_type": "markdown",
   "metadata": {},
   "source": [
    "We only include single-family, condo, multi-family and townhouse for the home types as the other types have very few samples.\n",
    "\n",
    "We also calculate a coefficient called Cranmer's V which is used to determine the strength of the relationship between two categorical variables and we use it to make sure that the relationship is significant. It's calculated as below:\n",
    "\n",
    "$$V = \\sqrt{\\frac{\\chi^2}{n \\times (min(r-1, c-1))}}$$\n",
    "\n",
    "where r and c are the number of rows and columns in the contingency table."
   ]
  },
  {
   "cell_type": "code",
   "execution_count": 82,
   "metadata": {},
   "outputs": [],
   "source": [
    "from scipy.stats import chi2_contingency\n",
    "\n",
    "homeTypes = [\"SINGLE_FAMILY\", \"CONDO\", \"TOWNHOUSE\", \"MULTI_FAMILY\"]\n",
    "df_filtered_hometypes = df[df[\"homeType\"].isin(homeTypes)]\n",
    "\n",
    "def perfrom_chi2_test(column1, column2):\n",
    "    contingency_table = pd.crosstab(column1, column2)\n",
    "    chi2, p, dof, expected = chi2_contingency(contingency_table)\n",
    "    print(\"chi2: \", chi2)\n",
    "    print(\"p: \", p)\n",
    "    if p < 0.05:\n",
    "        print(\"The null hypothesis that the variables are independent can be rejected.\")\n",
    "    else:\n",
    "        print(\"The null hypothesis that the variables are independent cannot be rejected.\")\n",
    "    print(\"crammers_v: \", cramers_v(contingency_table, chi2))\n",
    "    display(contingency_table)\n",
    "    \n",
    "def cramers_v(confusion_matrix, chi2_statistic):\n",
    "    chi2 = chi2_statistic\n",
    "    n = confusion_matrix.sum().sum()\n",
    "    phi2 = chi2 / n\n",
    "    r, k = confusion_matrix.shape\n",
    "    phi2corr = max(0, phi2 - ((k - 1) * (r - 1)) / (n - 1))\n",
    "    rcorr = r - ((r - 1) ** 2) / (n - 1)\n",
    "    kcorr = k - ((k - 1) ** 2) / (n - 1)\n",
    "    return np.sqrt(phi2corr / min((kcorr - 1), (rcorr - 1)))"
   ]
  },
  {
   "cell_type": "markdown",
   "metadata": {},
   "source": [
    "We perform this test with all *having* features and we see that all of them are related to the home type but some of them are more significant than the others. For example `hasView` has a very high chai2 score and a very high Cranmer's V which means that it has a very strong relationship with the home type."
   ]
  },
  {
   "cell_type": "code",
   "execution_count": 83,
   "metadata": {},
   "outputs": [
    {
     "name": "stdout",
     "output_type": "stream",
     "text": [
      "chi2:  249.5129117256268\n",
      "p:  8.340199418475354e-54\n",
      "The null hypothesis that the variables are independent can be rejected.\n",
      "crammers_v:  0.22875085839539938\n"
     ]
    },
    {
     "data": {
      "text/html": [
       "<div>\n",
       "<style scoped>\n",
       "    .dataframe tbody tr th:only-of-type {\n",
       "        vertical-align: middle;\n",
       "    }\n",
       "\n",
       "    .dataframe tbody tr th {\n",
       "        vertical-align: top;\n",
       "    }\n",
       "\n",
       "    .dataframe thead th {\n",
       "        text-align: right;\n",
       "    }\n",
       "</style>\n",
       "<table border=\"1\" class=\"dataframe\">\n",
       "  <thead>\n",
       "    <tr style=\"text-align: right;\">\n",
       "      <th>hasPrivatePool</th>\n",
       "      <th>0</th>\n",
       "      <th>1</th>\n",
       "    </tr>\n",
       "    <tr>\n",
       "      <th>homeType</th>\n",
       "      <th></th>\n",
       "      <th></th>\n",
       "    </tr>\n",
       "  </thead>\n",
       "  <tbody>\n",
       "    <tr>\n",
       "      <th>CONDO</th>\n",
       "      <td>882</td>\n",
       "      <td>8</td>\n",
       "    </tr>\n",
       "    <tr>\n",
       "      <th>MULTI_FAMILY</th>\n",
       "      <td>395</td>\n",
       "      <td>1</td>\n",
       "    </tr>\n",
       "    <tr>\n",
       "      <th>SINGLE_FAMILY</th>\n",
       "      <td>2627</td>\n",
       "      <td>506</td>\n",
       "    </tr>\n",
       "    <tr>\n",
       "      <th>TOWNHOUSE</th>\n",
       "      <td>288</td>\n",
       "      <td>5</td>\n",
       "    </tr>\n",
       "  </tbody>\n",
       "</table>\n",
       "</div>"
      ],
      "text/plain": [
       "hasPrivatePool     0    1\n",
       "homeType                 \n",
       "CONDO            882    8\n",
       "MULTI_FAMILY     395    1\n",
       "SINGLE_FAMILY   2627  506\n",
       "TOWNHOUSE        288    5"
      ]
     },
     "metadata": {},
     "output_type": "display_data"
    }
   ],
   "source": [
    "perfrom_chi2_test(df_filtered_hometypes[\"homeType\"], df_filtered_hometypes[\"hasPrivatePool\"])"
   ]
  },
  {
   "cell_type": "code",
   "execution_count": 84,
   "metadata": {},
   "outputs": [
    {
     "name": "stdout",
     "output_type": "stream",
     "text": [
      "chi2:  203.19906911393429\n",
      "p:  8.588264759258342e-44\n",
      "The null hypothesis that the variables are independent can be rejected.\n",
      "crammers_v:  0.20614546910265164\n"
     ]
    },
    {
     "data": {
      "text/html": [
       "<div>\n",
       "<style scoped>\n",
       "    .dataframe tbody tr th:only-of-type {\n",
       "        vertical-align: middle;\n",
       "    }\n",
       "\n",
       "    .dataframe tbody tr th {\n",
       "        vertical-align: top;\n",
       "    }\n",
       "\n",
       "    .dataframe thead th {\n",
       "        text-align: right;\n",
       "    }\n",
       "</style>\n",
       "<table border=\"1\" class=\"dataframe\">\n",
       "  <thead>\n",
       "    <tr style=\"text-align: right;\">\n",
       "      <th>hasSpa</th>\n",
       "      <th>0</th>\n",
       "      <th>1</th>\n",
       "    </tr>\n",
       "    <tr>\n",
       "      <th>homeType</th>\n",
       "      <th></th>\n",
       "      <th></th>\n",
       "    </tr>\n",
       "  </thead>\n",
       "  <tbody>\n",
       "    <tr>\n",
       "      <th>CONDO</th>\n",
       "      <td>744</td>\n",
       "      <td>146</td>\n",
       "    </tr>\n",
       "    <tr>\n",
       "      <th>MULTI_FAMILY</th>\n",
       "      <td>395</td>\n",
       "      <td>1</td>\n",
       "    </tr>\n",
       "    <tr>\n",
       "      <th>SINGLE_FAMILY</th>\n",
       "      <td>2832</td>\n",
       "      <td>301</td>\n",
       "    </tr>\n",
       "    <tr>\n",
       "      <th>TOWNHOUSE</th>\n",
       "      <td>199</td>\n",
       "      <td>94</td>\n",
       "    </tr>\n",
       "  </tbody>\n",
       "</table>\n",
       "</div>"
      ],
      "text/plain": [
       "hasSpa            0    1\n",
       "homeType                \n",
       "CONDO           744  146\n",
       "MULTI_FAMILY    395    1\n",
       "SINGLE_FAMILY  2832  301\n",
       "TOWNHOUSE       199   94"
      ]
     },
     "metadata": {},
     "output_type": "display_data"
    }
   ],
   "source": [
    "perfrom_chi2_test(df_filtered_hometypes[\"homeType\"], df_filtered_hometypes[\"hasSpa\"])"
   ]
  },
  {
   "cell_type": "code",
   "execution_count": 85,
   "metadata": {},
   "outputs": [
    {
     "name": "stdout",
     "output_type": "stream",
     "text": [
      "chi2:  760.6599785853615\n",
      "p:  1.4719379936497322e-164\n",
      "The null hypothesis that the variables are independent can be rejected.\n",
      "crammers_v:  0.401033311882929\n"
     ]
    },
    {
     "data": {
      "text/html": [
       "<div>\n",
       "<style scoped>\n",
       "    .dataframe tbody tr th:only-of-type {\n",
       "        vertical-align: middle;\n",
       "    }\n",
       "\n",
       "    .dataframe tbody tr th {\n",
       "        vertical-align: top;\n",
       "    }\n",
       "\n",
       "    .dataframe thead th {\n",
       "        text-align: right;\n",
       "    }\n",
       "</style>\n",
       "<table border=\"1\" class=\"dataframe\">\n",
       "  <thead>\n",
       "    <tr style=\"text-align: right;\">\n",
       "      <th>hasView</th>\n",
       "      <th>0</th>\n",
       "      <th>1</th>\n",
       "    </tr>\n",
       "    <tr>\n",
       "      <th>homeType</th>\n",
       "      <th></th>\n",
       "      <th></th>\n",
       "    </tr>\n",
       "  </thead>\n",
       "  <tbody>\n",
       "    <tr>\n",
       "      <th>CONDO</th>\n",
       "      <td>74</td>\n",
       "      <td>816</td>\n",
       "    </tr>\n",
       "    <tr>\n",
       "      <th>MULTI_FAMILY</th>\n",
       "      <td>248</td>\n",
       "      <td>148</td>\n",
       "    </tr>\n",
       "    <tr>\n",
       "      <th>SINGLE_FAMILY</th>\n",
       "      <td>381</td>\n",
       "      <td>2752</td>\n",
       "    </tr>\n",
       "    <tr>\n",
       "      <th>TOWNHOUSE</th>\n",
       "      <td>18</td>\n",
       "      <td>275</td>\n",
       "    </tr>\n",
       "  </tbody>\n",
       "</table>\n",
       "</div>"
      ],
      "text/plain": [
       "hasView          0     1\n",
       "homeType                \n",
       "CONDO           74   816\n",
       "MULTI_FAMILY   248   148\n",
       "SINGLE_FAMILY  381  2752\n",
       "TOWNHOUSE       18   275"
      ]
     },
     "metadata": {},
     "output_type": "display_data"
    }
   ],
   "source": [
    "perfrom_chi2_test(df_filtered_hometypes[\"homeType\"], df_filtered_hometypes[\"hasView\"])"
   ]
  },
  {
   "cell_type": "code",
   "execution_count": 86,
   "metadata": {},
   "outputs": [
    {
     "name": "stdout",
     "output_type": "stream",
     "text": [
      "chi2:  470.7388102266385\n",
      "p:  1.0462027885203313e-101\n",
      "The null hypothesis that the variables are independent can be rejected.\n",
      "crammers_v:  0.31509743315106864\n"
     ]
    },
    {
     "data": {
      "text/html": [
       "<div>\n",
       "<style scoped>\n",
       "    .dataframe tbody tr th:only-of-type {\n",
       "        vertical-align: middle;\n",
       "    }\n",
       "\n",
       "    .dataframe tbody tr th {\n",
       "        vertical-align: top;\n",
       "    }\n",
       "\n",
       "    .dataframe thead th {\n",
       "        text-align: right;\n",
       "    }\n",
       "</style>\n",
       "<table border=\"1\" class=\"dataframe\">\n",
       "  <thead>\n",
       "    <tr style=\"text-align: right;\">\n",
       "      <th>hasCooling</th>\n",
       "      <th>0</th>\n",
       "      <th>1</th>\n",
       "    </tr>\n",
       "    <tr>\n",
       "      <th>homeType</th>\n",
       "      <th></th>\n",
       "      <th></th>\n",
       "    </tr>\n",
       "  </thead>\n",
       "  <tbody>\n",
       "    <tr>\n",
       "      <th>CONDO</th>\n",
       "      <td>50</td>\n",
       "      <td>840</td>\n",
       "    </tr>\n",
       "    <tr>\n",
       "      <th>MULTI_FAMILY</th>\n",
       "      <td>216</td>\n",
       "      <td>180</td>\n",
       "    </tr>\n",
       "    <tr>\n",
       "      <th>SINGLE_FAMILY</th>\n",
       "      <td>638</td>\n",
       "      <td>2495</td>\n",
       "    </tr>\n",
       "    <tr>\n",
       "      <th>TOWNHOUSE</th>\n",
       "      <td>10</td>\n",
       "      <td>283</td>\n",
       "    </tr>\n",
       "  </tbody>\n",
       "</table>\n",
       "</div>"
      ],
      "text/plain": [
       "hasCooling       0     1\n",
       "homeType                \n",
       "CONDO           50   840\n",
       "MULTI_FAMILY   216   180\n",
       "SINGLE_FAMILY  638  2495\n",
       "TOWNHOUSE       10   283"
      ]
     },
     "metadata": {},
     "output_type": "display_data"
    }
   ],
   "source": [
    "perfrom_chi2_test(df_filtered_hometypes[\"homeType\"], df_filtered_hometypes[\"hasCooling\"])"
   ]
  },
  {
   "cell_type": "code",
   "execution_count": 87,
   "metadata": {},
   "outputs": [
    {
     "name": "stdout",
     "output_type": "stream",
     "text": [
      "chi2:  230.58213396935517\n",
      "p:  1.035023122844367e-49\n",
      "The null hypothesis that the variables are independent can be rejected.\n",
      "crammers_v:  0.21979202623019303\n"
     ]
    },
    {
     "data": {
      "text/html": [
       "<div>\n",
       "<style scoped>\n",
       "    .dataframe tbody tr th:only-of-type {\n",
       "        vertical-align: middle;\n",
       "    }\n",
       "\n",
       "    .dataframe tbody tr th {\n",
       "        vertical-align: top;\n",
       "    }\n",
       "\n",
       "    .dataframe thead th {\n",
       "        text-align: right;\n",
       "    }\n",
       "</style>\n",
       "<table border=\"1\" class=\"dataframe\">\n",
       "  <thead>\n",
       "    <tr style=\"text-align: right;\">\n",
       "      <th>hasHeating</th>\n",
       "      <th>0</th>\n",
       "      <th>1</th>\n",
       "    </tr>\n",
       "    <tr>\n",
       "      <th>homeType</th>\n",
       "      <th></th>\n",
       "      <th></th>\n",
       "    </tr>\n",
       "  </thead>\n",
       "  <tbody>\n",
       "    <tr>\n",
       "      <th>CONDO</th>\n",
       "      <td>33</td>\n",
       "      <td>857</td>\n",
       "    </tr>\n",
       "    <tr>\n",
       "      <th>MULTI_FAMILY</th>\n",
       "      <td>125</td>\n",
       "      <td>271</td>\n",
       "    </tr>\n",
       "    <tr>\n",
       "      <th>SINGLE_FAMILY</th>\n",
       "      <td>369</td>\n",
       "      <td>2764</td>\n",
       "    </tr>\n",
       "    <tr>\n",
       "      <th>TOWNHOUSE</th>\n",
       "      <td>10</td>\n",
       "      <td>283</td>\n",
       "    </tr>\n",
       "  </tbody>\n",
       "</table>\n",
       "</div>"
      ],
      "text/plain": [
       "hasHeating       0     1\n",
       "homeType                \n",
       "CONDO           33   857\n",
       "MULTI_FAMILY   125   271\n",
       "SINGLE_FAMILY  369  2764\n",
       "TOWNHOUSE       10   283"
      ]
     },
     "metadata": {},
     "output_type": "display_data"
    }
   ],
   "source": [
    "perfrom_chi2_test(df_filtered_hometypes[\"homeType\"], df_filtered_hometypes[\"hasHeating\"])"
   ]
  },
  {
   "cell_type": "code",
   "execution_count": 88,
   "metadata": {},
   "outputs": [
    {
     "name": "stdout",
     "output_type": "stream",
     "text": [
      "chi2:  422.37333063401826\n",
      "p:  3.152169076778268e-91\n",
      "The null hypothesis that the variables are independent can be rejected.\n",
      "crammers_v:  0.2983620155460143\n"
     ]
    },
    {
     "data": {
      "text/html": [
       "<div>\n",
       "<style scoped>\n",
       "    .dataframe tbody tr th:only-of-type {\n",
       "        vertical-align: middle;\n",
       "    }\n",
       "\n",
       "    .dataframe tbody tr th {\n",
       "        vertical-align: top;\n",
       "    }\n",
       "\n",
       "    .dataframe thead th {\n",
       "        text-align: right;\n",
       "    }\n",
       "</style>\n",
       "<table border=\"1\" class=\"dataframe\">\n",
       "  <thead>\n",
       "    <tr style=\"text-align: right;\">\n",
       "      <th>hasFireplace</th>\n",
       "      <th>0</th>\n",
       "      <th>1</th>\n",
       "    </tr>\n",
       "    <tr>\n",
       "      <th>homeType</th>\n",
       "      <th></th>\n",
       "      <th></th>\n",
       "    </tr>\n",
       "  </thead>\n",
       "  <tbody>\n",
       "    <tr>\n",
       "      <th>CONDO</th>\n",
       "      <td>465</td>\n",
       "      <td>425</td>\n",
       "    </tr>\n",
       "    <tr>\n",
       "      <th>MULTI_FAMILY</th>\n",
       "      <td>348</td>\n",
       "      <td>48</td>\n",
       "    </tr>\n",
       "    <tr>\n",
       "      <th>SINGLE_FAMILY</th>\n",
       "      <td>1143</td>\n",
       "      <td>1990</td>\n",
       "    </tr>\n",
       "    <tr>\n",
       "      <th>TOWNHOUSE</th>\n",
       "      <td>95</td>\n",
       "      <td>198</td>\n",
       "    </tr>\n",
       "  </tbody>\n",
       "</table>\n",
       "</div>"
      ],
      "text/plain": [
       "hasFireplace      0     1\n",
       "homeType                 \n",
       "CONDO           465   425\n",
       "MULTI_FAMILY    348    48\n",
       "SINGLE_FAMILY  1143  1990\n",
       "TOWNHOUSE        95   198"
      ]
     },
     "metadata": {},
     "output_type": "display_data"
    }
   ],
   "source": [
    "perfrom_chi2_test(df_filtered_hometypes[\"homeType\"], df_filtered_hometypes[\"hasFireplace\"])"
   ]
  },
  {
   "cell_type": "markdown",
   "metadata": {},
   "source": [
    "#### Phi Coefficient (Mean Square Contingency Coefficient)\n",
    "\n",
    "For the final part in statistical tests, we use the Phi Coefficient to determine the strength of the relationship between two binary variables. It's calculated as below:\n",
    "\n",
    "$$\\phi = \\sqrt{\\frac{\\chi^2}{n}}$$\n",
    "\n",
    "where $\\chi^2$ is the chai2 score and n is the total number of samples."
   ]
  },
  {
   "cell_type": "code",
   "execution_count": 89,
   "metadata": {},
   "outputs": [],
   "source": [
    "def calculate_phi_coeff(column1, column2):\n",
    "    contingency_table = pd.crosstab(column1, column2)\n",
    "    a = contingency_table.loc[0, 0]  \n",
    "    b = contingency_table.loc[0, 1]  \n",
    "    c = contingency_table.loc[1, 0]  \n",
    "    d = contingency_table.loc[1, 1]  \n",
    "\n",
    "    phi = (a * d - b * c) / np.sqrt((a + b) * (c + d) * (a + c) * (b + d))\n",
    "    return phi"
   ]
  },
  {
   "cell_type": "markdown",
   "metadata": {},
   "source": [
    "We use this coefficient to determine the strength of the relationship between all *having* features and we visualize the results in a heatmap:"
   ]
  },
  {
   "cell_type": "code",
   "execution_count": 90,
   "metadata": {},
   "outputs": [
    {
     "data": {
      "image/png": "[encoded data removed]",
      "text/plain": [
       "<Figure size 640x480 with 2 Axes>"
      ]
     },
     "metadata": {},
     "output_type": "display_data"
    }
   ],
   "source": [
    "features = [\"hasHeating\", \"hasCooling\", \"hasFireplace\", \"hasSpa\", \"hasView\", \"hasPrivatePool\"]\n",
    "\n",
    "phi_coeff_matrix = pd.DataFrame(index=features, columns=features)\n",
    "\n",
    "for feature1 in features:\n",
    "    for feature2 in features:\n",
    "        coeff = calculate_phi_coeff(df_filtered_hometypes[feature1], df_filtered_hometypes[feature2])\n",
    "        phi_coeff_matrix.loc[feature1, feature2] = coeff\n",
    "\n",
    "phi_coeff_matrix = phi_coeff_matrix.astype(float)\n",
    "\n",
    "sns.heatmap(phi_coeff_matrix, annot=True, cmap='coolwarm', vmin=-1, vmax=1)\n",
    "plt.title('Phi Coefficient Matrix')\n",
    "plt.show()"
   ]
  },
  {
   "cell_type": "markdown",
   "metadata": {},
   "source": [
    "From the heatmap we can see that (`hasCooling`, `hasView`) and (`hasFireplace`, `hasView`) have the highest relationship with each other and the home type. (`hasSpa`, `hasPrivatePool`) and (`hasCooling`, `hasHeating`) also have a high relationship with each other which is something that we can expect."
   ]
  }
 ],
 "metadata": {
  "kernelspec": {
   "display_name": "Python 3",
   "language": "python",
   "name": "python3"
  },
  "language_info": {
   "codemirror_mode": {
    "name": "ipython",
    "version": 3
   },
   "file_extension": ".py",
   "mimetype": "text/x-python",
   "name": "python",
   "nbconvert_exporter": "python",
   "pygments_lexer": "ipython3",
   "version": "3.10.6"
  }
 },
 "nbformat": 4,
 "nbformat_minor": 2
}

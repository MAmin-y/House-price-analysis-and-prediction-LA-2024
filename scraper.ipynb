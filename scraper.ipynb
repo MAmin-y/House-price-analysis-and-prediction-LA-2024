{
 "cells": [
  {
   "cell_type": "code",
   "execution_count": null,
   "metadata": {},
   "outputs": [],
   "source": [
    "START_URL = \"https://www.zillow.com/los-angeles-ca/sold/?searchQueryState=%7B%22pagination%22%3A%7B%7D%2C%22isMapVisible%22%3Atrue%2C%22mapBounds%22%3A%7B%22west%22%3A-118.95143586914062%2C%22east%22%3A-117.87202913085937%2C%22south%22%3A33.67720212849842%2C%22north%22%3A34.36355099753262%7D%2C%22usersSearchTerm%22%3A%22Los%20Angeles%2C%20CA%22%2C%22regionSelection%22%3A%5B%7B%22regionId%22%3A12447%2C%22regionType%22%3A6%7D%5D%2C%22filterState%22%3A%7B%22sort%22%3A%7B%22value%22%3A%22globalrelevanceex%22%7D%2C%22fsba%22%3A%7B%22value%22%3Afalse%7D%2C%22fsbo%22%3A%7B%22value%22%3Afalse%7D%2C%22nc%22%3A%7B%22value%22%3Afalse%7D%2C%22cmsn%22%3A%7B%22value%22%3Afalse%7D%2C%22auc%22%3A%7B%22value%22%3Afalse%7D%2C%22fore%22%3A%7B%22value%22%3Afalse%7D%2C%22rs%22%3A%7B%22value%22%3Atrue%7D%2C%22ah%22%3A%7B%22value%22%3Atrue%7D%2C%22doz%22%3A%7B%22value%22%3A%2290%22%7D%7D%2C%22isListVisible%22%3Atrue%7D\""
   ]
  },
  {
   "cell_type": "code",
   "execution_count": 19,
   "metadata": {},
   "outputs": [
    {
     "name": "stdout",
     "output_type": "stream",
     "text": [
      "0\n"
     ]
    }
   ],
   "source": [
    "from selenium import webdriver\n",
    "from selenium.webdriver.common.by import By\n",
    "from selenium.webdriver.support.ui import WebDriverWait\n",
    "from selenium.webdriver.support import expected_conditions as EC\n",
    "import time\n",
    "\n",
    "def scrape_house_links(number_of_pages, starting_page_link):\n",
    "\n",
    "    file = open(\"links.txt\", \"w+\")\n",
    "\n",
    "    options = webdriver.ChromeOptions() \n",
    "    options.add_argument(\"--disable-blink-features=AutomationControlled\") \n",
    "    options.add_experimental_option(\"excludeSwitches\", [\"enable-automation\"]) \n",
    "    options.add_experimental_option(\"useAutomationExtension\", False) \n",
    "    \n",
    "    driver = webdriver.Chrome(options=options) \n",
    "    driver.execute_script(\"Object.defineProperty(navigator, 'webdriver', {get: () => undefined})\") \n",
    "    driver.set_window_size(800, 600)\n",
    "    \n",
    "    driver.get(starting_page_link)\n",
    "\n",
    "    for i in range(number_of_pages):\n",
    "        print(i)\n",
    "        element_present = EC.presence_of_element_located((By.ID, 'grid-search-results'))\n",
    "        WebDriverWait(driver, timeout=10).until(element_present)\n",
    "        total_height = driver.execute_script(\"return document.body.scrollHeight\")\n",
    "\n",
    "        scroll_position = 0\n",
    "\n",
    "        while scroll_position < total_height:\n",
    "            scroll_position += 500\n",
    "            driver.execute_script(\"window.scrollTo(0, {});\".format(scroll_position))\n",
    "            time.sleep(0.5)\n",
    "            \n",
    "        link_elements = driver.find_elements(By.CLASS_NAME, \"carousel-photo\")\n",
    "        links = {link.get_attribute(\"href\") for link in link_elements}\n",
    "        for link in links:\n",
    "            file.write(link + \"\\n\")\n",
    "            \n",
    "        next_button = driver.find_element(By.XPATH, '//*[@id=\"grid-search-results\"]/div[2]/nav/ul/li[10]/a')\n",
    "        driver.execute_script(\"window.scrollTo(0, arguments[0].scrollHeight)\", next_button)\n",
    "\n",
    "        if(i == number_of_pages):\n",
    "            next_button.click()\n",
    "\n",
    "    file.close()\n",
    "    \n",
    "\n",
    "scrape_house_links(1,\"https://www.zillow.com/los-angeles-ca/sold/?searchQueryState=%7B%22pagination%22%3A%7B%7D%2C%22isMapVisible%22%3Atrue%2C%22mapBounds%22%3A%7B%22west%22%3A-119.57902986328125%2C%22east%22%3A-117.24443513671875%2C%22south%22%3A33.30096831253079%2C%22north%22%3A34.73511441562888%7D%2C%22usersSearchTerm%22%3A%22Los%20Angeles%2C%20CA%22%2C%22regionSelection%22%3A%5B%7B%22regionId%22%3A12447%2C%22regionType%22%3A6%7D%5D%2C%22filterState%22%3A%7B%22sort%22%3A%7B%22value%22%3A%22globalrelevanceex%22%7D%2C%22fsba%22%3A%7B%22value%22%3Afalse%7D%2C%22fsbo%22%3A%7B%22value%22%3Afalse%7D%2C%22nc%22%3A%7B%22value%22%3Afalse%7D%2C%22cmsn%22%3A%7B%22value%22%3Afalse%7D%2C%22auc%22%3A%7B%22value%22%3Afalse%7D%2C%22fore%22%3A%7B%22value%22%3Afalse%7D%2C%22rs%22%3A%7B%22value%22%3Atrue%7D%2C%22ah%22%3A%7B%22value%22%3Atrue%7D%2C%22doz%22%3A%7B%22value%22%3A%2290%22%7D%2C%22price%22%3A%7B%22min%22%3A1000%2C%22max%22%3A550000%7D%2C%22mp%22%3A%7B%22min%22%3A5%2C%22max%22%3A2846%7D%7D%2C%22isListVisible%22%3Atrue%2C%22mapZoom%22%3A9%7D\")"
   ]
  },
  {
   "cell_type": "code",
   "execution_count": 1,
   "metadata": {},
   "outputs": [],
   "source": [
    "import pyzill\n",
    "import json\n",
    "property_url=\"https://www.zillow.com/homedetails/288-Hermes-St-Simi-Valley-CA-93065/16449989_zpid/\"\n",
    "data = pyzill.get_from_property_url(property_url,\"\")\n",
    "jsondata = json.dumps(data)\n",
    "f = open(\"details.json\", \"w\")\n",
    "f.write(jsondata)\n",
    "f.close()\n",
    "\n",
    "//*[@id=\"swipeable\"]/div[1]/a\n"
   ]
  },
  {
   "cell_type": "code",
   "execution_count": 2,
   "metadata": {},
   "outputs": [
    {
     "ename": "KeyError",
     "evalue": "'address'",
     "output_type": "error",
     "traceback": [
      "\u001b[1;31m---------------------------------------------------------------------------\u001b[0m",
      "\u001b[1;31mKeyError\u001b[0m                                  Traceback (most recent call last)",
      "Cell \u001b[1;32mIn[2], line 38\u001b[0m\n\u001b[0;32m     36\u001b[0m sel \u001b[38;5;241m=\u001b[39m Selector(text\u001b[38;5;241m=\u001b[39mresp\u001b[38;5;241m.\u001b[39mtext)\n\u001b[0;32m     37\u001b[0m data \u001b[38;5;241m=\u001b[39m json\u001b[38;5;241m.\u001b[39mloads(sel\u001b[38;5;241m.\u001b[39mcss(\u001b[38;5;124m\"\u001b[39m\u001b[38;5;124mscript#__NEXT_DATA__::text\u001b[39m\u001b[38;5;124m\"\u001b[39m)\u001b[38;5;241m.\u001b[39mget())\n\u001b[1;32m---> 38\u001b[0m \u001b[38;5;28mprint\u001b[39m(\u001b[43mparse_property\u001b[49m\u001b[43m(\u001b[49m\u001b[43mdata\u001b[49m\u001b[43m)\u001b[49m)\n",
      "Cell \u001b[1;32mIn[2], line 12\u001b[0m, in \u001b[0;36mparse_property\u001b[1;34m(data)\u001b[0m\n\u001b[0;32m      8\u001b[0m \u001b[38;5;250m\u001b[39m\u001b[38;5;124;03m\"\"\"parse zillow property\"\"\"\u001b[39;00m\n\u001b[0;32m      9\u001b[0m \u001b[38;5;66;03m# zillow property data is massive, let's take a look just\u001b[39;00m\n\u001b[0;32m     10\u001b[0m \u001b[38;5;66;03m# at the basic information to keep this tutorial brief:\u001b[39;00m\n\u001b[0;32m     11\u001b[0m parsed \u001b[38;5;241m=\u001b[39m {\n\u001b[1;32m---> 12\u001b[0m     \u001b[38;5;124m\"\u001b[39m\u001b[38;5;124maddress\u001b[39m\u001b[38;5;124m\"\u001b[39m: \u001b[43mdata\u001b[49m\u001b[43m[\u001b[49m\u001b[38;5;124;43m\"\u001b[39;49m\u001b[38;5;124;43maddress\u001b[39;49m\u001b[38;5;124;43m\"\u001b[39;49m\u001b[43m]\u001b[49m,\n\u001b[0;32m     13\u001b[0m     \u001b[38;5;124m\"\u001b[39m\u001b[38;5;124mdescription\u001b[39m\u001b[38;5;124m\"\u001b[39m: data[\u001b[38;5;124m\"\u001b[39m\u001b[38;5;124mdescription\u001b[39m\u001b[38;5;124m\"\u001b[39m],\n\u001b[0;32m     14\u001b[0m     \u001b[38;5;124m\"\u001b[39m\u001b[38;5;124mphotos\u001b[39m\u001b[38;5;124m\"\u001b[39m: [photo[\u001b[38;5;124m\"\u001b[39m\u001b[38;5;124murl\u001b[39m\u001b[38;5;124m\"\u001b[39m] \u001b[38;5;28;01mfor\u001b[39;00m photo \u001b[38;5;129;01min\u001b[39;00m data[\u001b[38;5;124m\"\u001b[39m\u001b[38;5;124mgalleryPhotos\u001b[39m\u001b[38;5;124m\"\u001b[39m]],\n\u001b[0;32m     15\u001b[0m     \u001b[38;5;124m\"\u001b[39m\u001b[38;5;124mzipcode\u001b[39m\u001b[38;5;124m\"\u001b[39m: data[\u001b[38;5;124m\"\u001b[39m\u001b[38;5;124mzipcode\u001b[39m\u001b[38;5;124m\"\u001b[39m],\n\u001b[0;32m     16\u001b[0m     \u001b[38;5;124m\"\u001b[39m\u001b[38;5;124mphone\u001b[39m\u001b[38;5;124m\"\u001b[39m: data[\u001b[38;5;124m\"\u001b[39m\u001b[38;5;124mbuildingPhoneNumber\u001b[39m\u001b[38;5;124m\"\u001b[39m],\n\u001b[0;32m     17\u001b[0m     \u001b[38;5;124m\"\u001b[39m\u001b[38;5;124mname\u001b[39m\u001b[38;5;124m\"\u001b[39m: data[\u001b[38;5;124m\"\u001b[39m\u001b[38;5;124mbuildingName\u001b[39m\u001b[38;5;124m\"\u001b[39m],\n\u001b[0;32m     18\u001b[0m     \u001b[38;5;66;03m# floor plans include price details, availability etc.\u001b[39;00m\n\u001b[0;32m     19\u001b[0m     \u001b[38;5;124m\"\u001b[39m\u001b[38;5;124mfloor_plans\u001b[39m\u001b[38;5;124m\"\u001b[39m: data[\u001b[38;5;124m\"\u001b[39m\u001b[38;5;124mfloorPlans\u001b[39m\u001b[38;5;124m\"\u001b[39m],\n\u001b[0;32m     20\u001b[0m }\n\u001b[0;32m     21\u001b[0m \u001b[38;5;28;01mreturn\u001b[39;00m parsed\n",
      "\u001b[1;31mKeyError\u001b[0m: 'address'"
     ]
    }
   ],
   "source": [
    "# import json\n",
    "# import httpx\n",
    "\n",
    "# from parsel import Selector\n",
    "\n",
    "\n",
    "# def parse_property(data: dict) -> dict:\n",
    "#     \"\"\"parse zillow property\"\"\"\n",
    "#     # zillow property data is massive, let's take a look just\n",
    "#     # at the basic information to keep this tutorial brief:\n",
    "#     parsed = {\n",
    "#         \"address\": data[\"address\"],\n",
    "#         \"description\": data[\"description\"],\n",
    "#         \"photos\": [photo[\"url\"] for photo in data[\"galleryPhotos\"]],\n",
    "#         \"zipcode\": data[\"zipcode\"],\n",
    "#         \"phone\": data[\"buildingPhoneNumber\"],\n",
    "#         \"name\": data[\"buildingName\"],\n",
    "#         # floor plans include price details, availability etc.\n",
    "#         \"floor_plans\": data[\"floorPlans\"],\n",
    "#     }\n",
    "#     return parsed\n",
    "\n",
    "\n",
    "# BASE_HEADERS = {\n",
    "#     \"accept-language\": \"en-US,en;q=0.9\",\n",
    "#     \"user-agent\": \"Mozilla/5.0 (Windows NT 10.0; Win64; x64) AppleWebKit/537.36 (KHTML, like Gecko) Chrome/96.0.4664.110 Safari/537.36\",\n",
    "#     \"accept\": \"text/html,application/xhtml+xml,application/xml;q=0.9,image/webp,image/apng,*/*;q=0.8\",\n",
    "#     \"accept-language\": \"en-US;en;q=0.9\",\n",
    "#     \"accept-encoding\": \"gzip, deflate, br\",\n",
    "# }\n",
    "\n",
    "\n",
    "# url = \"https://www.zillow.com/homedetails/288-Hermes-St-Simi-Valley-CA-93065/16449989_zpid/\"\n",
    "# with httpx.Client(http2=True, headers=BASE_HEADERS, follow_redirects=True) as client:\n",
    "#     resp = client.get(url)\n",
    "# sel = Selector(text=resp.text)\n",
    "# data = json.loads(sel.css(\"script#__NEXT_DATA__::text\").get())\n",
    "# print(parse_property(data))"
   ]
  }
 ],
 "metadata": {
  "kernelspec": {
   "display_name": "Python 3",
   "language": "python",
   "name": "python3"
  },
  "language_info": {
   "codemirror_mode": {
    "name": "ipython",
    "version": 3
   },
   "file_extension": ".py",
   "mimetype": "text/x-python",
   "name": "python",
   "nbconvert_exporter": "python",
   "pygments_lexer": "ipython3",
   "version": "3.10.6"
  }
 },
 "nbformat": 4,
 "nbformat_minor": 2
}

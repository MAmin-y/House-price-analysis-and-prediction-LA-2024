{
 "cells": [
  {
   "cell_type": "code",
   "execution_count": null,
   "metadata": {},
   "outputs": [],
   "source": [
    "START_URL = \"https://www.zillow.com/los-angeles-ca/sold/?searchQueryState=%7B%22pagination%22%3A%7B%7D%2C%22isMapVisible%22%3Atrue%2C%22mapBounds%22%3A%7B%22west%22%3A-118.95143586914062%2C%22east%22%3A-117.87202913085937%2C%22south%22%3A33.67720212849842%2C%22north%22%3A34.36355099753262%7D%2C%22usersSearchTerm%22%3A%22Los%20Angeles%2C%20CA%22%2C%22regionSelection%22%3A%5B%7B%22regionId%22%3A12447%2C%22regionType%22%3A6%7D%5D%2C%22filterState%22%3A%7B%22sort%22%3A%7B%22value%22%3A%22globalrelevanceex%22%7D%2C%22fsba%22%3A%7B%22value%22%3Afalse%7D%2C%22fsbo%22%3A%7B%22value%22%3Afalse%7D%2C%22nc%22%3A%7B%22value%22%3Afalse%7D%2C%22cmsn%22%3A%7B%22value%22%3Afalse%7D%2C%22auc%22%3A%7B%22value%22%3Afalse%7D%2C%22fore%22%3A%7B%22value%22%3Afalse%7D%2C%22rs%22%3A%7B%22value%22%3Atrue%7D%2C%22ah%22%3A%7B%22value%22%3Atrue%7D%2C%22doz%22%3A%7B%22value%22%3A%2290%22%7D%7D%2C%22isListVisible%22%3Atrue%7D\""
   ]
  },
  {
   "cell_type": "code",
   "execution_count": 9,
   "metadata": {},
   "outputs": [
    {
     "name": "stdout",
     "output_type": "stream",
     "text": [
      "0\n",
      "1\n",
      "2\n",
      "3\n",
      "4\n",
      "5\n",
      "6\n",
      "7\n",
      "8\n",
      "9\n",
      "10\n",
      "11\n",
      "12\n",
      "13\n",
      "14\n",
      "15\n",
      "16\n",
      "17\n",
      "18\n"
     ]
    }
   ],
   "source": [
    "from selenium import webdriver\n",
    "from selenium.webdriver.common.by import By\n",
    "from selenium.webdriver.support.ui import WebDriverWait\n",
    "from selenium.webdriver.support import expected_conditions as EC\n",
    "import time\n",
    "\n",
    "def escarepe_from_to(number_of_pages, from_url):\n",
    "\n",
    "    file = open(\"links.txt\", \"w+\")\n",
    "\n",
    "    options = webdriver.ChromeOptions() \n",
    "    options.add_argument(\"--disable-blink-features=AutomationControlled\") \n",
    "    options.add_experimental_option(\"excludeSwitches\", [\"enable-automation\"]) \n",
    "    options.add_experimental_option(\"useAutomationExtension\", False) \n",
    "    \n",
    "    driver = webdriver.Chrome(options=options) \n",
    "    driver.execute_script(\"Object.defineProperty(navigator, 'webdriver', {get: () => undefined})\") \n",
    "    driver.set_window_size(800, 600)\n",
    "    \n",
    "    driver.get(from_url)\n",
    "\n",
    "    for i in range(number_of_pages):\n",
    "        print(i)\n",
    "        element_present = EC.presence_of_element_located((By.ID, 'grid-search-results'))\n",
    "        WebDriverWait(driver, timeout=10).until(element_present)\n",
    "        total_height = driver.execute_script(\"return document.body.scrollHeight\")\n",
    "\n",
    "        scroll_position = 0\n",
    "\n",
    "        while scroll_position < total_height:\n",
    "            scroll_position += 500\n",
    "            driver.execute_script(\"window.scrollTo(0, {});\".format(scroll_position))\n",
    "            time.sleep(0.5)\n",
    "            \n",
    "        links = driver.find_elements(By.CLASS_NAME, \"carousel-photo\")\n",
    "        for link in links:\n",
    "            file.write(link.get_attribute(\"href\") + \"\\n\")\n",
    "            \n",
    "        next_button = driver.find_element(By.XPATH, '//*[@id=\"grid-search-results\"]/div[2]/nav/ul/li[10]/a')\n",
    "        driver.execute_script(\"window.scrollTo(0, arguments[0].scrollHeight)\", next_button)\n",
    "\n",
    "        if(i == number_of_pages):\n",
    "            next_button.click()\n",
    "\n",
    "    file.close()\n",
    "    \n",
    "\n",
    "escarepe_from_to(19,\"https://www.zillow.com/los-angeles-ca/sold/?searchQueryState=%7B%22pagination%22%3A%7B%7D%2C%22isMapVisible%22%3Atrue%2C%22mapBounds%22%3A%7B%22west%22%3A-119.57902986328125%2C%22east%22%3A-117.24443513671875%2C%22south%22%3A33.30096831253079%2C%22north%22%3A34.73511441562888%7D%2C%22usersSearchTerm%22%3A%22Los%20Angeles%2C%20CA%22%2C%22regionSelection%22%3A%5B%7B%22regionId%22%3A12447%2C%22regionType%22%3A6%7D%5D%2C%22filterState%22%3A%7B%22sort%22%3A%7B%22value%22%3A%22globalrelevanceex%22%7D%2C%22fsba%22%3A%7B%22value%22%3Afalse%7D%2C%22fsbo%22%3A%7B%22value%22%3Afalse%7D%2C%22nc%22%3A%7B%22value%22%3Afalse%7D%2C%22cmsn%22%3A%7B%22value%22%3Afalse%7D%2C%22auc%22%3A%7B%22value%22%3Afalse%7D%2C%22fore%22%3A%7B%22value%22%3Afalse%7D%2C%22rs%22%3A%7B%22value%22%3Atrue%7D%2C%22ah%22%3A%7B%22value%22%3Atrue%7D%2C%22doz%22%3A%7B%22value%22%3A%2290%22%7D%2C%22price%22%3A%7B%22min%22%3A1000%2C%22max%22%3A550000%7D%2C%22mp%22%3A%7B%22min%22%3A5%2C%22max%22%3A2846%7D%7D%2C%22isListVisible%22%3Atrue%2C%22mapZoom%22%3A9%7D\")"
   ]
  }
 ],
 "metadata": {
  "kernelspec": {
   "display_name": "Python 3",
   "language": "python",
   "name": "python3"
  },
  "language_info": {
   "codemirror_mode": {
    "name": "ipython",
    "version": 3
   },
   "file_extension": ".py",
   "mimetype": "text/x-python",
   "name": "python",
   "nbconvert_exporter": "python",
   "pygments_lexer": "ipython3",
   "version": "3.11.4"
  }
 },
 "nbformat": 4,
 "nbformat_minor": 2
}

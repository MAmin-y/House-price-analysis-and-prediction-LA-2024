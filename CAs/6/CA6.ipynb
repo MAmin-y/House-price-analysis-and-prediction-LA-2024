{
 "cells": [
  {
   "cell_type": "markdown",
   "metadata": {},
   "source": [
    "# Computer Assignment #6\n",
    "\n",
    "## Clustering\n",
    "\n",
    "- **Ali Hamzehpour 810100129**\n",
    "- **Mina Shirazi 810100250**\n",
    "- **Mohammad Amin Yousefi 810100236**\n",
    "\n",
    "### Summary\n",
    "In this Computer Assignment, we will delve into dimensionality reduction and unsupervised learning tasks.Firstly, we should preprocess the provided dataset to prepare it for analysis. Next, we will apply dimensionality reduction techniques to simplify the dataset's complexity. Then, we will use unsupervised learning algorithms to tackle the task. Finally, we evaluate and analyze the results for comparison."
   ]
  },
  {
   "cell_type": "markdown",
   "metadata": {},
   "source": [
    "## Part 1: Preprocessing\n",
    "\n",
    "In this part we are given a dataset. We should preprocess the data and extract beneficial features from it.\n"
   ]
  },
  {
   "cell_type": "code",
   "execution_count": 1,
   "metadata": {},
   "outputs": [
    {
     "data": {
      "text/html": [
       "<div>\n",
       "<style scoped>\n",
       "    .dataframe tbody tr th:only-of-type {\n",
       "        vertical-align: middle;\n",
       "    }\n",
       "\n",
       "    .dataframe tbody tr th {\n",
       "        vertical-align: top;\n",
       "    }\n",
       "\n",
       "    .dataframe thead th {\n",
       "        text-align: right;\n",
       "    }\n",
       "</style>\n",
       "<table border=\"1\" class=\"dataframe\">\n",
       "  <thead>\n",
       "    <tr style=\"text-align: right;\">\n",
       "      <th></th>\n",
       "      <th>encounter_id</th>\n",
       "      <th>patient_nbr</th>\n",
       "      <th>race</th>\n",
       "      <th>gender</th>\n",
       "      <th>age</th>\n",
       "      <th>weight</th>\n",
       "      <th>admission_type_id</th>\n",
       "      <th>discharge_disposition_id</th>\n",
       "      <th>admission_source_id</th>\n",
       "      <th>time_in_hospital</th>\n",
       "      <th>...</th>\n",
       "      <th>citoglipton</th>\n",
       "      <th>insulin</th>\n",
       "      <th>glyburide-metformin</th>\n",
       "      <th>glipizide-metformin</th>\n",
       "      <th>glimepiride-pioglitazone</th>\n",
       "      <th>metformin-rosiglitazone</th>\n",
       "      <th>metformin-pioglitazone</th>\n",
       "      <th>change</th>\n",
       "      <th>diabetesMed</th>\n",
       "      <th>readmitted</th>\n",
       "    </tr>\n",
       "  </thead>\n",
       "  <tbody>\n",
       "    <tr>\n",
       "      <th>0</th>\n",
       "      <td>2278392</td>\n",
       "      <td>8222157</td>\n",
       "      <td>Caucasian</td>\n",
       "      <td>Female</td>\n",
       "      <td>[0-10)</td>\n",
       "      <td>?</td>\n",
       "      <td>6</td>\n",
       "      <td>25</td>\n",
       "      <td>1</td>\n",
       "      <td>1</td>\n",
       "      <td>...</td>\n",
       "      <td>No</td>\n",
       "      <td>No</td>\n",
       "      <td>No</td>\n",
       "      <td>No</td>\n",
       "      <td>No</td>\n",
       "      <td>No</td>\n",
       "      <td>No</td>\n",
       "      <td>No</td>\n",
       "      <td>No</td>\n",
       "      <td>NO</td>\n",
       "    </tr>\n",
       "    <tr>\n",
       "      <th>1</th>\n",
       "      <td>149190</td>\n",
       "      <td>55629189</td>\n",
       "      <td>Caucasian</td>\n",
       "      <td>Female</td>\n",
       "      <td>[10-20)</td>\n",
       "      <td>?</td>\n",
       "      <td>1</td>\n",
       "      <td>1</td>\n",
       "      <td>7</td>\n",
       "      <td>3</td>\n",
       "      <td>...</td>\n",
       "      <td>No</td>\n",
       "      <td>Up</td>\n",
       "      <td>No</td>\n",
       "      <td>No</td>\n",
       "      <td>No</td>\n",
       "      <td>No</td>\n",
       "      <td>No</td>\n",
       "      <td>Ch</td>\n",
       "      <td>Yes</td>\n",
       "      <td>&gt;30</td>\n",
       "    </tr>\n",
       "    <tr>\n",
       "      <th>2</th>\n",
       "      <td>64410</td>\n",
       "      <td>86047875</td>\n",
       "      <td>AfricanAmerican</td>\n",
       "      <td>Female</td>\n",
       "      <td>[20-30)</td>\n",
       "      <td>?</td>\n",
       "      <td>1</td>\n",
       "      <td>1</td>\n",
       "      <td>7</td>\n",
       "      <td>2</td>\n",
       "      <td>...</td>\n",
       "      <td>No</td>\n",
       "      <td>No</td>\n",
       "      <td>No</td>\n",
       "      <td>No</td>\n",
       "      <td>No</td>\n",
       "      <td>No</td>\n",
       "      <td>No</td>\n",
       "      <td>No</td>\n",
       "      <td>Yes</td>\n",
       "      <td>NO</td>\n",
       "    </tr>\n",
       "    <tr>\n",
       "      <th>3</th>\n",
       "      <td>500364</td>\n",
       "      <td>82442376</td>\n",
       "      <td>Caucasian</td>\n",
       "      <td>Male</td>\n",
       "      <td>[30-40)</td>\n",
       "      <td>?</td>\n",
       "      <td>1</td>\n",
       "      <td>1</td>\n",
       "      <td>7</td>\n",
       "      <td>2</td>\n",
       "      <td>...</td>\n",
       "      <td>No</td>\n",
       "      <td>Up</td>\n",
       "      <td>No</td>\n",
       "      <td>No</td>\n",
       "      <td>No</td>\n",
       "      <td>No</td>\n",
       "      <td>No</td>\n",
       "      <td>Ch</td>\n",
       "      <td>Yes</td>\n",
       "      <td>NO</td>\n",
       "    </tr>\n",
       "    <tr>\n",
       "      <th>4</th>\n",
       "      <td>16680</td>\n",
       "      <td>42519267</td>\n",
       "      <td>Caucasian</td>\n",
       "      <td>Male</td>\n",
       "      <td>[40-50)</td>\n",
       "      <td>?</td>\n",
       "      <td>1</td>\n",
       "      <td>1</td>\n",
       "      <td>7</td>\n",
       "      <td>1</td>\n",
       "      <td>...</td>\n",
       "      <td>No</td>\n",
       "      <td>Steady</td>\n",
       "      <td>No</td>\n",
       "      <td>No</td>\n",
       "      <td>No</td>\n",
       "      <td>No</td>\n",
       "      <td>No</td>\n",
       "      <td>Ch</td>\n",
       "      <td>Yes</td>\n",
       "      <td>NO</td>\n",
       "    </tr>\n",
       "  </tbody>\n",
       "</table>\n",
       "<p>5 rows × 50 columns</p>\n",
       "</div>"
      ],
      "text/plain": [
       "   encounter_id  patient_nbr             race  gender      age weight  \\\n",
       "0       2278392      8222157        Caucasian  Female   [0-10)      ?   \n",
       "1        149190     55629189        Caucasian  Female  [10-20)      ?   \n",
       "2         64410     86047875  AfricanAmerican  Female  [20-30)      ?   \n",
       "3        500364     82442376        Caucasian    Male  [30-40)      ?   \n",
       "4         16680     42519267        Caucasian    Male  [40-50)      ?   \n",
       "\n",
       "   admission_type_id  discharge_disposition_id  admission_source_id  \\\n",
       "0                  6                        25                    1   \n",
       "1                  1                         1                    7   \n",
       "2                  1                         1                    7   \n",
       "3                  1                         1                    7   \n",
       "4                  1                         1                    7   \n",
       "\n",
       "   time_in_hospital  ... citoglipton insulin  glyburide-metformin  \\\n",
       "0                 1  ...          No      No                   No   \n",
       "1                 3  ...          No      Up                   No   \n",
       "2                 2  ...          No      No                   No   \n",
       "3                 2  ...          No      Up                   No   \n",
       "4                 1  ...          No  Steady                   No   \n",
       "\n",
       "   glipizide-metformin  glimepiride-pioglitazone  metformin-rosiglitazone  \\\n",
       "0                   No                        No                       No   \n",
       "1                   No                        No                       No   \n",
       "2                   No                        No                       No   \n",
       "3                   No                        No                       No   \n",
       "4                   No                        No                       No   \n",
       "\n",
       "   metformin-pioglitazone  change diabetesMed readmitted  \n",
       "0                      No      No          No         NO  \n",
       "1                      No      Ch         Yes        >30  \n",
       "2                      No      No         Yes         NO  \n",
       "3                      No      Ch         Yes         NO  \n",
       "4                      No      Ch         Yes         NO  \n",
       "\n",
       "[5 rows x 50 columns]"
      ]
     },
     "execution_count": 1,
     "metadata": {},
     "output_type": "execute_result"
    }
   ],
   "source": [
    "import pandas as pd \n",
    "\n",
    "df = pd.read_csv('diabetic_data.csv')\n",
    "\n",
    "df.head()"
   ]
  },
  {
   "cell_type": "code",
   "execution_count": 2,
   "metadata": {},
   "outputs": [
    {
     "name": "stdout",
     "output_type": "stream",
     "text": [
      "<class 'pandas.core.frame.DataFrame'>\n",
      "RangeIndex: 101766 entries, 0 to 101765\n",
      "Data columns (total 50 columns):\n",
      " #   Column                    Non-Null Count   Dtype \n",
      "---  ------                    --------------   ----- \n",
      " 0   encounter_id              101766 non-null  int64 \n",
      " 1   patient_nbr               101766 non-null  int64 \n",
      " 2   race                      101766 non-null  object\n",
      " 3   gender                    101766 non-null  object\n",
      " 4   age                       101766 non-null  object\n",
      " 5   weight                    101766 non-null  object\n",
      " 6   admission_type_id         101766 non-null  int64 \n",
      " 7   discharge_disposition_id  101766 non-null  int64 \n",
      " 8   admission_source_id       101766 non-null  int64 \n",
      " 9   time_in_hospital          101766 non-null  int64 \n",
      " 10  payer_code                101766 non-null  object\n",
      " 11  medical_specialty         101766 non-null  object\n",
      " 12  num_lab_procedures        101766 non-null  int64 \n",
      " 13  num_procedures            101766 non-null  int64 \n",
      " 14  num_medications           101766 non-null  int64 \n",
      " 15  number_outpatient         101766 non-null  int64 \n",
      " 16  number_emergency          101766 non-null  int64 \n",
      " 17  number_inpatient          101766 non-null  int64 \n",
      " 18  diag_1                    101766 non-null  object\n",
      " 19  diag_2                    101766 non-null  object\n",
      " 20  diag_3                    101766 non-null  object\n",
      " 21  number_diagnoses          101766 non-null  int64 \n",
      " 22  max_glu_serum             5346 non-null    object\n",
      " 23  A1Cresult                 17018 non-null   object\n",
      " 24  metformin                 101766 non-null  object\n",
      " 25  repaglinide               101766 non-null  object\n",
      " 26  nateglinide               101766 non-null  object\n",
      " 27  chlorpropamide            101766 non-null  object\n",
      " 28  glimepiride               101766 non-null  object\n",
      " 29  acetohexamide             101766 non-null  object\n",
      " 30  glipizide                 101766 non-null  object\n",
      " 31  glyburide                 101766 non-null  object\n",
      " 32  tolbutamide               101766 non-null  object\n",
      " 33  pioglitazone              101766 non-null  object\n",
      " 34  rosiglitazone             101766 non-null  object\n",
      " 35  acarbose                  101766 non-null  object\n",
      " 36  miglitol                  101766 non-null  object\n",
      " 37  troglitazone              101766 non-null  object\n",
      " 38  tolazamide                101766 non-null  object\n",
      " 39  examide                   101766 non-null  object\n",
      " 40  citoglipton               101766 non-null  object\n",
      " 41  insulin                   101766 non-null  object\n",
      " 42  glyburide-metformin       101766 non-null  object\n",
      " 43  glipizide-metformin       101766 non-null  object\n",
      " 44  glimepiride-pioglitazone  101766 non-null  object\n",
      " 45  metformin-rosiglitazone   101766 non-null  object\n",
      " 46  metformin-pioglitazone    101766 non-null  object\n",
      " 47  change                    101766 non-null  object\n",
      " 48  diabetesMed               101766 non-null  object\n",
      " 49  readmitted                101766 non-null  object\n",
      "dtypes: int64(13), object(37)\n",
      "memory usage: 38.8+ MB\n"
     ]
    }
   ],
   "source": [
    "df.info()"
   ]
  },
  {
   "cell_type": "code",
   "execution_count": 3,
   "metadata": {},
   "outputs": [
    {
     "data": {
      "text/plain": [
       "encounter_id                    0\n",
       "patient_nbr                     0\n",
       "race                            0\n",
       "gender                          0\n",
       "age                             0\n",
       "weight                          0\n",
       "admission_type_id               0\n",
       "discharge_disposition_id        0\n",
       "admission_source_id             0\n",
       "time_in_hospital                0\n",
       "payer_code                      0\n",
       "medical_specialty               0\n",
       "num_lab_procedures              0\n",
       "num_procedures                  0\n",
       "num_medications                 0\n",
       "number_outpatient               0\n",
       "number_emergency                0\n",
       "number_inpatient                0\n",
       "diag_1                          0\n",
       "diag_2                          0\n",
       "diag_3                          0\n",
       "number_diagnoses                0\n",
       "max_glu_serum               96420\n",
       "A1Cresult                   84748\n",
       "metformin                       0\n",
       "repaglinide                     0\n",
       "nateglinide                     0\n",
       "chlorpropamide                  0\n",
       "glimepiride                     0\n",
       "acetohexamide                   0\n",
       "glipizide                       0\n",
       "glyburide                       0\n",
       "tolbutamide                     0\n",
       "pioglitazone                    0\n",
       "rosiglitazone                   0\n",
       "acarbose                        0\n",
       "miglitol                        0\n",
       "troglitazone                    0\n",
       "tolazamide                      0\n",
       "examide                         0\n",
       "citoglipton                     0\n",
       "insulin                         0\n",
       "glyburide-metformin             0\n",
       "glipizide-metformin             0\n",
       "glimepiride-pioglitazone        0\n",
       "metformin-rosiglitazone         0\n",
       "metformin-pioglitazone          0\n",
       "change                          0\n",
       "diabetesMed                     0\n",
       "readmitted                      0\n",
       "dtype: int64"
      ]
     },
     "execution_count": 3,
     "metadata": {},
     "output_type": "execute_result"
    }
   ],
   "source": [
    "df.isnull().sum()"
   ]
  },
  {
   "cell_type": "markdown",
   "metadata": {},
   "source": [
    "```max_glu_serum``` has a lot of none values, so we drop this column."
   ]
  },
  {
   "cell_type": "code",
   "execution_count": 4,
   "metadata": {},
   "outputs": [
    {
     "data": {
      "text/plain": [
       "max_glu_serum\n",
       "Norm    2597\n",
       ">200    1485\n",
       ">300    1264\n",
       "Name: count, dtype: int64"
      ]
     },
     "execution_count": 4,
     "metadata": {},
     "output_type": "execute_result"
    }
   ],
   "source": [
    "df[\"max_glu_serum\"].value_counts()"
   ]
  },
  {
   "cell_type": "code",
   "execution_count": 5,
   "metadata": {},
   "outputs": [],
   "source": [
    "df = df.drop(columns=[\"max_glu_serum\"])"
   ]
  },
  {
   "cell_type": "markdown",
   "metadata": {},
   "source": [
    "```A1Cresult``` has a lot of none values, so we drop this column."
   ]
  },
  {
   "cell_type": "code",
   "execution_count": 6,
   "metadata": {},
   "outputs": [
    {
     "data": {
      "text/plain": [
       "A1Cresult\n",
       ">8      8216\n",
       "Norm    4990\n",
       ">7      3812\n",
       "Name: count, dtype: int64"
      ]
     },
     "execution_count": 6,
     "metadata": {},
     "output_type": "execute_result"
    }
   ],
   "source": [
    "df[\"A1Cresult\"].value_counts()"
   ]
  },
  {
   "cell_type": "code",
   "execution_count": 7,
   "metadata": {},
   "outputs": [],
   "source": [
    "df = df.drop(columns=[\"A1Cresult\"])"
   ]
  },
  {
   "cell_type": "markdown",
   "metadata": {},
   "source": [
    "Now we try to remove duplicates but as you see, there is no duplicates in dataset."
   ]
  },
  {
   "cell_type": "code",
   "execution_count": 8,
   "metadata": {},
   "outputs": [
    {
     "name": "stdout",
     "output_type": "stream",
     "text": [
      "size before duplicate removal:  101766\n",
      "size after duplicate removal:  101766\n"
     ]
    }
   ],
   "source": [
    "print(\"size before duplicate removal: \", len(df))\n",
    "df = df.drop_duplicates()\n",
    "print(\"size after duplicate removal: \", len(df))"
   ]
  },
  {
   "cell_type": "code",
   "execution_count": 9,
   "metadata": {},
   "outputs": [],
   "source": [
    "#df = df.drop(columns=[\"encounter_id\"])"
   ]
  },
  {
   "cell_type": "markdown",
   "metadata": {},
   "source": [
    "```patient_nbr``` is unique for every patient, so we drop it. "
   ]
  },
  {
   "cell_type": "code",
   "execution_count": 10,
   "metadata": {},
   "outputs": [],
   "source": [
    "df = df.drop(columns=[\"patient_nbr\"])"
   ]
  },
  {
   "cell_type": "code",
   "execution_count": 11,
   "metadata": {},
   "outputs": [
    {
     "data": {
      "text/plain": [
       "race\n",
       "Caucasian          76099\n",
       "AfricanAmerican    19210\n",
       "?                   2273\n",
       "Hispanic            2037\n",
       "Other               1506\n",
       "Asian                641\n",
       "Name: count, dtype: int64"
      ]
     },
     "execution_count": 11,
     "metadata": {},
     "output_type": "execute_result"
    }
   ],
   "source": [
    "df[\"race\"].value_counts()"
   ]
  },
  {
   "cell_type": "code",
   "execution_count": 12,
   "metadata": {},
   "outputs": [],
   "source": [
    "df['race'] = df['race'].replace('?', 'Other')"
   ]
  },
  {
   "cell_type": "markdown",
   "metadata": {},
   "source": [
    "```LabelEncoder``` is used to convert categorical labels into numerical form. Each unique category value is assigned a number. This can be particularly useful for machine learning algorithms that require numerical input."
   ]
  },
  {
   "cell_type": "code",
   "execution_count": 13,
   "metadata": {},
   "outputs": [],
   "source": [
    "from sklearn.preprocessing import LabelEncoder\n",
    "\n",
    "le = LabelEncoder()\n",
    "df['race'] = le.fit_transform(df['race'])"
   ]
  },
  {
   "cell_type": "markdown",
   "metadata": {},
   "source": [
    "Since there are not many rows with unknown or invalid genders, we drop these rows."
   ]
  },
  {
   "cell_type": "code",
   "execution_count": 14,
   "metadata": {},
   "outputs": [
    {
     "data": {
      "text/plain": [
       "gender\n",
       "Female             54708\n",
       "Male               47055\n",
       "Unknown/Invalid        3\n",
       "Name: count, dtype: int64"
      ]
     },
     "execution_count": 14,
     "metadata": {},
     "output_type": "execute_result"
    }
   ],
   "source": [
    "df[\"gender\"].value_counts()"
   ]
  },
  {
   "cell_type": "code",
   "execution_count": 15,
   "metadata": {},
   "outputs": [],
   "source": [
    "df = df[df[\"gender\"] != \"Unknown/Invalid\"]"
   ]
  },
  {
   "cell_type": "markdown",
   "metadata": {},
   "source": [
    "Now, we set numerical values to gender column."
   ]
  },
  {
   "cell_type": "code",
   "execution_count": 16,
   "metadata": {},
   "outputs": [],
   "source": [
    "df[\"gender\"] = le.fit_transform(df[\"gender\"])"
   ]
  },
  {
   "cell_type": "code",
   "execution_count": 17,
   "metadata": {},
   "outputs": [
    {
     "data": {
      "text/html": [
       "<div>\n",
       "<style scoped>\n",
       "    .dataframe tbody tr th:only-of-type {\n",
       "        vertical-align: middle;\n",
       "    }\n",
       "\n",
       "    .dataframe tbody tr th {\n",
       "        vertical-align: top;\n",
       "    }\n",
       "\n",
       "    .dataframe thead th {\n",
       "        text-align: right;\n",
       "    }\n",
       "</style>\n",
       "<table border=\"1\" class=\"dataframe\">\n",
       "  <thead>\n",
       "    <tr style=\"text-align: right;\">\n",
       "      <th></th>\n",
       "      <th>encounter_id</th>\n",
       "      <th>race</th>\n",
       "      <th>gender</th>\n",
       "      <th>age</th>\n",
       "      <th>weight</th>\n",
       "      <th>admission_type_id</th>\n",
       "      <th>discharge_disposition_id</th>\n",
       "      <th>admission_source_id</th>\n",
       "      <th>time_in_hospital</th>\n",
       "      <th>payer_code</th>\n",
       "      <th>...</th>\n",
       "      <th>citoglipton</th>\n",
       "      <th>insulin</th>\n",
       "      <th>glyburide-metformin</th>\n",
       "      <th>glipizide-metformin</th>\n",
       "      <th>glimepiride-pioglitazone</th>\n",
       "      <th>metformin-rosiglitazone</th>\n",
       "      <th>metformin-pioglitazone</th>\n",
       "      <th>change</th>\n",
       "      <th>diabetesMed</th>\n",
       "      <th>readmitted</th>\n",
       "    </tr>\n",
       "  </thead>\n",
       "  <tbody>\n",
       "    <tr>\n",
       "      <th>0</th>\n",
       "      <td>2278392</td>\n",
       "      <td>2</td>\n",
       "      <td>0</td>\n",
       "      <td>[0-10)</td>\n",
       "      <td>?</td>\n",
       "      <td>6</td>\n",
       "      <td>25</td>\n",
       "      <td>1</td>\n",
       "      <td>1</td>\n",
       "      <td>?</td>\n",
       "      <td>...</td>\n",
       "      <td>No</td>\n",
       "      <td>No</td>\n",
       "      <td>No</td>\n",
       "      <td>No</td>\n",
       "      <td>No</td>\n",
       "      <td>No</td>\n",
       "      <td>No</td>\n",
       "      <td>No</td>\n",
       "      <td>No</td>\n",
       "      <td>NO</td>\n",
       "    </tr>\n",
       "    <tr>\n",
       "      <th>1</th>\n",
       "      <td>149190</td>\n",
       "      <td>2</td>\n",
       "      <td>0</td>\n",
       "      <td>[10-20)</td>\n",
       "      <td>?</td>\n",
       "      <td>1</td>\n",
       "      <td>1</td>\n",
       "      <td>7</td>\n",
       "      <td>3</td>\n",
       "      <td>?</td>\n",
       "      <td>...</td>\n",
       "      <td>No</td>\n",
       "      <td>Up</td>\n",
       "      <td>No</td>\n",
       "      <td>No</td>\n",
       "      <td>No</td>\n",
       "      <td>No</td>\n",
       "      <td>No</td>\n",
       "      <td>Ch</td>\n",
       "      <td>Yes</td>\n",
       "      <td>&gt;30</td>\n",
       "    </tr>\n",
       "    <tr>\n",
       "      <th>2</th>\n",
       "      <td>64410</td>\n",
       "      <td>0</td>\n",
       "      <td>0</td>\n",
       "      <td>[20-30)</td>\n",
       "      <td>?</td>\n",
       "      <td>1</td>\n",
       "      <td>1</td>\n",
       "      <td>7</td>\n",
       "      <td>2</td>\n",
       "      <td>?</td>\n",
       "      <td>...</td>\n",
       "      <td>No</td>\n",
       "      <td>No</td>\n",
       "      <td>No</td>\n",
       "      <td>No</td>\n",
       "      <td>No</td>\n",
       "      <td>No</td>\n",
       "      <td>No</td>\n",
       "      <td>No</td>\n",
       "      <td>Yes</td>\n",
       "      <td>NO</td>\n",
       "    </tr>\n",
       "    <tr>\n",
       "      <th>3</th>\n",
       "      <td>500364</td>\n",
       "      <td>2</td>\n",
       "      <td>1</td>\n",
       "      <td>[30-40)</td>\n",
       "      <td>?</td>\n",
       "      <td>1</td>\n",
       "      <td>1</td>\n",
       "      <td>7</td>\n",
       "      <td>2</td>\n",
       "      <td>?</td>\n",
       "      <td>...</td>\n",
       "      <td>No</td>\n",
       "      <td>Up</td>\n",
       "      <td>No</td>\n",
       "      <td>No</td>\n",
       "      <td>No</td>\n",
       "      <td>No</td>\n",
       "      <td>No</td>\n",
       "      <td>Ch</td>\n",
       "      <td>Yes</td>\n",
       "      <td>NO</td>\n",
       "    </tr>\n",
       "    <tr>\n",
       "      <th>4</th>\n",
       "      <td>16680</td>\n",
       "      <td>2</td>\n",
       "      <td>1</td>\n",
       "      <td>[40-50)</td>\n",
       "      <td>?</td>\n",
       "      <td>1</td>\n",
       "      <td>1</td>\n",
       "      <td>7</td>\n",
       "      <td>1</td>\n",
       "      <td>?</td>\n",
       "      <td>...</td>\n",
       "      <td>No</td>\n",
       "      <td>Steady</td>\n",
       "      <td>No</td>\n",
       "      <td>No</td>\n",
       "      <td>No</td>\n",
       "      <td>No</td>\n",
       "      <td>No</td>\n",
       "      <td>Ch</td>\n",
       "      <td>Yes</td>\n",
       "      <td>NO</td>\n",
       "    </tr>\n",
       "  </tbody>\n",
       "</table>\n",
       "<p>5 rows × 47 columns</p>\n",
       "</div>"
      ],
      "text/plain": [
       "   encounter_id  race  gender      age weight  admission_type_id  \\\n",
       "0       2278392     2       0   [0-10)      ?                  6   \n",
       "1        149190     2       0  [10-20)      ?                  1   \n",
       "2         64410     0       0  [20-30)      ?                  1   \n",
       "3        500364     2       1  [30-40)      ?                  1   \n",
       "4         16680     2       1  [40-50)      ?                  1   \n",
       "\n",
       "   discharge_disposition_id  admission_source_id  time_in_hospital payer_code  \\\n",
       "0                        25                    1                 1          ?   \n",
       "1                         1                    7                 3          ?   \n",
       "2                         1                    7                 2          ?   \n",
       "3                         1                    7                 2          ?   \n",
       "4                         1                    7                 1          ?   \n",
       "\n",
       "   ... citoglipton  insulin  glyburide-metformin  glipizide-metformin  \\\n",
       "0  ...          No       No                   No                   No   \n",
       "1  ...          No       Up                   No                   No   \n",
       "2  ...          No       No                   No                   No   \n",
       "3  ...          No       Up                   No                   No   \n",
       "4  ...          No   Steady                   No                   No   \n",
       "\n",
       "   glimepiride-pioglitazone  metformin-rosiglitazone  metformin-pioglitazone  \\\n",
       "0                        No                       No                      No   \n",
       "1                        No                       No                      No   \n",
       "2                        No                       No                      No   \n",
       "3                        No                       No                      No   \n",
       "4                        No                       No                      No   \n",
       "\n",
       "  change diabetesMed readmitted  \n",
       "0     No          No         NO  \n",
       "1     Ch         Yes        >30  \n",
       "2     No         Yes         NO  \n",
       "3     Ch         Yes         NO  \n",
       "4     Ch         Yes         NO  \n",
       "\n",
       "[5 rows x 47 columns]"
      ]
     },
     "execution_count": 17,
     "metadata": {},
     "output_type": "execute_result"
    }
   ],
   "source": [
    "df.head()"
   ]
  },
  {
   "cell_type": "code",
   "execution_count": 18,
   "metadata": {},
   "outputs": [
    {
     "data": {
      "text/plain": [
       "age\n",
       "[70-80)     26066\n",
       "[60-70)     22482\n",
       "[50-60)     17256\n",
       "[80-90)     17197\n",
       "[40-50)      9685\n",
       "[30-40)      3775\n",
       "[90-100)     2793\n",
       "[20-30)      1657\n",
       "[10-20)       691\n",
       "[0-10)        161\n",
       "Name: count, dtype: int64"
      ]
     },
     "execution_count": 18,
     "metadata": {},
     "output_type": "execute_result"
    }
   ],
   "source": [
    "df[\"age\"].value_counts()"
   ]
  },
  {
   "cell_type": "code",
   "execution_count": 19,
   "metadata": {},
   "outputs": [],
   "source": [
    "df[\"age\"] = df[\"age\"].map({\"[0-10)\": 0, \"[10-20)\": 1, \"[20-30)\": 2, \"[30-40)\": 3, \"[40-50)\": 4,\n",
    "                           \"[50-60)\": 5, \"[60-70)\": 6, \"[70-80)\": 7, \"[80-90)\": 8, \"[90-100)\": 9})"
   ]
  },
  {
   "cell_type": "code",
   "execution_count": 20,
   "metadata": {},
   "outputs": [
    {
     "data": {
      "text/html": [
       "<div>\n",
       "<style scoped>\n",
       "    .dataframe tbody tr th:only-of-type {\n",
       "        vertical-align: middle;\n",
       "    }\n",
       "\n",
       "    .dataframe tbody tr th {\n",
       "        vertical-align: top;\n",
       "    }\n",
       "\n",
       "    .dataframe thead th {\n",
       "        text-align: right;\n",
       "    }\n",
       "</style>\n",
       "<table border=\"1\" class=\"dataframe\">\n",
       "  <thead>\n",
       "    <tr style=\"text-align: right;\">\n",
       "      <th></th>\n",
       "      <th>encounter_id</th>\n",
       "      <th>race</th>\n",
       "      <th>gender</th>\n",
       "      <th>age</th>\n",
       "      <th>weight</th>\n",
       "      <th>admission_type_id</th>\n",
       "      <th>discharge_disposition_id</th>\n",
       "      <th>admission_source_id</th>\n",
       "      <th>time_in_hospital</th>\n",
       "      <th>payer_code</th>\n",
       "      <th>...</th>\n",
       "      <th>citoglipton</th>\n",
       "      <th>insulin</th>\n",
       "      <th>glyburide-metformin</th>\n",
       "      <th>glipizide-metformin</th>\n",
       "      <th>glimepiride-pioglitazone</th>\n",
       "      <th>metformin-rosiglitazone</th>\n",
       "      <th>metformin-pioglitazone</th>\n",
       "      <th>change</th>\n",
       "      <th>diabetesMed</th>\n",
       "      <th>readmitted</th>\n",
       "    </tr>\n",
       "  </thead>\n",
       "  <tbody>\n",
       "    <tr>\n",
       "      <th>0</th>\n",
       "      <td>2278392</td>\n",
       "      <td>2</td>\n",
       "      <td>0</td>\n",
       "      <td>0</td>\n",
       "      <td>?</td>\n",
       "      <td>6</td>\n",
       "      <td>25</td>\n",
       "      <td>1</td>\n",
       "      <td>1</td>\n",
       "      <td>?</td>\n",
       "      <td>...</td>\n",
       "      <td>No</td>\n",
       "      <td>No</td>\n",
       "      <td>No</td>\n",
       "      <td>No</td>\n",
       "      <td>No</td>\n",
       "      <td>No</td>\n",
       "      <td>No</td>\n",
       "      <td>No</td>\n",
       "      <td>No</td>\n",
       "      <td>NO</td>\n",
       "    </tr>\n",
       "    <tr>\n",
       "      <th>1</th>\n",
       "      <td>149190</td>\n",
       "      <td>2</td>\n",
       "      <td>0</td>\n",
       "      <td>1</td>\n",
       "      <td>?</td>\n",
       "      <td>1</td>\n",
       "      <td>1</td>\n",
       "      <td>7</td>\n",
       "      <td>3</td>\n",
       "      <td>?</td>\n",
       "      <td>...</td>\n",
       "      <td>No</td>\n",
       "      <td>Up</td>\n",
       "      <td>No</td>\n",
       "      <td>No</td>\n",
       "      <td>No</td>\n",
       "      <td>No</td>\n",
       "      <td>No</td>\n",
       "      <td>Ch</td>\n",
       "      <td>Yes</td>\n",
       "      <td>&gt;30</td>\n",
       "    </tr>\n",
       "    <tr>\n",
       "      <th>2</th>\n",
       "      <td>64410</td>\n",
       "      <td>0</td>\n",
       "      <td>0</td>\n",
       "      <td>2</td>\n",
       "      <td>?</td>\n",
       "      <td>1</td>\n",
       "      <td>1</td>\n",
       "      <td>7</td>\n",
       "      <td>2</td>\n",
       "      <td>?</td>\n",
       "      <td>...</td>\n",
       "      <td>No</td>\n",
       "      <td>No</td>\n",
       "      <td>No</td>\n",
       "      <td>No</td>\n",
       "      <td>No</td>\n",
       "      <td>No</td>\n",
       "      <td>No</td>\n",
       "      <td>No</td>\n",
       "      <td>Yes</td>\n",
       "      <td>NO</td>\n",
       "    </tr>\n",
       "    <tr>\n",
       "      <th>3</th>\n",
       "      <td>500364</td>\n",
       "      <td>2</td>\n",
       "      <td>1</td>\n",
       "      <td>3</td>\n",
       "      <td>?</td>\n",
       "      <td>1</td>\n",
       "      <td>1</td>\n",
       "      <td>7</td>\n",
       "      <td>2</td>\n",
       "      <td>?</td>\n",
       "      <td>...</td>\n",
       "      <td>No</td>\n",
       "      <td>Up</td>\n",
       "      <td>No</td>\n",
       "      <td>No</td>\n",
       "      <td>No</td>\n",
       "      <td>No</td>\n",
       "      <td>No</td>\n",
       "      <td>Ch</td>\n",
       "      <td>Yes</td>\n",
       "      <td>NO</td>\n",
       "    </tr>\n",
       "    <tr>\n",
       "      <th>4</th>\n",
       "      <td>16680</td>\n",
       "      <td>2</td>\n",
       "      <td>1</td>\n",
       "      <td>4</td>\n",
       "      <td>?</td>\n",
       "      <td>1</td>\n",
       "      <td>1</td>\n",
       "      <td>7</td>\n",
       "      <td>1</td>\n",
       "      <td>?</td>\n",
       "      <td>...</td>\n",
       "      <td>No</td>\n",
       "      <td>Steady</td>\n",
       "      <td>No</td>\n",
       "      <td>No</td>\n",
       "      <td>No</td>\n",
       "      <td>No</td>\n",
       "      <td>No</td>\n",
       "      <td>Ch</td>\n",
       "      <td>Yes</td>\n",
       "      <td>NO</td>\n",
       "    </tr>\n",
       "  </tbody>\n",
       "</table>\n",
       "<p>5 rows × 47 columns</p>\n",
       "</div>"
      ],
      "text/plain": [
       "   encounter_id  race  gender  age weight  admission_type_id  \\\n",
       "0       2278392     2       0    0      ?                  6   \n",
       "1        149190     2       0    1      ?                  1   \n",
       "2         64410     0       0    2      ?                  1   \n",
       "3        500364     2       1    3      ?                  1   \n",
       "4         16680     2       1    4      ?                  1   \n",
       "\n",
       "   discharge_disposition_id  admission_source_id  time_in_hospital payer_code  \\\n",
       "0                        25                    1                 1          ?   \n",
       "1                         1                    7                 3          ?   \n",
       "2                         1                    7                 2          ?   \n",
       "3                         1                    7                 2          ?   \n",
       "4                         1                    7                 1          ?   \n",
       "\n",
       "   ... citoglipton  insulin  glyburide-metformin  glipizide-metformin  \\\n",
       "0  ...          No       No                   No                   No   \n",
       "1  ...          No       Up                   No                   No   \n",
       "2  ...          No       No                   No                   No   \n",
       "3  ...          No       Up                   No                   No   \n",
       "4  ...          No   Steady                   No                   No   \n",
       "\n",
       "   glimepiride-pioglitazone  metformin-rosiglitazone  metformin-pioglitazone  \\\n",
       "0                        No                       No                      No   \n",
       "1                        No                       No                      No   \n",
       "2                        No                       No                      No   \n",
       "3                        No                       No                      No   \n",
       "4                        No                       No                      No   \n",
       "\n",
       "  change diabetesMed readmitted  \n",
       "0     No          No         NO  \n",
       "1     Ch         Yes        >30  \n",
       "2     No         Yes         NO  \n",
       "3     Ch         Yes         NO  \n",
       "4     Ch         Yes         NO  \n",
       "\n",
       "[5 rows x 47 columns]"
      ]
     },
     "execution_count": 20,
     "metadata": {},
     "output_type": "execute_result"
    }
   ],
   "source": [
    "df.head()"
   ]
  },
  {
   "cell_type": "markdown",
   "metadata": {},
   "source": [
    "As you can see, we don't know the weight of most of patients, so we drop this culomn."
   ]
  },
  {
   "cell_type": "code",
   "execution_count": 21,
   "metadata": {},
   "outputs": [
    {
     "data": {
      "text/plain": [
       "weight\n",
       "?            98566\n",
       "[75-100)      1336\n",
       "[50-75)        897\n",
       "[100-125)      625\n",
       "[125-150)      145\n",
       "[25-50)         97\n",
       "[0-25)          48\n",
       "[150-175)       35\n",
       "[175-200)       11\n",
       ">200             3\n",
       "Name: count, dtype: int64"
      ]
     },
     "execution_count": 21,
     "metadata": {},
     "output_type": "execute_result"
    }
   ],
   "source": [
    "df[\"weight\"].value_counts()"
   ]
  },
  {
   "cell_type": "code",
   "execution_count": 22,
   "metadata": {},
   "outputs": [],
   "source": [
    "df = df.drop(columns=[\"weight\"])"
   ]
  },
  {
   "cell_type": "markdown",
   "metadata": {},
   "source": [
    "The `replace_value` function is designed to replace specified values in a DataFrame column with randomly chosen values from the remaining entries in that column, maintaining the original distribution of values. Here's a summary of how it works:\n",
    "\n",
    "1. **Identify Values to Replace**: The function identifies the rows in the specified column that contain the values to be replaced.\n",
    "2. **Calculate Distribution**: It calculates the distribution of the remaining values in the column.\n",
    "3. **Generate Replacement Values**: Based on this distribution, it randomly selects replacement values for the specified entries.\n",
    "4. **Replace Values**: It replaces the specified values in the original DataFrame with the randomly chosen values.\n",
    "\n",
    "This approach ensures that the new values reflect the original distribution of the column, maintaining the statistical integrity of the dataset."
   ]
  },
  {
   "cell_type": "code",
   "execution_count": 23,
   "metadata": {},
   "outputs": [],
   "source": [
    "import pandas as pd\n",
    "import numpy as np\n",
    "\n",
    "def replace_value(column, values_to_replace):\n",
    "\n",
    "    filtered_df = df[df[column].isin(values_to_replace)]\n",
    "\n",
    "    other_values = df[~df[column].isin(values_to_replace)][column]\n",
    "    counts = other_values.value_counts()\n",
    "    total_counts = counts.sum()\n",
    "    probabilities = counts / total_counts\n",
    "\n",
    "    m = len(filtered_df)\n",
    "    replacement_values = np.random.choice(other_values.unique(), size=m, p=probabilities)\n",
    "\n",
    "    df.loc[df[column].isin(values_to_replace), column] = replacement_values\n",
    "\n"
   ]
  },
  {
   "cell_type": "code",
   "execution_count": 24,
   "metadata": {},
   "outputs": [
    {
     "data": {
      "text/plain": [
       "admission_type_id\n",
       "1    53988\n",
       "3    18868\n",
       "2    18480\n",
       "6     5291\n",
       "5     4785\n",
       "8      320\n",
       "7       21\n",
       "4       10\n",
       "Name: count, dtype: int64"
      ]
     },
     "execution_count": 24,
     "metadata": {},
     "output_type": "execute_result"
    }
   ],
   "source": [
    "df[\"admission_type_id\"].value_counts()"
   ]
  },
  {
   "cell_type": "markdown",
   "metadata": {},
   "source": [
    "We replace ```5:Not Available```, ```6:NULL``` and ```8:Not Mapped``` values in ```admission_type_id``` column with other values of this column with respect to their ratios."
   ]
  },
  {
   "cell_type": "code",
   "execution_count": 25,
   "metadata": {},
   "outputs": [],
   "source": [
    "replace_value(\"admission_type_id\", [5, 6, 8])"
   ]
  },
  {
   "cell_type": "code",
   "execution_count": 26,
   "metadata": {},
   "outputs": [
    {
     "data": {
      "text/plain": [
       "admission_type_id\n",
       "1    60168\n",
       "3    20894\n",
       "2    20665\n",
       "7       22\n",
       "4       14\n",
       "Name: count, dtype: int64"
      ]
     },
     "execution_count": 26,
     "metadata": {},
     "output_type": "execute_result"
    }
   ],
   "source": [
    "df[\"admission_type_id\"].value_counts()\n"
   ]
  },
  {
   "cell_type": "code",
   "execution_count": 27,
   "metadata": {},
   "outputs": [
    {
     "data": {
      "text/plain": [
       "admission_type_id\n",
       "1    60168\n",
       "3    20894\n",
       "2    20665\n",
       "5       22\n",
       "4       14\n",
       "Name: count, dtype: int64"
      ]
     },
     "execution_count": 27,
     "metadata": {},
     "output_type": "execute_result"
    }
   ],
   "source": [
    "# df[\"admission_type_id\"] = df[\"admission_type_id\"].replace([6,8], 5)\n",
    "df[\"admission_type_id\"] = df[\"admission_type_id\"].replace(7, 5)\n",
    "df[\"admission_type_id\"].value_counts()"
   ]
  },
  {
   "cell_type": "code",
   "execution_count": 28,
   "metadata": {},
   "outputs": [
    {
     "data": {
      "text/plain": [
       "discharge_disposition_id\n",
       "1     60232\n",
       "3     13954\n",
       "6     12902\n",
       "18     3691\n",
       "2      2128\n",
       "22     1992\n",
       "11     1642\n",
       "5      1184\n",
       "25      989\n",
       "4       815\n",
       "7       623\n",
       "23      412\n",
       "13      399\n",
       "14      372\n",
       "28      139\n",
       "8       108\n",
       "15       63\n",
       "24       48\n",
       "9        21\n",
       "17       14\n",
       "16       11\n",
       "19        8\n",
       "10        6\n",
       "27        5\n",
       "12        3\n",
       "20        2\n",
       "Name: count, dtype: int64"
      ]
     },
     "execution_count": 28,
     "metadata": {},
     "output_type": "execute_result"
    }
   ],
   "source": [
    "df[\"discharge_disposition_id\"].value_counts()"
   ]
  },
  {
   "cell_type": "markdown",
   "metadata": {},
   "source": [
    "In this section, we combine some values that are similar to ensure better analysis. we also droped the rows with value ```12``` becuase they are still in hospital."
   ]
  },
  {
   "cell_type": "code",
   "execution_count": 29,
   "metadata": {},
   "outputs": [
    {
     "data": {
      "text/plain": [
       "discharge_disposition_id\n",
       "1     60232\n",
       "3     13954\n",
       "6     12902\n",
       "18     3691\n",
       "2      2139\n",
       "22     1992\n",
       "11     1652\n",
       "5      1184\n",
       "25      989\n",
       "4       815\n",
       "7       623\n",
       "23      412\n",
       "13      399\n",
       "14      372\n",
       "28      139\n",
       "8       108\n",
       "15       88\n",
       "24       48\n",
       "9        21\n",
       "Name: count, dtype: int64"
      ]
     },
     "execution_count": 29,
     "metadata": {},
     "output_type": "execute_result"
    }
   ],
   "source": [
    "df[\"discharge_disposition_id\"] = df[\"discharge_disposition_id\"].replace([20,19], 11)\n",
    "df= df[df[\"discharge_disposition_id\"] != 12]\n",
    "df[\"discharge_disposition_id\"] = df[\"discharge_disposition_id\"].replace([10,27], 2)\n",
    "df[\"discharge_disposition_id\"] = df[\"discharge_disposition_id\"].replace([16,17], 15)\n",
    "\n",
    "df[\"discharge_disposition_id\"].value_counts()"
   ]
  },
  {
   "cell_type": "code",
   "execution_count": 30,
   "metadata": {},
   "outputs": [],
   "source": [
    "replace_value(\"discharge_disposition_id\", [18, 25, 26])"
   ]
  },
  {
   "cell_type": "code",
   "execution_count": 31,
   "metadata": {},
   "outputs": [
    {
     "data": {
      "text/plain": [
       "discharge_disposition_id\n",
       "1     63106\n",
       "3     14650\n",
       "6     13506\n",
       "2      2233\n",
       "22     1999\n",
       "11     1734\n",
       "5      1292\n",
       "4       851\n",
       "7       692\n",
       "13      422\n",
       "23      422\n",
       "14      395\n",
       "28      140\n",
       "8       133\n",
       "15      107\n",
       "24       52\n",
       "9        26\n",
       "Name: count, dtype: int64"
      ]
     },
     "execution_count": 31,
     "metadata": {},
     "output_type": "execute_result"
    }
   ],
   "source": [
    "df[\"discharge_disposition_id\"].value_counts()"
   ]
  },
  {
   "cell_type": "code",
   "execution_count": 32,
   "metadata": {},
   "outputs": [
    {
     "data": {
      "text/plain": [
       "discharge_disposition_id\n",
       "0     63106\n",
       "2     14650\n",
       "5     13506\n",
       "1      2233\n",
       "13     1999\n",
       "9      1734\n",
       "4      1292\n",
       "3       851\n",
       "6       692\n",
       "10      422\n",
       "14      422\n",
       "11      395\n",
       "16      140\n",
       "7       133\n",
       "12      107\n",
       "15       52\n",
       "8        26\n",
       "Name: count, dtype: int64"
      ]
     },
     "execution_count": 32,
     "metadata": {},
     "output_type": "execute_result"
    }
   ],
   "source": [
    "df[\"discharge_disposition_id\"]= le.fit_transform(df[\"discharge_disposition_id\"])\n",
    "df[\"discharge_disposition_id\"].value_counts()"
   ]
  },
  {
   "cell_type": "code",
   "execution_count": 33,
   "metadata": {},
   "outputs": [
    {
     "data": {
      "text/html": [
       "<div>\n",
       "<style scoped>\n",
       "    .dataframe tbody tr th:only-of-type {\n",
       "        vertical-align: middle;\n",
       "    }\n",
       "\n",
       "    .dataframe tbody tr th {\n",
       "        vertical-align: top;\n",
       "    }\n",
       "\n",
       "    .dataframe thead th {\n",
       "        text-align: right;\n",
       "    }\n",
       "</style>\n",
       "<table border=\"1\" class=\"dataframe\">\n",
       "  <thead>\n",
       "    <tr style=\"text-align: right;\">\n",
       "      <th></th>\n",
       "      <th>encounter_id</th>\n",
       "      <th>race</th>\n",
       "      <th>gender</th>\n",
       "      <th>age</th>\n",
       "      <th>admission_type_id</th>\n",
       "      <th>discharge_disposition_id</th>\n",
       "      <th>admission_source_id</th>\n",
       "      <th>time_in_hospital</th>\n",
       "      <th>payer_code</th>\n",
       "      <th>medical_specialty</th>\n",
       "      <th>...</th>\n",
       "      <th>citoglipton</th>\n",
       "      <th>insulin</th>\n",
       "      <th>glyburide-metformin</th>\n",
       "      <th>glipizide-metformin</th>\n",
       "      <th>glimepiride-pioglitazone</th>\n",
       "      <th>metformin-rosiglitazone</th>\n",
       "      <th>metformin-pioglitazone</th>\n",
       "      <th>change</th>\n",
       "      <th>diabetesMed</th>\n",
       "      <th>readmitted</th>\n",
       "    </tr>\n",
       "  </thead>\n",
       "  <tbody>\n",
       "    <tr>\n",
       "      <th>0</th>\n",
       "      <td>2278392</td>\n",
       "      <td>2</td>\n",
       "      <td>0</td>\n",
       "      <td>0</td>\n",
       "      <td>1</td>\n",
       "      <td>0</td>\n",
       "      <td>1</td>\n",
       "      <td>1</td>\n",
       "      <td>?</td>\n",
       "      <td>Pediatrics-Endocrinology</td>\n",
       "      <td>...</td>\n",
       "      <td>No</td>\n",
       "      <td>No</td>\n",
       "      <td>No</td>\n",
       "      <td>No</td>\n",
       "      <td>No</td>\n",
       "      <td>No</td>\n",
       "      <td>No</td>\n",
       "      <td>No</td>\n",
       "      <td>No</td>\n",
       "      <td>NO</td>\n",
       "    </tr>\n",
       "    <tr>\n",
       "      <th>1</th>\n",
       "      <td>149190</td>\n",
       "      <td>2</td>\n",
       "      <td>0</td>\n",
       "      <td>1</td>\n",
       "      <td>1</td>\n",
       "      <td>0</td>\n",
       "      <td>7</td>\n",
       "      <td>3</td>\n",
       "      <td>?</td>\n",
       "      <td>?</td>\n",
       "      <td>...</td>\n",
       "      <td>No</td>\n",
       "      <td>Up</td>\n",
       "      <td>No</td>\n",
       "      <td>No</td>\n",
       "      <td>No</td>\n",
       "      <td>No</td>\n",
       "      <td>No</td>\n",
       "      <td>Ch</td>\n",
       "      <td>Yes</td>\n",
       "      <td>&gt;30</td>\n",
       "    </tr>\n",
       "    <tr>\n",
       "      <th>2</th>\n",
       "      <td>64410</td>\n",
       "      <td>0</td>\n",
       "      <td>0</td>\n",
       "      <td>2</td>\n",
       "      <td>1</td>\n",
       "      <td>0</td>\n",
       "      <td>7</td>\n",
       "      <td>2</td>\n",
       "      <td>?</td>\n",
       "      <td>?</td>\n",
       "      <td>...</td>\n",
       "      <td>No</td>\n",
       "      <td>No</td>\n",
       "      <td>No</td>\n",
       "      <td>No</td>\n",
       "      <td>No</td>\n",
       "      <td>No</td>\n",
       "      <td>No</td>\n",
       "      <td>No</td>\n",
       "      <td>Yes</td>\n",
       "      <td>NO</td>\n",
       "    </tr>\n",
       "    <tr>\n",
       "      <th>3</th>\n",
       "      <td>500364</td>\n",
       "      <td>2</td>\n",
       "      <td>1</td>\n",
       "      <td>3</td>\n",
       "      <td>1</td>\n",
       "      <td>0</td>\n",
       "      <td>7</td>\n",
       "      <td>2</td>\n",
       "      <td>?</td>\n",
       "      <td>?</td>\n",
       "      <td>...</td>\n",
       "      <td>No</td>\n",
       "      <td>Up</td>\n",
       "      <td>No</td>\n",
       "      <td>No</td>\n",
       "      <td>No</td>\n",
       "      <td>No</td>\n",
       "      <td>No</td>\n",
       "      <td>Ch</td>\n",
       "      <td>Yes</td>\n",
       "      <td>NO</td>\n",
       "    </tr>\n",
       "    <tr>\n",
       "      <th>4</th>\n",
       "      <td>16680</td>\n",
       "      <td>2</td>\n",
       "      <td>1</td>\n",
       "      <td>4</td>\n",
       "      <td>1</td>\n",
       "      <td>0</td>\n",
       "      <td>7</td>\n",
       "      <td>1</td>\n",
       "      <td>?</td>\n",
       "      <td>?</td>\n",
       "      <td>...</td>\n",
       "      <td>No</td>\n",
       "      <td>Steady</td>\n",
       "      <td>No</td>\n",
       "      <td>No</td>\n",
       "      <td>No</td>\n",
       "      <td>No</td>\n",
       "      <td>No</td>\n",
       "      <td>Ch</td>\n",
       "      <td>Yes</td>\n",
       "      <td>NO</td>\n",
       "    </tr>\n",
       "  </tbody>\n",
       "</table>\n",
       "<p>5 rows × 46 columns</p>\n",
       "</div>"
      ],
      "text/plain": [
       "   encounter_id  race  gender  age  admission_type_id  \\\n",
       "0       2278392     2       0    0                  1   \n",
       "1        149190     2       0    1                  1   \n",
       "2         64410     0       0    2                  1   \n",
       "3        500364     2       1    3                  1   \n",
       "4         16680     2       1    4                  1   \n",
       "\n",
       "   discharge_disposition_id  admission_source_id  time_in_hospital payer_code  \\\n",
       "0                         0                    1                 1          ?   \n",
       "1                         0                    7                 3          ?   \n",
       "2                         0                    7                 2          ?   \n",
       "3                         0                    7                 2          ?   \n",
       "4                         0                    7                 1          ?   \n",
       "\n",
       "          medical_specialty  ...  citoglipton  insulin  glyburide-metformin  \\\n",
       "0  Pediatrics-Endocrinology  ...           No       No                   No   \n",
       "1                         ?  ...           No       Up                   No   \n",
       "2                         ?  ...           No       No                   No   \n",
       "3                         ?  ...           No       Up                   No   \n",
       "4                         ?  ...           No   Steady                   No   \n",
       "\n",
       "   glipizide-metformin  glimepiride-pioglitazone  metformin-rosiglitazone  \\\n",
       "0                   No                        No                       No   \n",
       "1                   No                        No                       No   \n",
       "2                   No                        No                       No   \n",
       "3                   No                        No                       No   \n",
       "4                   No                        No                       No   \n",
       "\n",
       "  metformin-pioglitazone change diabetesMed  readmitted  \n",
       "0                     No     No          No          NO  \n",
       "1                     No     Ch         Yes         >30  \n",
       "2                     No     No         Yes          NO  \n",
       "3                     No     Ch         Yes          NO  \n",
       "4                     No     Ch         Yes          NO  \n",
       "\n",
       "[5 rows x 46 columns]"
      ]
     },
     "execution_count": 33,
     "metadata": {},
     "output_type": "execute_result"
    }
   ],
   "source": [
    "df.head()\n"
   ]
  },
  {
   "cell_type": "code",
   "execution_count": 34,
   "metadata": {},
   "outputs": [
    {
     "data": {
      "text/plain": [
       "admission_source_id\n",
       "7     57492\n",
       "1     29561\n",
       "17     6781\n",
       "4      3187\n",
       "6      2264\n",
       "2      1104\n",
       "5       855\n",
       "3       187\n",
       "20      161\n",
       "9       125\n",
       "8        16\n",
       "22       12\n",
       "10        8\n",
       "14        2\n",
       "11        2\n",
       "25        2\n",
       "13        1\n",
       "Name: count, dtype: int64"
      ]
     },
     "execution_count": 34,
     "metadata": {},
     "output_type": "execute_result"
    }
   ],
   "source": [
    "df[\"admission_source_id\"].value_counts()"
   ]
  },
  {
   "cell_type": "code",
   "execution_count": 35,
   "metadata": {},
   "outputs": [
    {
     "data": {
      "text/plain": [
       "admission_source_id\n",
       "7     57492\n",
       "1     29561\n",
       "17     6781\n",
       "4      3207\n",
       "6      2264\n",
       "2      1104\n",
       "5       855\n",
       "3       187\n",
       "20      161\n",
       "9       125\n",
       "Name: count, dtype: int64"
      ]
     },
     "execution_count": 35,
     "metadata": {},
     "output_type": "execute_result"
    }
   ],
   "source": [
    "df[\"admission_source_id\"] = df[\"admission_source_id\"].replace([10,22], 4)\n",
    "df = df[~df[\"admission_source_id\"].isin([8,13, 25, 11, 14])]\n",
    "df[\"admission_source_id\"].value_counts()"
   ]
  },
  {
   "cell_type": "code",
   "execution_count": 36,
   "metadata": {},
   "outputs": [],
   "source": [
    "replace_value(\"admission_source_id\", [17, 15, 21])"
   ]
  },
  {
   "cell_type": "code",
   "execution_count": 37,
   "metadata": {},
   "outputs": [
    {
     "data": {
      "text/plain": [
       "admission_source_id\n",
       "6    59544\n",
       "0    33689\n",
       "3     3373\n",
       "5     2323\n",
       "1     1347\n",
       "4      949\n",
       "2      202\n",
       "8      179\n",
       "7      131\n",
       "Name: count, dtype: int64"
      ]
     },
     "execution_count": 37,
     "metadata": {},
     "output_type": "execute_result"
    }
   ],
   "source": [
    "df[\"admission_source_id\"]= le.fit_transform(df[\"admission_source_id\"])\n",
    "df[\"admission_source_id\"].value_counts()"
   ]
  },
  {
   "cell_type": "code",
   "execution_count": 38,
   "metadata": {},
   "outputs": [
    {
     "data": {
      "text/plain": [
       "count    101737.000000\n",
       "mean          4.395903\n",
       "std           2.984880\n",
       "min           1.000000\n",
       "25%           2.000000\n",
       "50%           4.000000\n",
       "75%           6.000000\n",
       "max          14.000000\n",
       "Name: time_in_hospital, dtype: float64"
      ]
     },
     "execution_count": 38,
     "metadata": {},
     "output_type": "execute_result"
    }
   ],
   "source": [
    "df[\"time_in_hospital\"].describe()"
   ]
  },
  {
   "cell_type": "markdown",
   "metadata": {},
   "source": [
    "```payer_code``` is ```?``` for most of patients, so we drop it."
   ]
  },
  {
   "cell_type": "code",
   "execution_count": 39,
   "metadata": {},
   "outputs": [],
   "source": [
    "df = df.drop(columns=[\"payer_code\"])"
   ]
  },
  {
   "cell_type": "markdown",
   "metadata": {},
   "source": [
    "Since about 50% of ```medical_specialty``` is ```?```, we drop this column."
   ]
  },
  {
   "cell_type": "code",
   "execution_count": 40,
   "metadata": {},
   "outputs": [
    {
     "data": {
      "text/plain": [
       "medical_specialty\n",
       "?                                49938\n",
       "InternalMedicine                 14629\n",
       "Emergency/Trauma                  7561\n",
       "Family/GeneralPractice            7439\n",
       "Cardiology                        5351\n",
       "                                 ...  \n",
       "SportsMedicine                       1\n",
       "Speech                               1\n",
       "Perinatology                         1\n",
       "Neurophysiology                      1\n",
       "Pediatrics-InfectiousDiseases        1\n",
       "Name: count, Length: 73, dtype: int64"
      ]
     },
     "execution_count": 40,
     "metadata": {},
     "output_type": "execute_result"
    }
   ],
   "source": [
    "df[\"medical_specialty\"].value_counts()"
   ]
  },
  {
   "cell_type": "code",
   "execution_count": 41,
   "metadata": {},
   "outputs": [],
   "source": [
    "df = df.drop(columns=[\"medical_specialty\"])"
   ]
  },
  {
   "cell_type": "code",
   "execution_count": 42,
   "metadata": {},
   "outputs": [
    {
     "data": {
      "text/plain": [
       "number_emergency\n",
       "0     90356\n",
       "1      7677\n",
       "2      2041\n",
       "3       725\n",
       "4       374\n",
       "5       192\n",
       "6        94\n",
       "7        73\n",
       "8        50\n",
       "10       34\n",
       "9        33\n",
       "11       23\n",
       "13       12\n",
       "12       10\n",
       "22        6\n",
       "16        5\n",
       "19        4\n",
       "20        4\n",
       "18        4\n",
       "15        3\n",
       "14        3\n",
       "25        2\n",
       "21        2\n",
       "28        1\n",
       "42        1\n",
       "46        1\n",
       "76        1\n",
       "37        1\n",
       "64        1\n",
       "63        1\n",
       "54        1\n",
       "24        1\n",
       "29        1\n",
       "Name: count, dtype: int64"
      ]
     },
     "execution_count": 42,
     "metadata": {},
     "output_type": "execute_result"
    }
   ],
   "source": [
    "df[\"number_emergency\"].value_counts()"
   ]
  },
  {
   "cell_type": "code",
   "execution_count": 43,
   "metadata": {},
   "outputs": [
    {
     "data": {
      "text/plain": [
       "diag_1\n",
       "428    6862\n",
       "414    6579\n",
       "786    4013\n",
       "410    3614\n",
       "486    3508\n",
       "       ... \n",
       "373       1\n",
       "314       1\n",
       "684       1\n",
       "217       1\n",
       "V51       1\n",
       "Name: count, Length: 717, dtype: int64"
      ]
     },
     "execution_count": 43,
     "metadata": {},
     "output_type": "execute_result"
    }
   ],
   "source": [
    "df[\"diag_1\"].value_counts()"
   ]
  },
  {
   "cell_type": "markdown",
   "metadata": {},
   "source": [
    "Now we fill `?` values in `diag_1`, `diag_2` and `diag_3`."
   ]
  },
  {
   "cell_type": "code",
   "execution_count": 44,
   "metadata": {},
   "outputs": [
    {
     "data": {
      "text/plain": [
       "924"
      ]
     },
     "execution_count": 44,
     "metadata": {},
     "output_type": "execute_result"
    }
   ],
   "source": [
    "df[df[\"diag_1\"] == \"?\"].size"
   ]
  },
  {
   "cell_type": "code",
   "execution_count": 45,
   "metadata": {},
   "outputs": [
    {
     "data": {
      "text/plain": [
       "357"
      ]
     },
     "execution_count": 45,
     "metadata": {},
     "output_type": "execute_result"
    }
   ],
   "source": [
    "df[df[\"diag_2\"] == \"?\"].shape[0]"
   ]
  },
  {
   "cell_type": "code",
   "execution_count": 46,
   "metadata": {},
   "outputs": [
    {
     "data": {
      "text/plain": [
       "1422"
      ]
     },
     "execution_count": 46,
     "metadata": {},
     "output_type": "execute_result"
    }
   ],
   "source": [
    "df[df[\"diag_3\"] == \"?\"].shape[0]"
   ]
  },
  {
   "cell_type": "code",
   "execution_count": 47,
   "metadata": {},
   "outputs": [],
   "source": [
    "replace_value(\"diag_1\", [\"?\"])"
   ]
  },
  {
   "cell_type": "code",
   "execution_count": 48,
   "metadata": {},
   "outputs": [],
   "source": [
    "replace_value(\"diag_2\", [\"?\"])"
   ]
  },
  {
   "cell_type": "code",
   "execution_count": 49,
   "metadata": {},
   "outputs": [],
   "source": [
    "replace_value(\"diag_3\", [\"?\"])"
   ]
  },
  {
   "cell_type": "markdown",
   "metadata": {},
   "source": [
    "Then, we categorise values in `diag_1`, `diag_2` and `diag_3`."
   ]
  },
  {
   "cell_type": "code",
   "execution_count": 50,
   "metadata": {},
   "outputs": [],
   "source": [
    "def map_icd_to_category(icd):\n",
    "    code_prefix = icd[:3]\n",
    "    if '001' <= code_prefix <= '139':\n",
    "        return 'Infectious and Parasitic Diseases'\n",
    "    elif '140' <= code_prefix <= '239':\n",
    "        return 'Neoplasms'\n",
    "    elif '240' <= code_prefix <= '279':\n",
    "        return 'Endocrine, Nutritional and Metabolic Diseases, and Immunity Disorders'\n",
    "    elif '280' <= code_prefix <= '289':\n",
    "        return 'Diseases of the Blood and Blood-Forming Organs'\n",
    "    elif '290' <= code_prefix <= '319':\n",
    "        return 'Mental Disorders'\n",
    "    elif '320' <= code_prefix <= '389':\n",
    "        return 'Diseases of the Nervous System and Sense Organs'\n",
    "    elif '390' <= code_prefix <= '459':\n",
    "        return 'Diseases of the Circulatory System'\n",
    "    elif '460' <= code_prefix <= '519':\n",
    "        return 'Diseases of the Respiratory System'\n",
    "    elif '520' <= code_prefix <= '579':\n",
    "        return 'Diseases of the Digestive System'\n",
    "    elif '580' <= code_prefix <= '629':\n",
    "        return 'Diseases of the Genitourinary System'\n",
    "    elif '630' <= code_prefix <= '679':\n",
    "        return 'Complications of Pregnancy, Childbirth, and the Puerperium'\n",
    "    elif '680' <= code_prefix <= '709':\n",
    "        return 'Diseases of the Skin and Subcutaneous Tissue'\n",
    "    elif '710' <= code_prefix <= '739':\n",
    "        return 'Diseases of the Musculoskeletal System and Connective Tissue'\n",
    "    elif '740' <= code_prefix <= '759':\n",
    "        return 'Congenital Anomalies'\n",
    "    elif '760' <= code_prefix <= '779':\n",
    "        return 'Certain Conditions Originating in the Perinatal Period'\n",
    "    elif '780' <= code_prefix <= '799':\n",
    "        return 'Symptoms, Signs, and Ill-Defined Conditions'\n",
    "    elif '800' <= code_prefix <= '999':\n",
    "        return 'Injury and Poisoning'\n",
    "    else:\n",
    "        return 'External Causes of Injury and Supplemental Classification (E and V codes)'\n",
    "\n",
    "df['diag_1'] = df['diag_1'].apply(map_icd_to_category)\n",
    "df['diag_2'] = df['diag_2'].apply(map_icd_to_category)\n",
    "df['diag_3'] = df['diag_3'].apply(map_icd_to_category)\n",
    "\n"
   ]
  },
  {
   "cell_type": "code",
   "execution_count": 51,
   "metadata": {},
   "outputs": [
    {
     "data": {
      "text/plain": [
       "diag_1\n",
       "Diseases of the Circulatory System                                           30389\n",
       "Endocrine, Nutritional and Metabolic Diseases, and Immunity Disorders        11462\n",
       "Diseases of the Respiratory System                                           10450\n",
       "Diseases of the Digestive System                                              9277\n",
       "Symptoms, Signs, and Ill-Defined Conditions                                   7720\n",
       "Injury and Poisoning                                                          7041\n",
       "Diseases of the Genitourinary System                                          5079\n",
       "Diseases of the Musculoskeletal System and Connective Tissue                  4959\n",
       "Neoplasms                                                                     3436\n",
       "Diseases of the Nervous System and Sense Organs                               2917\n",
       "Diseases of the Skin and Subcutaneous Tissue                                  2578\n",
       "Mental Disorders                                                              2272\n",
       "External Causes of Injury and Supplemental Classification (E and V codes)     2176\n",
       "Diseases of the Blood and Blood-Forming Organs                                1103\n",
       "Complications of Pregnancy, Childbirth, and the Puerperium                     692\n",
       "Infectious and Parasitic Diseases                                              133\n",
       "Congenital Anomalies                                                            53\n",
       "Name: count, dtype: int64"
      ]
     },
     "execution_count": 51,
     "metadata": {},
     "output_type": "execute_result"
    }
   ],
   "source": [
    "df['diag_1'].value_counts()"
   ]
  },
  {
   "cell_type": "markdown",
   "metadata": {},
   "source": [
    "After categorizing values, we convert their categories to numericals."
   ]
  },
  {
   "cell_type": "code",
   "execution_count": 52,
   "metadata": {},
   "outputs": [],
   "source": [
    "df[\"diag_1\"] = le.fit_transform(df[\"diag_1\"])\n",
    "df[\"diag_2\"] = le.fit_transform(df[\"diag_2\"])\n",
    "df[\"diag_3\"] = le.fit_transform(df[\"diag_3\"])"
   ]
  },
  {
   "cell_type": "code",
   "execution_count": 53,
   "metadata": {},
   "outputs": [],
   "source": [
    "#df.drop(columns=[\"number_diagnoses\"], inplace=True)"
   ]
  },
  {
   "cell_type": "markdown",
   "metadata": {},
   "source": []
  },
  {
   "cell_type": "code",
   "execution_count": 54,
   "metadata": {},
   "outputs": [
    {
     "data": {
      "text/plain": [
       "['metformin',\n",
       " 'repaglinide',\n",
       " 'nateglinide',\n",
       " 'chlorpropamide',\n",
       " 'glimepiride',\n",
       " 'acetohexamide',\n",
       " 'glipizide',\n",
       " 'glyburide',\n",
       " 'tolbutamide',\n",
       " 'pioglitazone',\n",
       " 'rosiglitazone',\n",
       " 'acarbose',\n",
       " 'miglitol',\n",
       " 'troglitazone',\n",
       " 'tolazamide',\n",
       " 'examide',\n",
       " 'citoglipton',\n",
       " 'insulin',\n",
       " 'glyburide-metformin',\n",
       " 'glipizide-metformin',\n",
       " 'glimepiride-pioglitazone',\n",
       " 'metformin-rosiglitazone',\n",
       " 'metformin-pioglitazone']"
      ]
     },
     "execution_count": 54,
     "metadata": {},
     "output_type": "execute_result"
    }
   ],
   "source": [
    "drugs = \"metformin,repaglinide,nateglinide,chlorpropamide,glimepiride,acetohexamide,glipizide,glyburide,tolbutamide,pioglitazone,rosiglitazone,acarbose,miglitol,troglitazone,tolazamide,examide,citoglipton,insulin,glyburide-metformin,glipizide-metformin,glimepiride-pioglitazone,metformin-rosiglitazone,metformin-pioglitazone\"\n",
    "list_drugs = drugs.split(\",\")\n",
    "list_drugs\n"
   ]
  },
  {
   "cell_type": "code",
   "execution_count": 55,
   "metadata": {},
   "outputs": [
    {
     "name": "stdout",
     "output_type": "stream",
     "text": [
      "metformin\n",
      "No        81757\n",
      "Steady    18339\n",
      "Up         1066\n",
      "Down        575\n",
      "Name: count, dtype: int64\n",
      "repaglinide\n",
      "No        100199\n",
      "Steady      1384\n",
      "Up           109\n",
      "Down          45\n",
      "Name: count, dtype: int64\n",
      "nateglinide\n",
      "No        101034\n",
      "Steady       668\n",
      "Up            24\n",
      "Down          11\n",
      "Name: count, dtype: int64\n",
      "chlorpropamide\n",
      "No        101651\n",
      "Steady        79\n",
      "Up             6\n",
      "Down           1\n",
      "Name: count, dtype: int64\n",
      "glimepiride\n",
      "No        96547\n",
      "Steady     4669\n",
      "Up          327\n",
      "Down        194\n",
      "Name: count, dtype: int64\n",
      "acetohexamide\n",
      "No        101736\n",
      "Steady         1\n",
      "Name: count, dtype: int64\n",
      "glipizide\n",
      "No        89056\n",
      "Steady    11351\n",
      "Up          770\n",
      "Down        560\n",
      "Name: count, dtype: int64\n",
      "glyburide\n",
      "No        91094\n",
      "Steady     9267\n",
      "Up          812\n",
      "Down        564\n",
      "Name: count, dtype: int64\n",
      "tolbutamide\n",
      "No        101714\n",
      "Steady        23\n",
      "Name: count, dtype: int64\n",
      "pioglitazone\n",
      "No        94412\n",
      "Steady     6973\n",
      "Up          234\n",
      "Down        118\n",
      "Name: count, dtype: int64\n",
      "rosiglitazone\n",
      "No        95373\n",
      "Steady     6099\n",
      "Up          178\n",
      "Down         87\n",
      "Name: count, dtype: int64\n",
      "acarbose\n",
      "No        101429\n",
      "Steady       295\n",
      "Up            10\n",
      "Down           3\n",
      "Name: count, dtype: int64\n",
      "miglitol\n",
      "No        101699\n",
      "Steady        31\n",
      "Down           5\n",
      "Up             2\n",
      "Name: count, dtype: int64\n",
      "troglitazone\n",
      "No        101734\n",
      "Steady         3\n",
      "Name: count, dtype: int64\n",
      "tolazamide\n",
      "No        101698\n",
      "Steady        38\n",
      "Up             1\n",
      "Name: count, dtype: int64\n",
      "examide\n",
      "No    101737\n",
      "Name: count, dtype: int64\n",
      "citoglipton\n",
      "No    101737\n",
      "Name: count, dtype: int64\n",
      "insulin\n",
      "No        47367\n",
      "Steady    30841\n",
      "Down      12215\n",
      "Up        11314\n",
      "Name: count, dtype: int64\n",
      "glyburide-metformin\n",
      "No        101031\n",
      "Steady       692\n",
      "Up             8\n",
      "Down           6\n",
      "Name: count, dtype: int64\n",
      "glipizide-metformin\n",
      "No        101724\n",
      "Steady        13\n",
      "Name: count, dtype: int64\n",
      "glimepiride-pioglitazone\n",
      "No        101736\n",
      "Steady         1\n",
      "Name: count, dtype: int64\n",
      "metformin-rosiglitazone\n",
      "No        101735\n",
      "Steady         2\n",
      "Name: count, dtype: int64\n",
      "metformin-pioglitazone\n",
      "No        101736\n",
      "Steady         1\n",
      "Name: count, dtype: int64\n"
     ]
    }
   ],
   "source": [
    "for drug in list_drugs:\n",
    "    print(df[drug].value_counts())"
   ]
  },
  {
   "cell_type": "code",
   "execution_count": 56,
   "metadata": {},
   "outputs": [],
   "source": [
    "_ = le.fit(df[\"metformin\"])"
   ]
  },
  {
   "cell_type": "code",
   "execution_count": 57,
   "metadata": {},
   "outputs": [],
   "source": [
    "for drug in list_drugs:\n",
    "    df[drug] = le.transform(df[drug])"
   ]
  },
  {
   "cell_type": "code",
   "execution_count": 58,
   "metadata": {},
   "outputs": [
    {
     "data": {
      "text/plain": [
       "change\n",
       "No    54742\n",
       "Ch    46995\n",
       "Name: count, dtype: int64"
      ]
     },
     "execution_count": 58,
     "metadata": {},
     "output_type": "execute_result"
    }
   ],
   "source": [
    "df[\"change\"].value_counts()"
   ]
  },
  {
   "cell_type": "code",
   "execution_count": 59,
   "metadata": {},
   "outputs": [],
   "source": [
    "df[\"change\"] = le.fit_transform(df[\"change\"])"
   ]
  },
  {
   "cell_type": "code",
   "execution_count": 60,
   "metadata": {},
   "outputs": [
    {
     "data": {
      "text/plain": [
       "readmitted\n",
       "NO     54843\n",
       ">30    35541\n",
       "<30    11353\n",
       "Name: count, dtype: int64"
      ]
     },
     "execution_count": 60,
     "metadata": {},
     "output_type": "execute_result"
    }
   ],
   "source": [
    "df[\"readmitted\"].value_counts()"
   ]
  },
  {
   "cell_type": "code",
   "execution_count": 61,
   "metadata": {},
   "outputs": [],
   "source": [
    "df[\"readmitted\"] = le.fit_transform(df[\"readmitted\"])"
   ]
  },
  {
   "cell_type": "code",
   "execution_count": 62,
   "metadata": {},
   "outputs": [
    {
     "data": {
      "text/plain": [
       "diabetesMed\n",
       "Yes    78340\n",
       "No     23397\n",
       "Name: count, dtype: int64"
      ]
     },
     "execution_count": 62,
     "metadata": {},
     "output_type": "execute_result"
    }
   ],
   "source": [
    "df[\"diabetesMed\"].value_counts()"
   ]
  },
  {
   "cell_type": "code",
   "execution_count": 63,
   "metadata": {},
   "outputs": [],
   "source": [
    "df[\"diabetesMed\"] = df[\"diabetesMed\"].map({\"Yes\": 1, \"No\": 0})"
   ]
  },
  {
   "cell_type": "code",
   "execution_count": 64,
   "metadata": {},
   "outputs": [
    {
     "data": {
      "text/html": [
       "<div>\n",
       "<style scoped>\n",
       "    .dataframe tbody tr th:only-of-type {\n",
       "        vertical-align: middle;\n",
       "    }\n",
       "\n",
       "    .dataframe tbody tr th {\n",
       "        vertical-align: top;\n",
       "    }\n",
       "\n",
       "    .dataframe thead th {\n",
       "        text-align: right;\n",
       "    }\n",
       "</style>\n",
       "<table border=\"1\" class=\"dataframe\">\n",
       "  <thead>\n",
       "    <tr style=\"text-align: right;\">\n",
       "      <th></th>\n",
       "      <th>encounter_id</th>\n",
       "      <th>race</th>\n",
       "      <th>gender</th>\n",
       "      <th>age</th>\n",
       "      <th>admission_type_id</th>\n",
       "      <th>discharge_disposition_id</th>\n",
       "      <th>admission_source_id</th>\n",
       "      <th>time_in_hospital</th>\n",
       "      <th>num_lab_procedures</th>\n",
       "      <th>num_procedures</th>\n",
       "      <th>...</th>\n",
       "      <th>citoglipton</th>\n",
       "      <th>insulin</th>\n",
       "      <th>glyburide-metformin</th>\n",
       "      <th>glipizide-metformin</th>\n",
       "      <th>glimepiride-pioglitazone</th>\n",
       "      <th>metformin-rosiglitazone</th>\n",
       "      <th>metformin-pioglitazone</th>\n",
       "      <th>change</th>\n",
       "      <th>diabetesMed</th>\n",
       "      <th>readmitted</th>\n",
       "    </tr>\n",
       "  </thead>\n",
       "  <tbody>\n",
       "    <tr>\n",
       "      <th>0</th>\n",
       "      <td>2278392</td>\n",
       "      <td>2</td>\n",
       "      <td>0</td>\n",
       "      <td>0</td>\n",
       "      <td>1</td>\n",
       "      <td>0</td>\n",
       "      <td>0</td>\n",
       "      <td>1</td>\n",
       "      <td>41</td>\n",
       "      <td>0</td>\n",
       "      <td>...</td>\n",
       "      <td>1</td>\n",
       "      <td>1</td>\n",
       "      <td>1</td>\n",
       "      <td>1</td>\n",
       "      <td>1</td>\n",
       "      <td>1</td>\n",
       "      <td>1</td>\n",
       "      <td>1</td>\n",
       "      <td>0</td>\n",
       "      <td>2</td>\n",
       "    </tr>\n",
       "    <tr>\n",
       "      <th>1</th>\n",
       "      <td>149190</td>\n",
       "      <td>2</td>\n",
       "      <td>0</td>\n",
       "      <td>1</td>\n",
       "      <td>1</td>\n",
       "      <td>0</td>\n",
       "      <td>6</td>\n",
       "      <td>3</td>\n",
       "      <td>59</td>\n",
       "      <td>0</td>\n",
       "      <td>...</td>\n",
       "      <td>1</td>\n",
       "      <td>3</td>\n",
       "      <td>1</td>\n",
       "      <td>1</td>\n",
       "      <td>1</td>\n",
       "      <td>1</td>\n",
       "      <td>1</td>\n",
       "      <td>0</td>\n",
       "      <td>1</td>\n",
       "      <td>1</td>\n",
       "    </tr>\n",
       "    <tr>\n",
       "      <th>2</th>\n",
       "      <td>64410</td>\n",
       "      <td>0</td>\n",
       "      <td>0</td>\n",
       "      <td>2</td>\n",
       "      <td>1</td>\n",
       "      <td>0</td>\n",
       "      <td>6</td>\n",
       "      <td>2</td>\n",
       "      <td>11</td>\n",
       "      <td>5</td>\n",
       "      <td>...</td>\n",
       "      <td>1</td>\n",
       "      <td>1</td>\n",
       "      <td>1</td>\n",
       "      <td>1</td>\n",
       "      <td>1</td>\n",
       "      <td>1</td>\n",
       "      <td>1</td>\n",
       "      <td>1</td>\n",
       "      <td>1</td>\n",
       "      <td>2</td>\n",
       "    </tr>\n",
       "    <tr>\n",
       "      <th>3</th>\n",
       "      <td>500364</td>\n",
       "      <td>2</td>\n",
       "      <td>1</td>\n",
       "      <td>3</td>\n",
       "      <td>1</td>\n",
       "      <td>0</td>\n",
       "      <td>6</td>\n",
       "      <td>2</td>\n",
       "      <td>44</td>\n",
       "      <td>1</td>\n",
       "      <td>...</td>\n",
       "      <td>1</td>\n",
       "      <td>3</td>\n",
       "      <td>1</td>\n",
       "      <td>1</td>\n",
       "      <td>1</td>\n",
       "      <td>1</td>\n",
       "      <td>1</td>\n",
       "      <td>0</td>\n",
       "      <td>1</td>\n",
       "      <td>2</td>\n",
       "    </tr>\n",
       "    <tr>\n",
       "      <th>4</th>\n",
       "      <td>16680</td>\n",
       "      <td>2</td>\n",
       "      <td>1</td>\n",
       "      <td>4</td>\n",
       "      <td>1</td>\n",
       "      <td>0</td>\n",
       "      <td>6</td>\n",
       "      <td>1</td>\n",
       "      <td>51</td>\n",
       "      <td>0</td>\n",
       "      <td>...</td>\n",
       "      <td>1</td>\n",
       "      <td>2</td>\n",
       "      <td>1</td>\n",
       "      <td>1</td>\n",
       "      <td>1</td>\n",
       "      <td>1</td>\n",
       "      <td>1</td>\n",
       "      <td>0</td>\n",
       "      <td>1</td>\n",
       "      <td>2</td>\n",
       "    </tr>\n",
       "  </tbody>\n",
       "</table>\n",
       "<p>5 rows × 44 columns</p>\n",
       "</div>"
      ],
      "text/plain": [
       "   encounter_id  race  gender  age  admission_type_id  \\\n",
       "0       2278392     2       0    0                  1   \n",
       "1        149190     2       0    1                  1   \n",
       "2         64410     0       0    2                  1   \n",
       "3        500364     2       1    3                  1   \n",
       "4         16680     2       1    4                  1   \n",
       "\n",
       "   discharge_disposition_id  admission_source_id  time_in_hospital  \\\n",
       "0                         0                    0                 1   \n",
       "1                         0                    6                 3   \n",
       "2                         0                    6                 2   \n",
       "3                         0                    6                 2   \n",
       "4                         0                    6                 1   \n",
       "\n",
       "   num_lab_procedures  num_procedures  ...  citoglipton  insulin  \\\n",
       "0                  41               0  ...            1        1   \n",
       "1                  59               0  ...            1        3   \n",
       "2                  11               5  ...            1        1   \n",
       "3                  44               1  ...            1        3   \n",
       "4                  51               0  ...            1        2   \n",
       "\n",
       "   glyburide-metformin  glipizide-metformin  glimepiride-pioglitazone  \\\n",
       "0                    1                    1                         1   \n",
       "1                    1                    1                         1   \n",
       "2                    1                    1                         1   \n",
       "3                    1                    1                         1   \n",
       "4                    1                    1                         1   \n",
       "\n",
       "   metformin-rosiglitazone  metformin-pioglitazone  change  diabetesMed  \\\n",
       "0                        1                       1       1            0   \n",
       "1                        1                       1       0            1   \n",
       "2                        1                       1       1            1   \n",
       "3                        1                       1       0            1   \n",
       "4                        1                       1       0            1   \n",
       "\n",
       "   readmitted  \n",
       "0           2  \n",
       "1           1  \n",
       "2           2  \n",
       "3           2  \n",
       "4           2  \n",
       "\n",
       "[5 rows x 44 columns]"
      ]
     },
     "execution_count": 64,
     "metadata": {},
     "output_type": "execute_result"
    }
   ],
   "source": [
    "df.head()"
   ]
  },
  {
   "cell_type": "code",
   "execution_count": 65,
   "metadata": {},
   "outputs": [
    {
     "name": "stdout",
     "output_type": "stream",
     "text": [
      "<class 'pandas.core.frame.DataFrame'>\n",
      "Index: 101737 entries, 0 to 101765\n",
      "Data columns (total 44 columns):\n",
      " #   Column                    Non-Null Count   Dtype\n",
      "---  ------                    --------------   -----\n",
      " 0   encounter_id              101737 non-null  int64\n",
      " 1   race                      101737 non-null  int32\n",
      " 2   gender                    101737 non-null  int32\n",
      " 3   age                       101737 non-null  int64\n",
      " 4   admission_type_id         101737 non-null  int64\n",
      " 5   discharge_disposition_id  101737 non-null  int64\n",
      " 6   admission_source_id       101737 non-null  int64\n",
      " 7   time_in_hospital          101737 non-null  int64\n",
      " 8   num_lab_procedures        101737 non-null  int64\n",
      " 9   num_procedures            101737 non-null  int64\n",
      " 10  num_medications           101737 non-null  int64\n",
      " 11  number_outpatient         101737 non-null  int64\n",
      " 12  number_emergency          101737 non-null  int64\n",
      " 13  number_inpatient          101737 non-null  int64\n",
      " 14  diag_1                    101737 non-null  int32\n",
      " 15  diag_2                    101737 non-null  int32\n",
      " 16  diag_3                    101737 non-null  int32\n",
      " 17  number_diagnoses          101737 non-null  int64\n",
      " 18  metformin                 101737 non-null  int32\n",
      " 19  repaglinide               101737 non-null  int32\n",
      " 20  nateglinide               101737 non-null  int32\n",
      " 21  chlorpropamide            101737 non-null  int32\n",
      " 22  glimepiride               101737 non-null  int32\n",
      " 23  acetohexamide             101737 non-null  int32\n",
      " 24  glipizide                 101737 non-null  int32\n",
      " 25  glyburide                 101737 non-null  int32\n",
      " 26  tolbutamide               101737 non-null  int32\n",
      " 27  pioglitazone              101737 non-null  int32\n",
      " 28  rosiglitazone             101737 non-null  int32\n",
      " 29  acarbose                  101737 non-null  int32\n",
      " 30  miglitol                  101737 non-null  int32\n",
      " 31  troglitazone              101737 non-null  int32\n",
      " 32  tolazamide                101737 non-null  int32\n",
      " 33  examide                   101737 non-null  int32\n",
      " 34  citoglipton               101737 non-null  int32\n",
      " 35  insulin                   101737 non-null  int32\n",
      " 36  glyburide-metformin       101737 non-null  int32\n",
      " 37  glipizide-metformin       101737 non-null  int32\n",
      " 38  glimepiride-pioglitazone  101737 non-null  int32\n",
      " 39  metformin-rosiglitazone   101737 non-null  int32\n",
      " 40  metformin-pioglitazone    101737 non-null  int32\n",
      " 41  change                    101737 non-null  int32\n",
      " 42  diabetesMed               101737 non-null  int64\n",
      " 43  readmitted                101737 non-null  int32\n",
      "dtypes: int32(30), int64(14)\n",
      "memory usage: 23.3 MB\n"
     ]
    }
   ],
   "source": [
    "df.info()"
   ]
  },
  {
   "cell_type": "code",
   "execution_count": 66,
   "metadata": {},
   "outputs": [
    {
     "data": {
      "text/html": [
       "<div>\n",
       "<style scoped>\n",
       "    .dataframe tbody tr th:only-of-type {\n",
       "        vertical-align: middle;\n",
       "    }\n",
       "\n",
       "    .dataframe tbody tr th {\n",
       "        vertical-align: top;\n",
       "    }\n",
       "\n",
       "    .dataframe thead th {\n",
       "        text-align: right;\n",
       "    }\n",
       "</style>\n",
       "<table border=\"1\" class=\"dataframe\">\n",
       "  <thead>\n",
       "    <tr style=\"text-align: right;\">\n",
       "      <th></th>\n",
       "      <th>encounter_id</th>\n",
       "      <th>race</th>\n",
       "      <th>gender</th>\n",
       "      <th>age</th>\n",
       "      <th>admission_type_id</th>\n",
       "      <th>discharge_disposition_id</th>\n",
       "      <th>admission_source_id</th>\n",
       "      <th>time_in_hospital</th>\n",
       "      <th>num_lab_procedures</th>\n",
       "      <th>num_procedures</th>\n",
       "      <th>...</th>\n",
       "      <th>citoglipton</th>\n",
       "      <th>insulin</th>\n",
       "      <th>glyburide-metformin</th>\n",
       "      <th>glipizide-metformin</th>\n",
       "      <th>glimepiride-pioglitazone</th>\n",
       "      <th>metformin-rosiglitazone</th>\n",
       "      <th>metformin-pioglitazone</th>\n",
       "      <th>change</th>\n",
       "      <th>diabetesMed</th>\n",
       "      <th>readmitted</th>\n",
       "    </tr>\n",
       "  </thead>\n",
       "  <tbody>\n",
       "    <tr>\n",
       "      <th>count</th>\n",
       "      <td>1.017370e+05</td>\n",
       "      <td>101737.000000</td>\n",
       "      <td>101737.000000</td>\n",
       "      <td>101737.000000</td>\n",
       "      <td>101737.000000</td>\n",
       "      <td>101737.000000</td>\n",
       "      <td>101737.000000</td>\n",
       "      <td>101737.000000</td>\n",
       "      <td>101737.000000</td>\n",
       "      <td>101737.000000</td>\n",
       "      <td>...</td>\n",
       "      <td>101737.0</td>\n",
       "      <td>101737.000000</td>\n",
       "      <td>101737.000000</td>\n",
       "      <td>101737.000000</td>\n",
       "      <td>101737.000000</td>\n",
       "      <td>101737.000000</td>\n",
       "      <td>101737.000000</td>\n",
       "      <td>101737.000000</td>\n",
       "      <td>101737.000000</td>\n",
       "      <td>101737.000000</td>\n",
       "    </tr>\n",
       "    <tr>\n",
       "      <th>mean</th>\n",
       "      <td>1.651926e+08</td>\n",
       "      <td>1.710410</td>\n",
       "      <td>0.462369</td>\n",
       "      <td>6.096808</td>\n",
       "      <td>1.614978</td>\n",
       "      <td>1.694654</td>\n",
       "      <td>3.802884</td>\n",
       "      <td>4.395903</td>\n",
       "      <td>43.097093</td>\n",
       "      <td>1.339660</td>\n",
       "      <td>...</td>\n",
       "      <td>1.0</td>\n",
       "      <td>1.405497</td>\n",
       "      <td>1.006900</td>\n",
       "      <td>1.000128</td>\n",
       "      <td>1.000010</td>\n",
       "      <td>1.000020</td>\n",
       "      <td>1.000010</td>\n",
       "      <td>0.538074</td>\n",
       "      <td>0.770025</td>\n",
       "      <td>1.427475</td>\n",
       "    </tr>\n",
       "    <tr>\n",
       "      <th>std</th>\n",
       "      <td>1.026309e+08</td>\n",
       "      <td>0.919758</td>\n",
       "      <td>0.498584</td>\n",
       "      <td>1.594022</td>\n",
       "      <td>0.806755</td>\n",
       "      <td>2.943529</td>\n",
       "      <td>2.797026</td>\n",
       "      <td>2.984880</td>\n",
       "      <td>19.672010</td>\n",
       "      <td>1.705754</td>\n",
       "      <td>...</td>\n",
       "      <td>0.0</td>\n",
       "      <td>0.838822</td>\n",
       "      <td>0.084426</td>\n",
       "      <td>0.011303</td>\n",
       "      <td>0.003135</td>\n",
       "      <td>0.004434</td>\n",
       "      <td>0.003135</td>\n",
       "      <td>0.498551</td>\n",
       "      <td>0.420819</td>\n",
       "      <td>0.684053</td>\n",
       "    </tr>\n",
       "    <tr>\n",
       "      <th>min</th>\n",
       "      <td>1.252200e+04</td>\n",
       "      <td>0.000000</td>\n",
       "      <td>0.000000</td>\n",
       "      <td>0.000000</td>\n",
       "      <td>1.000000</td>\n",
       "      <td>0.000000</td>\n",
       "      <td>0.000000</td>\n",
       "      <td>1.000000</td>\n",
       "      <td>1.000000</td>\n",
       "      <td>0.000000</td>\n",
       "      <td>...</td>\n",
       "      <td>1.0</td>\n",
       "      <td>0.000000</td>\n",
       "      <td>0.000000</td>\n",
       "      <td>1.000000</td>\n",
       "      <td>1.000000</td>\n",
       "      <td>1.000000</td>\n",
       "      <td>1.000000</td>\n",
       "      <td>0.000000</td>\n",
       "      <td>0.000000</td>\n",
       "      <td>0.000000</td>\n",
       "    </tr>\n",
       "    <tr>\n",
       "      <th>25%</th>\n",
       "      <td>8.496487e+07</td>\n",
       "      <td>2.000000</td>\n",
       "      <td>0.000000</td>\n",
       "      <td>5.000000</td>\n",
       "      <td>1.000000</td>\n",
       "      <td>0.000000</td>\n",
       "      <td>0.000000</td>\n",
       "      <td>2.000000</td>\n",
       "      <td>31.000000</td>\n",
       "      <td>0.000000</td>\n",
       "      <td>...</td>\n",
       "      <td>1.0</td>\n",
       "      <td>1.000000</td>\n",
       "      <td>1.000000</td>\n",
       "      <td>1.000000</td>\n",
       "      <td>1.000000</td>\n",
       "      <td>1.000000</td>\n",
       "      <td>1.000000</td>\n",
       "      <td>0.000000</td>\n",
       "      <td>1.000000</td>\n",
       "      <td>1.000000</td>\n",
       "    </tr>\n",
       "    <tr>\n",
       "      <th>50%</th>\n",
       "      <td>1.523824e+08</td>\n",
       "      <td>2.000000</td>\n",
       "      <td>0.000000</td>\n",
       "      <td>6.000000</td>\n",
       "      <td>1.000000</td>\n",
       "      <td>0.000000</td>\n",
       "      <td>6.000000</td>\n",
       "      <td>4.000000</td>\n",
       "      <td>44.000000</td>\n",
       "      <td>1.000000</td>\n",
       "      <td>...</td>\n",
       "      <td>1.0</td>\n",
       "      <td>1.000000</td>\n",
       "      <td>1.000000</td>\n",
       "      <td>1.000000</td>\n",
       "      <td>1.000000</td>\n",
       "      <td>1.000000</td>\n",
       "      <td>1.000000</td>\n",
       "      <td>1.000000</td>\n",
       "      <td>1.000000</td>\n",
       "      <td>2.000000</td>\n",
       "    </tr>\n",
       "    <tr>\n",
       "      <th>75%</th>\n",
       "      <td>2.302488e+08</td>\n",
       "      <td>2.000000</td>\n",
       "      <td>1.000000</td>\n",
       "      <td>7.000000</td>\n",
       "      <td>2.000000</td>\n",
       "      <td>2.000000</td>\n",
       "      <td>6.000000</td>\n",
       "      <td>6.000000</td>\n",
       "      <td>57.000000</td>\n",
       "      <td>2.000000</td>\n",
       "      <td>...</td>\n",
       "      <td>1.0</td>\n",
       "      <td>2.000000</td>\n",
       "      <td>1.000000</td>\n",
       "      <td>1.000000</td>\n",
       "      <td>1.000000</td>\n",
       "      <td>1.000000</td>\n",
       "      <td>1.000000</td>\n",
       "      <td>1.000000</td>\n",
       "      <td>1.000000</td>\n",
       "      <td>2.000000</td>\n",
       "    </tr>\n",
       "    <tr>\n",
       "      <th>max</th>\n",
       "      <td>4.438672e+08</td>\n",
       "      <td>4.000000</td>\n",
       "      <td>1.000000</td>\n",
       "      <td>9.000000</td>\n",
       "      <td>5.000000</td>\n",
       "      <td>16.000000</td>\n",
       "      <td>8.000000</td>\n",
       "      <td>14.000000</td>\n",
       "      <td>132.000000</td>\n",
       "      <td>6.000000</td>\n",
       "      <td>...</td>\n",
       "      <td>1.0</td>\n",
       "      <td>3.000000</td>\n",
       "      <td>3.000000</td>\n",
       "      <td>2.000000</td>\n",
       "      <td>2.000000</td>\n",
       "      <td>2.000000</td>\n",
       "      <td>2.000000</td>\n",
       "      <td>1.000000</td>\n",
       "      <td>1.000000</td>\n",
       "      <td>2.000000</td>\n",
       "    </tr>\n",
       "  </tbody>\n",
       "</table>\n",
       "<p>8 rows × 44 columns</p>\n",
       "</div>"
      ],
      "text/plain": [
       "       encounter_id           race         gender            age  \\\n",
       "count  1.017370e+05  101737.000000  101737.000000  101737.000000   \n",
       "mean   1.651926e+08       1.710410       0.462369       6.096808   \n",
       "std    1.026309e+08       0.919758       0.498584       1.594022   \n",
       "min    1.252200e+04       0.000000       0.000000       0.000000   \n",
       "25%    8.496487e+07       2.000000       0.000000       5.000000   \n",
       "50%    1.523824e+08       2.000000       0.000000       6.000000   \n",
       "75%    2.302488e+08       2.000000       1.000000       7.000000   \n",
       "max    4.438672e+08       4.000000       1.000000       9.000000   \n",
       "\n",
       "       admission_type_id  discharge_disposition_id  admission_source_id  \\\n",
       "count      101737.000000             101737.000000        101737.000000   \n",
       "mean            1.614978                  1.694654             3.802884   \n",
       "std             0.806755                  2.943529             2.797026   \n",
       "min             1.000000                  0.000000             0.000000   \n",
       "25%             1.000000                  0.000000             0.000000   \n",
       "50%             1.000000                  0.000000             6.000000   \n",
       "75%             2.000000                  2.000000             6.000000   \n",
       "max             5.000000                 16.000000             8.000000   \n",
       "\n",
       "       time_in_hospital  num_lab_procedures  num_procedures  ...  citoglipton  \\\n",
       "count     101737.000000       101737.000000   101737.000000  ...     101737.0   \n",
       "mean           4.395903           43.097093        1.339660  ...          1.0   \n",
       "std            2.984880           19.672010        1.705754  ...          0.0   \n",
       "min            1.000000            1.000000        0.000000  ...          1.0   \n",
       "25%            2.000000           31.000000        0.000000  ...          1.0   \n",
       "50%            4.000000           44.000000        1.000000  ...          1.0   \n",
       "75%            6.000000           57.000000        2.000000  ...          1.0   \n",
       "max           14.000000          132.000000        6.000000  ...          1.0   \n",
       "\n",
       "             insulin  glyburide-metformin  glipizide-metformin  \\\n",
       "count  101737.000000        101737.000000        101737.000000   \n",
       "mean        1.405497             1.006900             1.000128   \n",
       "std         0.838822             0.084426             0.011303   \n",
       "min         0.000000             0.000000             1.000000   \n",
       "25%         1.000000             1.000000             1.000000   \n",
       "50%         1.000000             1.000000             1.000000   \n",
       "75%         2.000000             1.000000             1.000000   \n",
       "max         3.000000             3.000000             2.000000   \n",
       "\n",
       "       glimepiride-pioglitazone  metformin-rosiglitazone  \\\n",
       "count             101737.000000            101737.000000   \n",
       "mean                   1.000010                 1.000020   \n",
       "std                    0.003135                 0.004434   \n",
       "min                    1.000000                 1.000000   \n",
       "25%                    1.000000                 1.000000   \n",
       "50%                    1.000000                 1.000000   \n",
       "75%                    1.000000                 1.000000   \n",
       "max                    2.000000                 2.000000   \n",
       "\n",
       "       metformin-pioglitazone         change    diabetesMed     readmitted  \n",
       "count           101737.000000  101737.000000  101737.000000  101737.000000  \n",
       "mean                 1.000010       0.538074       0.770025       1.427475  \n",
       "std                  0.003135       0.498551       0.420819       0.684053  \n",
       "min                  1.000000       0.000000       0.000000       0.000000  \n",
       "25%                  1.000000       0.000000       1.000000       1.000000  \n",
       "50%                  1.000000       1.000000       1.000000       2.000000  \n",
       "75%                  1.000000       1.000000       1.000000       2.000000  \n",
       "max                  2.000000       1.000000       1.000000       2.000000  \n",
       "\n",
       "[8 rows x 44 columns]"
      ]
     },
     "execution_count": 66,
     "metadata": {},
     "output_type": "execute_result"
    }
   ],
   "source": [
    "df.describe()"
   ]
  },
  {
   "cell_type": "markdown",
   "metadata": {},
   "source": [
    "```encounter_id``` is unique, so we drop this column."
   ]
  },
  {
   "cell_type": "code",
   "execution_count": 67,
   "metadata": {},
   "outputs": [],
   "source": [
    "ids = df[\"encounter_id\"]\n",
    "df.drop(columns = [\"encounter_id\"], inplace = True)"
   ]
  },
  {
   "cell_type": "markdown",
   "metadata": {},
   "source": [
    "Now we standardize our data with ```StandardScaler```. It transforms the features by subtracting the mean and dividing by the standard deviation of each feature, resulting in a feature with zero mean and unit variance."
   ]
  },
  {
   "cell_type": "code",
   "execution_count": 68,
   "metadata": {},
   "outputs": [],
   "source": [
    "from sklearn.preprocessing import StandardScaler\n",
    "\n",
    "for col in df.columns:\n",
    "    scaler = StandardScaler()\n",
    "    df[col] = scaler.fit_transform(df[[col]]).flatten()"
   ]
  },
  {
   "cell_type": "code",
   "execution_count": 69,
   "metadata": {},
   "outputs": [
    {
     "name": "stdout",
     "output_type": "stream",
     "text": [
      "<class 'pandas.core.frame.DataFrame'>\n",
      "Index: 101737 entries, 0 to 101765\n",
      "Data columns (total 43 columns):\n",
      " #   Column                    Non-Null Count   Dtype  \n",
      "---  ------                    --------------   -----  \n",
      " 0   race                      101737 non-null  float64\n",
      " 1   gender                    101737 non-null  float64\n",
      " 2   age                       101737 non-null  float64\n",
      " 3   admission_type_id         101737 non-null  float64\n",
      " 4   discharge_disposition_id  101737 non-null  float64\n",
      " 5   admission_source_id       101737 non-null  float64\n",
      " 6   time_in_hospital          101737 non-null  float64\n",
      " 7   num_lab_procedures        101737 non-null  float64\n",
      " 8   num_procedures            101737 non-null  float64\n",
      " 9   num_medications           101737 non-null  float64\n",
      " 10  number_outpatient         101737 non-null  float64\n",
      " 11  number_emergency          101737 non-null  float64\n",
      " 12  number_inpatient          101737 non-null  float64\n",
      " 13  diag_1                    101737 non-null  float64\n",
      " 14  diag_2                    101737 non-null  float64\n",
      " 15  diag_3                    101737 non-null  float64\n",
      " 16  number_diagnoses          101737 non-null  float64\n",
      " 17  metformin                 101737 non-null  float64\n",
      " 18  repaglinide               101737 non-null  float64\n",
      " 19  nateglinide               101737 non-null  float64\n",
      " 20  chlorpropamide            101737 non-null  float64\n",
      " 21  glimepiride               101737 non-null  float64\n",
      " 22  acetohexamide             101737 non-null  float64\n",
      " 23  glipizide                 101737 non-null  float64\n",
      " 24  glyburide                 101737 non-null  float64\n",
      " 25  tolbutamide               101737 non-null  float64\n",
      " 26  pioglitazone              101737 non-null  float64\n",
      " 27  rosiglitazone             101737 non-null  float64\n",
      " 28  acarbose                  101737 non-null  float64\n",
      " 29  miglitol                  101737 non-null  float64\n",
      " 30  troglitazone              101737 non-null  float64\n",
      " 31  tolazamide                101737 non-null  float64\n",
      " 32  examide                   101737 non-null  float64\n",
      " 33  citoglipton               101737 non-null  float64\n",
      " 34  insulin                   101737 non-null  float64\n",
      " 35  glyburide-metformin       101737 non-null  float64\n",
      " 36  glipizide-metformin       101737 non-null  float64\n",
      " 37  glimepiride-pioglitazone  101737 non-null  float64\n",
      " 38  metformin-rosiglitazone   101737 non-null  float64\n",
      " 39  metformin-pioglitazone    101737 non-null  float64\n",
      " 40  change                    101737 non-null  float64\n",
      " 41  diabetesMed               101737 non-null  float64\n",
      " 42  readmitted                101737 non-null  float64\n",
      "dtypes: float64(43)\n",
      "memory usage: 34.2 MB\n"
     ]
    }
   ],
   "source": [
    "df.info()"
   ]
  },
  {
   "cell_type": "markdown",
   "metadata": {},
   "source": [
    "This function detects outliers and gives us two dataframes, one for outliers and the other is for main df except outliers.\n",
    "\n",
    "The ```Isolation Forest``` (also known as the Isolation Tree) is a powerful unsupervised anomaly detection algorithm that identifies outliers in a dataset.\n",
    "The key principles behind the Isolation Forest algorithm are:\n",
    "\n",
    "1. **Isolation**: The algorithm isolates outliers by randomly selecting a feature and then randomly selecting a split value between the maximum and minimum values of the selected feature. This process is repeated recursively until an observation is isolated.\n",
    "\n",
    "2. **Anomaly Score**: The number of splits required to isolate a data point is used to calculate its anomaly score. Data points that require fewer splits to isolate are more likely to be outliers, as they are more isolated from the rest of the data.\n",
    "\n",
    "3. **Contamination**: The algorithm requires a contamination parameter, which is the expected fraction of outliers in the dataset. This helps the algorithm determine the appropriate threshold for identifying outliers."
   ]
  },
  {
   "cell_type": "code",
   "execution_count": 70,
   "metadata": {},
   "outputs": [],
   "source": [
    "from sklearn.ensemble import IsolationForest\n",
    "\n",
    "def detect_outliers(df, n_estimators, contamination):\n",
    "    df_copy = df.copy()\n",
    "    iso = IsolationForest(n_estimators=n_estimators, contamination=contamination ,random_state=42)\n",
    "    df_copy['outlier'] = iso.fit_predict(df_copy)\n",
    "    df_outliers = df_copy[df_copy['outlier'] == -1]\n",
    "    df_copy = df_copy[df_copy['outlier'] == 1]\n",
    "    df_copy.drop('outlier', axis=1, inplace=True)\n",
    "    return df_copy, df_outliers\n",
    "\n",
    "df, _ = detect_outliers(df, 50, 0.2)"
   ]
  },
  {
   "cell_type": "code",
   "execution_count": 71,
   "metadata": {},
   "outputs": [
    {
     "name": "stdout",
     "output_type": "stream",
     "text": [
      "<class 'pandas.core.frame.DataFrame'>\n",
      "Index: 81389 entries, 0 to 101765\n",
      "Data columns (total 43 columns):\n",
      " #   Column                    Non-Null Count  Dtype  \n",
      "---  ------                    --------------  -----  \n",
      " 0   race                      81389 non-null  float64\n",
      " 1   gender                    81389 non-null  float64\n",
      " 2   age                       81389 non-null  float64\n",
      " 3   admission_type_id         81389 non-null  float64\n",
      " 4   discharge_disposition_id  81389 non-null  float64\n",
      " 5   admission_source_id       81389 non-null  float64\n",
      " 6   time_in_hospital          81389 non-null  float64\n",
      " 7   num_lab_procedures        81389 non-null  float64\n",
      " 8   num_procedures            81389 non-null  float64\n",
      " 9   num_medications           81389 non-null  float64\n",
      " 10  number_outpatient         81389 non-null  float64\n",
      " 11  number_emergency          81389 non-null  float64\n",
      " 12  number_inpatient          81389 non-null  float64\n",
      " 13  diag_1                    81389 non-null  float64\n",
      " 14  diag_2                    81389 non-null  float64\n",
      " 15  diag_3                    81389 non-null  float64\n",
      " 16  number_diagnoses          81389 non-null  float64\n",
      " 17  metformin                 81389 non-null  float64\n",
      " 18  repaglinide               81389 non-null  float64\n",
      " 19  nateglinide               81389 non-null  float64\n",
      " 20  chlorpropamide            81389 non-null  float64\n",
      " 21  glimepiride               81389 non-null  float64\n",
      " 22  acetohexamide             81389 non-null  float64\n",
      " 23  glipizide                 81389 non-null  float64\n",
      " 24  glyburide                 81389 non-null  float64\n",
      " 25  tolbutamide               81389 non-null  float64\n",
      " 26  pioglitazone              81389 non-null  float64\n",
      " 27  rosiglitazone             81389 non-null  float64\n",
      " 28  acarbose                  81389 non-null  float64\n",
      " 29  miglitol                  81389 non-null  float64\n",
      " 30  troglitazone              81389 non-null  float64\n",
      " 31  tolazamide                81389 non-null  float64\n",
      " 32  examide                   81389 non-null  float64\n",
      " 33  citoglipton               81389 non-null  float64\n",
      " 34  insulin                   81389 non-null  float64\n",
      " 35  glyburide-metformin       81389 non-null  float64\n",
      " 36  glipizide-metformin       81389 non-null  float64\n",
      " 37  glimepiride-pioglitazone  81389 non-null  float64\n",
      " 38  metformin-rosiglitazone   81389 non-null  float64\n",
      " 39  metformin-pioglitazone    81389 non-null  float64\n",
      " 40  change                    81389 non-null  float64\n",
      " 41  diabetesMed               81389 non-null  float64\n",
      " 42  readmitted                81389 non-null  float64\n",
      "dtypes: float64(43)\n",
      "memory usage: 27.3 MB\n"
     ]
    }
   ],
   "source": [
    "df.info()"
   ]
  },
  {
   "cell_type": "code",
   "execution_count": 72,
   "metadata": {},
   "outputs": [
    {
     "data": {
      "text/html": [
       "<div>\n",
       "<style scoped>\n",
       "    .dataframe tbody tr th:only-of-type {\n",
       "        vertical-align: middle;\n",
       "    }\n",
       "\n",
       "    .dataframe tbody tr th {\n",
       "        vertical-align: top;\n",
       "    }\n",
       "\n",
       "    .dataframe thead th {\n",
       "        text-align: right;\n",
       "    }\n",
       "</style>\n",
       "<table border=\"1\" class=\"dataframe\">\n",
       "  <thead>\n",
       "    <tr style=\"text-align: right;\">\n",
       "      <th></th>\n",
       "      <th>race</th>\n",
       "      <th>gender</th>\n",
       "      <th>age</th>\n",
       "      <th>admission_type_id</th>\n",
       "      <th>discharge_disposition_id</th>\n",
       "      <th>admission_source_id</th>\n",
       "      <th>time_in_hospital</th>\n",
       "      <th>num_lab_procedures</th>\n",
       "      <th>num_procedures</th>\n",
       "      <th>num_medications</th>\n",
       "      <th>...</th>\n",
       "      <th>citoglipton</th>\n",
       "      <th>insulin</th>\n",
       "      <th>glyburide-metformin</th>\n",
       "      <th>glipizide-metformin</th>\n",
       "      <th>glimepiride-pioglitazone</th>\n",
       "      <th>metformin-rosiglitazone</th>\n",
       "      <th>metformin-pioglitazone</th>\n",
       "      <th>change</th>\n",
       "      <th>diabetesMed</th>\n",
       "      <th>readmitted</th>\n",
       "    </tr>\n",
       "  </thead>\n",
       "  <tbody>\n",
       "    <tr>\n",
       "      <th>0</th>\n",
       "      <td>0.314856</td>\n",
       "      <td>-0.927368</td>\n",
       "      <td>-3.824815</td>\n",
       "      <td>-0.762289</td>\n",
       "      <td>-0.575725</td>\n",
       "      <td>-1.359623</td>\n",
       "      <td>-1.137707</td>\n",
       "      <td>-0.106603</td>\n",
       "      <td>-0.785381</td>\n",
       "      <td>-1.848284</td>\n",
       "      <td>...</td>\n",
       "      <td>0.0</td>\n",
       "      <td>-0.483415</td>\n",
       "      <td>-0.08173</td>\n",
       "      <td>-0.011305</td>\n",
       "      <td>-0.003135</td>\n",
       "      <td>-0.004434</td>\n",
       "      <td>-0.003135</td>\n",
       "      <td>0.926543</td>\n",
       "      <td>-1.829834</td>\n",
       "      <td>0.836965</td>\n",
       "    </tr>\n",
       "    <tr>\n",
       "      <th>1</th>\n",
       "      <td>0.314856</td>\n",
       "      <td>-0.927368</td>\n",
       "      <td>-3.197468</td>\n",
       "      <td>-0.762289</td>\n",
       "      <td>-0.575725</td>\n",
       "      <td>0.785522</td>\n",
       "      <td>-0.467660</td>\n",
       "      <td>0.808407</td>\n",
       "      <td>-0.785381</td>\n",
       "      <td>0.243405</td>\n",
       "      <td>...</td>\n",
       "      <td>0.0</td>\n",
       "      <td>1.900895</td>\n",
       "      <td>-0.08173</td>\n",
       "      <td>-0.011305</td>\n",
       "      <td>-0.003135</td>\n",
       "      <td>-0.004434</td>\n",
       "      <td>-0.003135</td>\n",
       "      <td>-1.079281</td>\n",
       "      <td>0.546498</td>\n",
       "      <td>-0.624918</td>\n",
       "    </tr>\n",
       "    <tr>\n",
       "      <th>3</th>\n",
       "      <td>0.314856</td>\n",
       "      <td>1.078321</td>\n",
       "      <td>-1.942774</td>\n",
       "      <td>-0.762289</td>\n",
       "      <td>-0.575725</td>\n",
       "      <td>0.785522</td>\n",
       "      <td>-0.802684</td>\n",
       "      <td>0.045898</td>\n",
       "      <td>-0.199127</td>\n",
       "      <td>-0.002676</td>\n",
       "      <td>...</td>\n",
       "      <td>0.0</td>\n",
       "      <td>1.900895</td>\n",
       "      <td>-0.08173</td>\n",
       "      <td>-0.011305</td>\n",
       "      <td>-0.003135</td>\n",
       "      <td>-0.004434</td>\n",
       "      <td>-0.003135</td>\n",
       "      <td>-1.079281</td>\n",
       "      <td>0.546498</td>\n",
       "      <td>0.836965</td>\n",
       "    </tr>\n",
       "    <tr>\n",
       "      <th>4</th>\n",
       "      <td>0.314856</td>\n",
       "      <td>1.078321</td>\n",
       "      <td>-1.315427</td>\n",
       "      <td>-0.762289</td>\n",
       "      <td>-0.575725</td>\n",
       "      <td>0.785522</td>\n",
       "      <td>-1.137707</td>\n",
       "      <td>0.401736</td>\n",
       "      <td>-0.785381</td>\n",
       "      <td>-0.987000</td>\n",
       "      <td>...</td>\n",
       "      <td>0.0</td>\n",
       "      <td>0.708740</td>\n",
       "      <td>-0.08173</td>\n",
       "      <td>-0.011305</td>\n",
       "      <td>-0.003135</td>\n",
       "      <td>-0.004434</td>\n",
       "      <td>-0.003135</td>\n",
       "      <td>-1.079281</td>\n",
       "      <td>0.546498</td>\n",
       "      <td>0.836965</td>\n",
       "    </tr>\n",
       "    <tr>\n",
       "      <th>5</th>\n",
       "      <td>0.314856</td>\n",
       "      <td>1.078321</td>\n",
       "      <td>-0.688080</td>\n",
       "      <td>0.477250</td>\n",
       "      <td>-0.575725</td>\n",
       "      <td>-1.002099</td>\n",
       "      <td>-0.467660</td>\n",
       "      <td>-0.614942</td>\n",
       "      <td>2.732143</td>\n",
       "      <td>-0.002676</td>\n",
       "      <td>...</td>\n",
       "      <td>0.0</td>\n",
       "      <td>0.708740</td>\n",
       "      <td>-0.08173</td>\n",
       "      <td>-0.011305</td>\n",
       "      <td>-0.003135</td>\n",
       "      <td>-0.004434</td>\n",
       "      <td>-0.003135</td>\n",
       "      <td>0.926543</td>\n",
       "      <td>0.546498</td>\n",
       "      <td>-0.624918</td>\n",
       "    </tr>\n",
       "  </tbody>\n",
       "</table>\n",
       "<p>5 rows × 43 columns</p>\n",
       "</div>"
      ],
      "text/plain": [
       "       race    gender       age  admission_type_id  discharge_disposition_id  \\\n",
       "0  0.314856 -0.927368 -3.824815          -0.762289                 -0.575725   \n",
       "1  0.314856 -0.927368 -3.197468          -0.762289                 -0.575725   \n",
       "3  0.314856  1.078321 -1.942774          -0.762289                 -0.575725   \n",
       "4  0.314856  1.078321 -1.315427          -0.762289                 -0.575725   \n",
       "5  0.314856  1.078321 -0.688080           0.477250                 -0.575725   \n",
       "\n",
       "   admission_source_id  time_in_hospital  num_lab_procedures  num_procedures  \\\n",
       "0            -1.359623         -1.137707           -0.106603       -0.785381   \n",
       "1             0.785522         -0.467660            0.808407       -0.785381   \n",
       "3             0.785522         -0.802684            0.045898       -0.199127   \n",
       "4             0.785522         -1.137707            0.401736       -0.785381   \n",
       "5            -1.002099         -0.467660           -0.614942        2.732143   \n",
       "\n",
       "   num_medications  ...  citoglipton   insulin  glyburide-metformin  \\\n",
       "0        -1.848284  ...          0.0 -0.483415             -0.08173   \n",
       "1         0.243405  ...          0.0  1.900895             -0.08173   \n",
       "3        -0.002676  ...          0.0  1.900895             -0.08173   \n",
       "4        -0.987000  ...          0.0  0.708740             -0.08173   \n",
       "5        -0.002676  ...          0.0  0.708740             -0.08173   \n",
       "\n",
       "   glipizide-metformin  glimepiride-pioglitazone  metformin-rosiglitazone  \\\n",
       "0            -0.011305                 -0.003135                -0.004434   \n",
       "1            -0.011305                 -0.003135                -0.004434   \n",
       "3            -0.011305                 -0.003135                -0.004434   \n",
       "4            -0.011305                 -0.003135                -0.004434   \n",
       "5            -0.011305                 -0.003135                -0.004434   \n",
       "\n",
       "   metformin-pioglitazone    change  diabetesMed  readmitted  \n",
       "0               -0.003135  0.926543    -1.829834    0.836965  \n",
       "1               -0.003135 -1.079281     0.546498   -0.624918  \n",
       "3               -0.003135 -1.079281     0.546498    0.836965  \n",
       "4               -0.003135 -1.079281     0.546498    0.836965  \n",
       "5               -0.003135  0.926543     0.546498   -0.624918  \n",
       "\n",
       "[5 rows x 43 columns]"
      ]
     },
     "execution_count": 72,
     "metadata": {},
     "output_type": "execute_result"
    }
   ],
   "source": [
    "df.head()"
   ]
  },
  {
   "cell_type": "code",
   "execution_count": 73,
   "metadata": {},
   "outputs": [
    {
     "data": {
      "text/html": [
       "<div>\n",
       "<style scoped>\n",
       "    .dataframe tbody tr th:only-of-type {\n",
       "        vertical-align: middle;\n",
       "    }\n",
       "\n",
       "    .dataframe tbody tr th {\n",
       "        vertical-align: top;\n",
       "    }\n",
       "\n",
       "    .dataframe thead th {\n",
       "        text-align: right;\n",
       "    }\n",
       "</style>\n",
       "<table border=\"1\" class=\"dataframe\">\n",
       "  <thead>\n",
       "    <tr style=\"text-align: right;\">\n",
       "      <th></th>\n",
       "      <th>race</th>\n",
       "      <th>gender</th>\n",
       "      <th>age</th>\n",
       "      <th>admission_type_id</th>\n",
       "      <th>discharge_disposition_id</th>\n",
       "      <th>admission_source_id</th>\n",
       "      <th>time_in_hospital</th>\n",
       "      <th>num_lab_procedures</th>\n",
       "      <th>num_procedures</th>\n",
       "      <th>num_medications</th>\n",
       "      <th>...</th>\n",
       "      <th>citoglipton</th>\n",
       "      <th>insulin</th>\n",
       "      <th>glyburide-metformin</th>\n",
       "      <th>glipizide-metformin</th>\n",
       "      <th>glimepiride-pioglitazone</th>\n",
       "      <th>metformin-rosiglitazone</th>\n",
       "      <th>metformin-pioglitazone</th>\n",
       "      <th>change</th>\n",
       "      <th>diabetesMed</th>\n",
       "      <th>readmitted</th>\n",
       "    </tr>\n",
       "  </thead>\n",
       "  <tbody>\n",
       "    <tr>\n",
       "      <th>count</th>\n",
       "      <td>81389.000000</td>\n",
       "      <td>81389.000000</td>\n",
       "      <td>81389.000000</td>\n",
       "      <td>81389.000000</td>\n",
       "      <td>81389.000000</td>\n",
       "      <td>81389.000000</td>\n",
       "      <td>81389.000000</td>\n",
       "      <td>81389.000000</td>\n",
       "      <td>81389.000000</td>\n",
       "      <td>81389.000000</td>\n",
       "      <td>...</td>\n",
       "      <td>81389.0</td>\n",
       "      <td>81389.000000</td>\n",
       "      <td>81389.000000</td>\n",
       "      <td>81389.000000</td>\n",
       "      <td>81389.000000</td>\n",
       "      <td>81389.000000</td>\n",
       "      <td>8.138900e+04</td>\n",
       "      <td>81389.000000</td>\n",
       "      <td>81389.000000</td>\n",
       "      <td>81389.000000</td>\n",
       "    </tr>\n",
       "    <tr>\n",
       "      <th>mean</th>\n",
       "      <td>0.024786</td>\n",
       "      <td>-0.012142</td>\n",
       "      <td>0.039526</td>\n",
       "      <td>-0.125561</td>\n",
       "      <td>-0.082995</td>\n",
       "      <td>0.096180</td>\n",
       "      <td>-0.043934</td>\n",
       "      <td>0.018433</td>\n",
       "      <td>-0.059041</td>\n",
       "      <td>-0.082275</td>\n",
       "      <td>...</td>\n",
       "      <td>0.0</td>\n",
       "      <td>0.004952</td>\n",
       "      <td>-0.012602</td>\n",
       "      <td>0.002826</td>\n",
       "      <td>0.000784</td>\n",
       "      <td>-0.001663</td>\n",
       "      <td>-3.135181e-03</td>\n",
       "      <td>0.109219</td>\n",
       "      <td>-0.038644</td>\n",
       "      <td>0.090496</td>\n",
       "    </tr>\n",
       "    <tr>\n",
       "      <th>std</th>\n",
       "      <td>0.954498</td>\n",
       "      <td>0.999015</td>\n",
       "      <td>0.978658</td>\n",
       "      <td>0.930925</td>\n",
       "      <td>0.865769</td>\n",
       "      <td>0.968282</td>\n",
       "      <td>0.952701</td>\n",
       "      <td>0.982837</td>\n",
       "      <td>0.955340</td>\n",
       "      <td>0.903958</td>\n",
       "      <td>...</td>\n",
       "      <td>0.0</td>\n",
       "      <td>0.971578</td>\n",
       "      <td>0.921142</td>\n",
       "      <td>1.118027</td>\n",
       "      <td>1.118044</td>\n",
       "      <td>0.790580</td>\n",
       "      <td>1.301051e-18</td>\n",
       "      <td>0.985597</td>\n",
       "      <td>1.023774</td>\n",
       "      <td>0.931633</td>\n",
       "    </tr>\n",
       "    <tr>\n",
       "      <th>min</th>\n",
       "      <td>-1.859639</td>\n",
       "      <td>-0.927368</td>\n",
       "      <td>-3.824815</td>\n",
       "      <td>-0.762289</td>\n",
       "      <td>-0.575725</td>\n",
       "      <td>-1.359623</td>\n",
       "      <td>-1.137707</td>\n",
       "      <td>-2.139959</td>\n",
       "      <td>-0.785381</td>\n",
       "      <td>-1.848284</td>\n",
       "      <td>...</td>\n",
       "      <td>0.0</td>\n",
       "      <td>-1.675569</td>\n",
       "      <td>-11.926420</td>\n",
       "      <td>-0.011305</td>\n",
       "      <td>-0.003135</td>\n",
       "      <td>-0.004434</td>\n",
       "      <td>-3.135181e-03</td>\n",
       "      <td>-1.079281</td>\n",
       "      <td>-1.829834</td>\n",
       "      <td>-2.086801</td>\n",
       "    </tr>\n",
       "    <tr>\n",
       "      <th>25%</th>\n",
       "      <td>0.314856</td>\n",
       "      <td>-0.927368</td>\n",
       "      <td>-0.688080</td>\n",
       "      <td>-0.762289</td>\n",
       "      <td>-0.575725</td>\n",
       "      <td>-1.359623</td>\n",
       "      <td>-0.802684</td>\n",
       "      <td>-0.564108</td>\n",
       "      <td>-0.785381</td>\n",
       "      <td>-0.740919</td>\n",
       "      <td>...</td>\n",
       "      <td>0.0</td>\n",
       "      <td>-0.483415</td>\n",
       "      <td>-0.081730</td>\n",
       "      <td>-0.011305</td>\n",
       "      <td>-0.003135</td>\n",
       "      <td>-0.004434</td>\n",
       "      <td>-3.135181e-03</td>\n",
       "      <td>-1.079281</td>\n",
       "      <td>0.546498</td>\n",
       "      <td>-0.624918</td>\n",
       "    </tr>\n",
       "    <tr>\n",
       "      <th>50%</th>\n",
       "      <td>0.314856</td>\n",
       "      <td>-0.927368</td>\n",
       "      <td>-0.060732</td>\n",
       "      <td>-0.762289</td>\n",
       "      <td>-0.575725</td>\n",
       "      <td>0.785522</td>\n",
       "      <td>-0.132637</td>\n",
       "      <td>0.096732</td>\n",
       "      <td>-0.199127</td>\n",
       "      <td>-0.248757</td>\n",
       "      <td>...</td>\n",
       "      <td>0.0</td>\n",
       "      <td>-0.483415</td>\n",
       "      <td>-0.081730</td>\n",
       "      <td>-0.011305</td>\n",
       "      <td>-0.003135</td>\n",
       "      <td>-0.004434</td>\n",
       "      <td>-3.135181e-03</td>\n",
       "      <td>0.926543</td>\n",
       "      <td>0.546498</td>\n",
       "      <td>0.836965</td>\n",
       "    </tr>\n",
       "    <tr>\n",
       "      <th>75%</th>\n",
       "      <td>0.314856</td>\n",
       "      <td>1.078321</td>\n",
       "      <td>0.566615</td>\n",
       "      <td>0.477250</td>\n",
       "      <td>0.103735</td>\n",
       "      <td>0.785522</td>\n",
       "      <td>0.537410</td>\n",
       "      <td>0.706739</td>\n",
       "      <td>0.387127</td>\n",
       "      <td>0.366445</td>\n",
       "      <td>...</td>\n",
       "      <td>0.0</td>\n",
       "      <td>0.708740</td>\n",
       "      <td>-0.081730</td>\n",
       "      <td>-0.011305</td>\n",
       "      <td>-0.003135</td>\n",
       "      <td>-0.004434</td>\n",
       "      <td>-3.135181e-03</td>\n",
       "      <td>0.926543</td>\n",
       "      <td>0.546498</td>\n",
       "      <td>0.836965</td>\n",
       "    </tr>\n",
       "    <tr>\n",
       "      <th>max</th>\n",
       "      <td>2.489351</td>\n",
       "      <td>1.078321</td>\n",
       "      <td>1.821309</td>\n",
       "      <td>4.195868</td>\n",
       "      <td>4.859955</td>\n",
       "      <td>1.500571</td>\n",
       "      <td>3.217598</td>\n",
       "      <td>3.960108</td>\n",
       "      <td>2.732143</td>\n",
       "      <td>7.133672</td>\n",
       "      <td>...</td>\n",
       "      <td>0.0</td>\n",
       "      <td>1.900895</td>\n",
       "      <td>23.607651</td>\n",
       "      <td>88.458595</td>\n",
       "      <td>318.960813</td>\n",
       "      <td>225.538245</td>\n",
       "      <td>-3.135181e-03</td>\n",
       "      <td>0.926543</td>\n",
       "      <td>0.546498</td>\n",
       "      <td>0.836965</td>\n",
       "    </tr>\n",
       "  </tbody>\n",
       "</table>\n",
       "<p>8 rows × 43 columns</p>\n",
       "</div>"
      ],
      "text/plain": [
       "               race        gender           age  admission_type_id  \\\n",
       "count  81389.000000  81389.000000  81389.000000       81389.000000   \n",
       "mean       0.024786     -0.012142      0.039526          -0.125561   \n",
       "std        0.954498      0.999015      0.978658           0.930925   \n",
       "min       -1.859639     -0.927368     -3.824815          -0.762289   \n",
       "25%        0.314856     -0.927368     -0.688080          -0.762289   \n",
       "50%        0.314856     -0.927368     -0.060732          -0.762289   \n",
       "75%        0.314856      1.078321      0.566615           0.477250   \n",
       "max        2.489351      1.078321      1.821309           4.195868   \n",
       "\n",
       "       discharge_disposition_id  admission_source_id  time_in_hospital  \\\n",
       "count              81389.000000         81389.000000      81389.000000   \n",
       "mean                  -0.082995             0.096180         -0.043934   \n",
       "std                    0.865769             0.968282          0.952701   \n",
       "min                   -0.575725            -1.359623         -1.137707   \n",
       "25%                   -0.575725            -1.359623         -0.802684   \n",
       "50%                   -0.575725             0.785522         -0.132637   \n",
       "75%                    0.103735             0.785522          0.537410   \n",
       "max                    4.859955             1.500571          3.217598   \n",
       "\n",
       "       num_lab_procedures  num_procedures  num_medications  ...  citoglipton  \\\n",
       "count        81389.000000    81389.000000     81389.000000  ...      81389.0   \n",
       "mean             0.018433       -0.059041        -0.082275  ...          0.0   \n",
       "std              0.982837        0.955340         0.903958  ...          0.0   \n",
       "min             -2.139959       -0.785381        -1.848284  ...          0.0   \n",
       "25%             -0.564108       -0.785381        -0.740919  ...          0.0   \n",
       "50%              0.096732       -0.199127        -0.248757  ...          0.0   \n",
       "75%              0.706739        0.387127         0.366445  ...          0.0   \n",
       "max              3.960108        2.732143         7.133672  ...          0.0   \n",
       "\n",
       "            insulin  glyburide-metformin  glipizide-metformin  \\\n",
       "count  81389.000000         81389.000000         81389.000000   \n",
       "mean       0.004952            -0.012602             0.002826   \n",
       "std        0.971578             0.921142             1.118027   \n",
       "min       -1.675569           -11.926420            -0.011305   \n",
       "25%       -0.483415            -0.081730            -0.011305   \n",
       "50%       -0.483415            -0.081730            -0.011305   \n",
       "75%        0.708740            -0.081730            -0.011305   \n",
       "max        1.900895            23.607651            88.458595   \n",
       "\n",
       "       glimepiride-pioglitazone  metformin-rosiglitazone  \\\n",
       "count              81389.000000             81389.000000   \n",
       "mean                   0.000784                -0.001663   \n",
       "std                    1.118044                 0.790580   \n",
       "min                   -0.003135                -0.004434   \n",
       "25%                   -0.003135                -0.004434   \n",
       "50%                   -0.003135                -0.004434   \n",
       "75%                   -0.003135                -0.004434   \n",
       "max                  318.960813               225.538245   \n",
       "\n",
       "       metformin-pioglitazone        change   diabetesMed    readmitted  \n",
       "count            8.138900e+04  81389.000000  81389.000000  81389.000000  \n",
       "mean            -3.135181e-03      0.109219     -0.038644      0.090496  \n",
       "std              1.301051e-18      0.985597      1.023774      0.931633  \n",
       "min             -3.135181e-03     -1.079281     -1.829834     -2.086801  \n",
       "25%             -3.135181e-03     -1.079281      0.546498     -0.624918  \n",
       "50%             -3.135181e-03      0.926543      0.546498      0.836965  \n",
       "75%             -3.135181e-03      0.926543      0.546498      0.836965  \n",
       "max             -3.135181e-03      0.926543      0.546498      0.836965  \n",
       "\n",
       "[8 rows x 43 columns]"
      ]
     },
     "execution_count": 73,
     "metadata": {},
     "output_type": "execute_result"
    }
   ],
   "source": [
    "df.describe()"
   ]
  },
  {
   "cell_type": "code",
   "execution_count": 74,
   "metadata": {},
   "outputs": [
    {
     "data": {
      "text/plain": [
       "43"
      ]
     },
     "execution_count": 74,
     "metadata": {},
     "output_type": "execute_result"
    }
   ],
   "source": [
    "len(df.columns)"
   ]
  },
  {
   "cell_type": "markdown",
   "metadata": {},
   "source": [
    "# Part 2: Dimensionality Reduction"
   ]
  },
  {
   "cell_type": "code",
   "execution_count": 75,
   "metadata": {},
   "outputs": [],
   "source": [
    "import numpy as np\n",
    "import matplotlib.pyplot as plt\n",
    "from sklearn.decomposition import PCA\n",
    "\n",
    "def plot_CEV_for_pca(X):\n",
    "    max_components = min(X.shape)\n",
    "    explained_variances = []\n",
    "    for n in range(1, max_components + 1):\n",
    "        pca = PCA(n_components=n)\n",
    "        X_pca = pca.fit_transform(X)\n",
    "        cumulative_explained_variance = np.cumsum(pca.explained_variance_ratio_)\n",
    "        explained_variances.append(cumulative_explained_variance[-1])\n",
    "\n",
    "    plt.figure(figsize=(10, 6))\n",
    "    plt.plot(range(1, max_components + 1), explained_variances, marker='o', linestyle='--')\n",
    "    plt.xlabel('Number of Principal Components')\n",
    "    plt.ylabel('Cumulative Explained Variance')\n",
    "    plt.title('Cumulative Explained Variance for Different Numbers of Principal Components')\n",
    "    plt.axhline(y=0.9, color='g', linestyle='--')\n",
    "    plt.axhline(y=1.0, color='r', linestyle='--')\n",
    "    plt.yticks(np.arange(0, 1.1, 0.1))\n",
    "    plt.show()\n"
   ]
  },
  {
   "cell_type": "code",
   "execution_count": 76,
   "metadata": {},
   "outputs": [
    {
     "data": {
      "image/png": "[encoded data removed]",
      "text/plain": [
       "<Figure size 1000x600 with 1 Axes>"
      ]
     },
     "metadata": {},
     "output_type": "display_data"
    }
   ],
   "source": [
    "X = df.values\n",
    "plot_CEV_for_pca(X)"
   ]
  },
  {
   "cell_type": "markdown",
   "metadata": {},
   "source": [
    "As you can see, to cover 90% of variance, num_components parameter in pca should be more than 31 but it decreases silhouette score of our models. After trying several values for num_components, we set that to 3 to achieve the best silhouette score."
   ]
  },
  {
   "cell_type": "code",
   "execution_count": 77,
   "metadata": {},
   "outputs": [],
   "source": [
    "pca = PCA(n_components=3)\n",
    "X_pca = pca.fit_transform(X)"
   ]
  },
  {
   "cell_type": "markdown",
   "metadata": {},
   "source": [
    "# Part 3: Unsupervised Learning"
   ]
  },
  {
   "cell_type": "markdown",
   "metadata": {},
   "source": [
    "In this part, we use elbow rule to choose the best K for K-means model. We try several values for K and we choose the one which has better score with respect to avoiding overfitting."
   ]
  },
  {
   "cell_type": "code",
   "execution_count": 78,
   "metadata": {},
   "outputs": [
    {
     "name": "stderr",
     "output_type": "stream",
     "text": [
      "C:\\Users\\HI\\AppData\\Roaming\\Python\\Python311\\site-packages\\sklearn\\cluster\\_kmeans.py:1412: FutureWarning: The default value of `n_init` will change from 10 to 'auto' in 1.4. Set the value of `n_init` explicitly to suppress the warning\n",
      "  super()._check_params_vs_input(X, default_n_init=10)\n",
      "C:\\Users\\HI\\AppData\\Roaming\\Python\\Python311\\site-packages\\joblib\\externals\\loky\\backend\\context.py:136: UserWarning: Could not find the number of physical cores for the following reason:\n",
      "found 0 physical cores < 1\n",
      "Returning the number of logical cores instead. You can silence this warning by setting LOKY_MAX_CPU_COUNT to the number of cores you want to use.\n",
      "  warnings.warn(\n",
      "  File \"C:\\Users\\HI\\AppData\\Roaming\\Python\\Python311\\site-packages\\joblib\\externals\\loky\\backend\\context.py\", line 282, in _count_physical_cores\n",
      "    raise ValueError(f\"found {cpu_count_physical} physical cores < 1\")\n",
      "C:\\Users\\HI\\AppData\\Roaming\\Python\\Python311\\site-packages\\sklearn\\cluster\\_kmeans.py:1412: FutureWarning: The default value of `n_init` will change from 10 to 'auto' in 1.4. Set the value of `n_init` explicitly to suppress the warning\n",
      "  super()._check_params_vs_input(X, default_n_init=10)\n",
      "C:\\Users\\HI\\AppData\\Roaming\\Python\\Python311\\site-packages\\sklearn\\cluster\\_kmeans.py:1412: FutureWarning: The default value of `n_init` will change from 10 to 'auto' in 1.4. Set the value of `n_init` explicitly to suppress the warning\n",
      "  super()._check_params_vs_input(X, default_n_init=10)\n",
      "C:\\Users\\HI\\AppData\\Roaming\\Python\\Python311\\site-packages\\sklearn\\cluster\\_kmeans.py:1412: FutureWarning: The default value of `n_init` will change from 10 to 'auto' in 1.4. Set the value of `n_init` explicitly to suppress the warning\n",
      "  super()._check_params_vs_input(X, default_n_init=10)\n",
      "C:\\Users\\HI\\AppData\\Roaming\\Python\\Python311\\site-packages\\sklearn\\cluster\\_kmeans.py:1412: FutureWarning: The default value of `n_init` will change from 10 to 'auto' in 1.4. Set the value of `n_init` explicitly to suppress the warning\n",
      "  super()._check_params_vs_input(X, default_n_init=10)\n",
      "C:\\Users\\HI\\AppData\\Roaming\\Python\\Python311\\site-packages\\sklearn\\cluster\\_kmeans.py:1412: FutureWarning: The default value of `n_init` will change from 10 to 'auto' in 1.4. Set the value of `n_init` explicitly to suppress the warning\n",
      "  super()._check_params_vs_input(X, default_n_init=10)\n",
      "C:\\Users\\HI\\AppData\\Roaming\\Python\\Python311\\site-packages\\sklearn\\cluster\\_kmeans.py:1412: FutureWarning: The default value of `n_init` will change from 10 to 'auto' in 1.4. Set the value of `n_init` explicitly to suppress the warning\n",
      "  super()._check_params_vs_input(X, default_n_init=10)\n",
      "C:\\Users\\HI\\AppData\\Roaming\\Python\\Python311\\site-packages\\sklearn\\cluster\\_kmeans.py:1412: FutureWarning: The default value of `n_init` will change from 10 to 'auto' in 1.4. Set the value of `n_init` explicitly to suppress the warning\n",
      "  super()._check_params_vs_input(X, default_n_init=10)\n",
      "C:\\Users\\HI\\AppData\\Roaming\\Python\\Python311\\site-packages\\sklearn\\cluster\\_kmeans.py:1412: FutureWarning: The default value of `n_init` will change from 10 to 'auto' in 1.4. Set the value of `n_init` explicitly to suppress the warning\n",
      "  super()._check_params_vs_input(X, default_n_init=10)\n"
     ]
    },
    {
     "data": {
      "image/png": "[encoded data removed]",
      "text/plain": [
       "<Figure size 800x550 with 2 Axes>"
      ]
     },
     "metadata": {},
     "output_type": "display_data"
    },
    {
     "name": "stdout",
     "output_type": "stream",
     "text": [
      "The optimal number of clusters is 4\n"
     ]
    }
   ],
   "source": [
    "from sklearn.cluster import KMeans\n",
    "from yellowbrick.cluster import KElbowVisualizer\n",
    "import matplotlib.pyplot as plt\n",
    "\n",
    "model = KMeans(random_state=42)\n",
    "visualizer = KElbowVisualizer(model, k=(2, 11), metric='silhouette', timings=True)\n",
    "visualizer.fit(X_pca)\n",
    "visualizer.show()\n",
    "optimal_k = visualizer.elbow_value_\n",
    "print(f\"The optimal number of clusters is {optimal_k}\")"
   ]
  },
  {
   "cell_type": "code",
   "execution_count": 79,
   "metadata": {},
   "outputs": [
    {
     "name": "stderr",
     "output_type": "stream",
     "text": [
      "C:\\Users\\HI\\AppData\\Roaming\\Python\\Python311\\site-packages\\sklearn\\cluster\\_kmeans.py:1412: FutureWarning: The default value of `n_init` will change from 10 to 'auto' in 1.4. Set the value of `n_init` explicitly to suppress the warning\n",
      "  super()._check_params_vs_input(X, default_n_init=10)\n"
     ]
    },
    {
     "name": "stdout",
     "output_type": "stream",
     "text": [
      "0.2889882740587231\n"
     ]
    }
   ],
   "source": [
    "from sklearn.metrics import silhouette_score\n",
    "\n",
    "kmeans = KMeans(\n",
    "    n_clusters=4,\n",
    "    init=\"k-means++\",\n",
    "    random_state=42,\n",
    ")\n",
    "\n",
    "kmeans.fit(X_pca)\n",
    "centroids = kmeans.cluster_centers_\n",
    "labels = kmeans.labels_\n",
    "print(silhouette_score(X_pca, labels))"
   ]
  },
  {
   "cell_type": "code",
   "execution_count": 91,
   "metadata": {},
   "outputs": [
    {
     "data": {
      "text/plain": [
       "81389"
      ]
     },
     "execution_count": 91,
     "metadata": {},
     "output_type": "execute_result"
    }
   ],
   "source": [
    "len(labels)"
   ]
  },
  {
   "cell_type": "code",
   "execution_count": 93,
   "metadata": {},
   "outputs": [
    {
     "data": {
      "image/png": "[encoded data removed]",
      "text/plain": [
       "<Figure size 800x550 with 1 Axes>"
      ]
     },
     "metadata": {},
     "output_type": "display_data"
    }
   ],
   "source": [
    "pca = PCA(n_components=2)\n",
    "X_pca_2d = pca.fit_transform(X_pca)\n",
    "for label in set(labels):\n",
    "    plt.scatter(X_pca_2d[labels == label, 0], X_pca_2d[labels == label, 1], label=f'Cluster {label}', alpha=0.5)\n",
    "plt.scatter(centroids[:, 0], centroids[:, 1], c='yellow', marker='x', s=200, label='Centroids')\n",
    "plt.xlabel('PCA Component 1')\n",
    "plt.ylabel('PCA Component 2')\n",
    "plt.title('2D Visualization of Data after PCA')\n",
    "plt.legend()\n",
    "plt.show()"
   ]
  },
  {
   "cell_type": "code",
   "execution_count": 97,
   "metadata": {},
   "outputs": [
    {
     "data": {
      "image/png": "[encoded data removed]",
      "text/plain": [
       "<Figure size 1000x800 with 1 Axes>"
      ]
     },
     "metadata": {},
     "output_type": "display_data"
    }
   ],
   "source": [
    "fig = plt.figure(figsize=(10, 8))\n",
    "ax = fig.add_subplot(111, projection='3d')\n",
    "for label in set(labels):\n",
    "    ax.scatter(X_pca[labels == label, 0], X_pca[labels == label, 1], X_pca[labels == label, 2], label=label)\n",
    "ax.scatter(centroids[:, 0], centroids[:, 1], centroids[:, 2], c='black', marker='x', s=200, label='Centroids')\n",
    "ax.set_xlabel('PCA Component 1')\n",
    "ax.set_ylabel('PCA Component 2')\n",
    "ax.set_zlabel('PCA Component 3')\n",
    "plt.title('3D Visualization of Data after PCA')\n",
    "plt.legend()\n",
    "plt.show()\n"
   ]
  },
  {
   "cell_type": "markdown",
   "metadata": {},
   "source": [
    "Grid search on eps and min_samples can help us to find the best parameters for DBSCAN."
   ]
  },
  {
   "cell_type": "code",
   "execution_count": 98,
   "metadata": {},
   "outputs": [
    {
     "name": "stdout",
     "output_type": "stream",
     "text": [
      "eps: 0.4, min_samples: 4, Silhouette Score: 0.310\n",
      "eps: 0.4, min_samples: 5, Silhouette Score: 0.249\n",
      "eps: 0.4, min_samples: 6, Silhouette Score: 0.359\n",
      "eps: 0.4, min_samples: 7, Silhouette Score: 0.327\n",
      "eps: 0.4, min_samples: 8, Silhouette Score: 0.406\n",
      "eps: 0.4, min_samples: 9, Silhouette Score: 0.357\n",
      "eps: 0.4, min_samples: 10, Silhouette Score: 0.194\n",
      "eps: 0.5, min_samples: 4, Silhouette Score: 0.351\n",
      "eps: 0.5, min_samples: 5, Silhouette Score: 0.382\n",
      "eps: 0.5, min_samples: 6, Silhouette Score: 0.444\n",
      "eps: 0.5, min_samples: 7, Silhouette Score: 0.441\n",
      "eps: 0.5, min_samples: 8, Silhouette Score: 0.440\n",
      "eps: 0.5, min_samples: 9, Silhouette Score: 0.435\n",
      "eps: 0.5, min_samples: 10, Silhouette Score: 0.434\n",
      "eps: 0.6, min_samples: 4, Silhouette Score: 0.482\n",
      "eps: 0.6, min_samples: 5, Silhouette Score: 0.484\n",
      "eps: 0.6, min_samples: 6, Silhouette Score: 0.438\n",
      "eps: 0.6, min_samples: 7, Silhouette Score: 0.467\n",
      "eps: 0.6, min_samples: 8, Silhouette Score: 0.466\n",
      "eps: 0.6, min_samples: 9, Silhouette Score: 0.456\n",
      "eps: 0.6, min_samples: 10, Silhouette Score: 0.455\n",
      "eps: 0.7, min_samples: 4, Silhouette Score: 0.574\n",
      "eps: 0.7, min_samples: 5, Silhouette Score: 0.574\n",
      "eps: 0.7, min_samples: 6, Silhouette Score: 0.570\n",
      "eps: 0.7, min_samples: 7, Silhouette Score: 0.560\n",
      "eps: 0.7, min_samples: 8, Silhouette Score: 0.548\n",
      "eps: 0.7, min_samples: 9, Silhouette Score: 0.543\n",
      "eps: 0.7, min_samples: 10, Silhouette Score: 0.532\n",
      "eps: 0.7999999999999999, min_samples: 4, Silhouette Score: 0.603\n",
      "eps: 0.7999999999999999, min_samples: 5, Silhouette Score: 0.603\n",
      "eps: 0.7999999999999999, min_samples: 6, Silhouette Score: 0.582\n",
      "eps: 0.7999999999999999, min_samples: 7, Silhouette Score: 0.577\n",
      "eps: 0.7999999999999999, min_samples: 8, Silhouette Score: 0.574\n",
      "eps: 0.7999999999999999, min_samples: 9, Silhouette Score: 0.574\n",
      "eps: 0.7999999999999999, min_samples: 10, Silhouette Score: 0.569\n",
      "eps: 0.8999999999999999, min_samples: 4, Silhouette Score: 0.615\n",
      "eps: 0.8999999999999999, min_samples: 5, Silhouette Score: 0.615\n",
      "eps: 0.8999999999999999, min_samples: 6, Silhouette Score: 0.615\n",
      "eps: 0.8999999999999999, min_samples: 7, Silhouette Score: 0.615\n",
      "eps: 0.8999999999999999, min_samples: 8, Silhouette Score: 0.615\n",
      "eps: 0.8999999999999999, min_samples: 9, Silhouette Score: 0.615\n",
      "eps: 0.8999999999999999, min_samples: 10, Silhouette Score: 0.615\n",
      "Best params: eps=0.8999999999999999, min_samples=4, Silhouette Score=0.615\n"
     ]
    }
   ],
   "source": [
    "from sklearn.cluster import DBSCAN\n",
    "from sklearn.metrics import silhouette_score\n",
    "import numpy as np\n",
    "import matplotlib.pyplot as plt\n",
    "\n",
    "eps_values = np.arange(0.4, 1.0, 0.1)\n",
    "min_samples_values = range(4, 11)\n",
    "best_score = -1\n",
    "best_params = None\n",
    "best_labels = None\n",
    "for eps in eps_values:\n",
    "    for min_samples in min_samples_values:\n",
    "        dbscan = DBSCAN(eps=eps, min_samples=min_samples)\n",
    "        dbscan.fit(X_pca)\n",
    "        labels = dbscan.labels_\n",
    "        if len(set(labels)) > 1 and len(set(labels)) != 1 + (labels == -1).sum():\n",
    "            score = silhouette_score(X_pca, labels)\n",
    "            print(f\"eps: {eps}, min_samples: {min_samples}, Silhouette Score: {score:.3f}\")\n",
    "            if score > best_score:\n",
    "                best_score = score\n",
    "                best_params = (eps, min_samples)\n",
    "                best_labels = labels\n",
    "\n",
    "print(f\"Best params: eps={best_params[0]}, min_samples={best_params[1]}, Silhouette Score={best_score:.3f}\")"
   ]
  },
  {
   "cell_type": "code",
   "execution_count": 104,
   "metadata": {},
   "outputs": [
    {
     "data": {
      "image/png": "[encoded data removed]",
      "text/plain": [
       "<Figure size 800x600 with 1 Axes>"
      ]
     },
     "metadata": {},
     "output_type": "display_data"
    }
   ],
   "source": [
    "pca = PCA(n_components=2, random_state=42)\n",
    "X_pca_2d = pca.fit_transform(X_pca)\n",
    "plt.figure(figsize=(8, 6))\n",
    "for cluster in range(len(set(best_labels))):\n",
    "    plt.scatter(X_pca_2d[labels == cluster, 0], X_pca_2d[labels == cluster, 1], label=f'Cluster {cluster}')\n",
    "plt.title('DBSCAN Clustering with PCA')\n",
    "plt.xlabel('Principal Component 1')\n",
    "plt.ylabel('Principal Component 2')\n",
    "plt.legend()\n",
    "plt.show()\n"
   ]
  },
  {
   "cell_type": "code",
   "execution_count": 105,
   "metadata": {},
   "outputs": [
    {
     "data": {
      "image/png": "[encoded data removed]",
      "text/plain": [
       "<Figure size 1000x800 with 1 Axes>"
      ]
     },
     "metadata": {},
     "output_type": "display_data"
    }
   ],
   "source": [
    "fig = plt.figure(figsize=(10, 8))\n",
    "ax = fig.add_subplot(111, projection='3d')\n",
    "for cluster in range(len(set(best_labels))):\n",
    "    ax.scatter(X_pca[labels == cluster, 0], X_pca[labels == cluster, 1], X_pca[labels == cluster, 2], label=f'Cluster {cluster}')\n",
    "ax.set_title('K-means Clustering with PCA (3D)')\n",
    "ax.set_xlabel('Principal Component 1')\n",
    "ax.set_ylabel('Principal Component 2')\n",
    "ax.set_zlabel('Principal Component 3')\n",
    "ax.legend()\n",
    "plt.show()\n"
   ]
  },
  {
   "cell_type": "markdown",
   "metadata": {},
   "source": [
    "# Questions\n",
    "\n",
    "**1.What preprocessing steps did you perform on the dataset? Provide clear reasons for each decision made.**\n",
    "\n",
    "this question is answered above in preprocessing part.\n",
    "\n",
    "\n",
    "**2.What portion of the dataset did you retain during dimensionality reduction, and which variables were retained? Could you elaborate on the rationale behind this decision?**\n",
    "\n",
    "as shown above, after preprocessing, we had 43 columns and if we wanted to cover 90% of variance, we were supposed to have 32 or more dimentions after PCA but this could decrease our scores. so we chose 3 component to have a better clustering.\n",
    "\n",
    "**3.Include a plot illustrating the silhouette coefficient plotted against the input parameters for each clustering method within the report file.**\n",
    "\n",
    "this question is answered above in last part.\n",
    "\n",
    "**4.How can we determine the optimal number of clusters in K-Means?**\n",
    "- Elbow Method: The Elbow Method involves running K-Means clustering on the dataset for a range of values for k (number of clusters), and for each value of k, calculating the within-cluster sum of squares (WCSS), also known as the inertia. The idea is to choose the  k at which the WCSS begins to decrease at a slower rate, creating an \"elbow\" shape on the graph.\n",
    "\n",
    "- Silhouette Score: The Silhouette Score measures how similar a point is to its own cluster compared to other clusters. The score ranges from -1 to 1, where a higher value indicates better-defined clusters.\n",
    "\n",
    "- Gap Statistic: The Gap Statistic compares the total within intra-cluster variation for different numbers of clusters with their expected values under null reference distribution of the data.\n",
    "\n",
    "**5.How can we determine the optimal epsilon value and minPts in DBSCAN?**\n",
    "- Determining epsilon (ε) using the k-distance graph: The k-distance graph helps to identify a suitable epsilon value. This graph plots the distance to the k-th nearest neighbor for each point, sorted in ascending order. The \"elbow\" or knee in the graph indicates an appropriate choice for epsilon.\n",
    "- Determining minPts: A good heuristic for minPts is to set it to be at least D + 1, where D is the number of dimensions in the dataset. However, it often makes sense to try a few values (e.g., between 4 and 10) and compare results.\n",
    "- Grid Search: try different combinations of epsilon and minPts and evaluate their effectiveness.\n",
    "\n",
    "**6.When would you recommend using K-Means, and when would you suggest using DBSCAN instead?**\n",
    "- Use K-Means When:\n",
    "    - Clusters are spherical or convex.\n",
    "    - The number of clusters is known and predefined.\n",
    "    - Data is large, uniform, and has clusters of similar sizes.\n",
    "    - Outliers and noise are minimal or have been removed.\n",
    "\n",
    "- Use DBSCAN When:\n",
    "    - Clusters have arbitrary shapes.\n",
    "    - The number of clusters is unknown.\n",
    "    - Data has significant noise or outliers.\n",
    "    - Clusters vary in size and density.\n",
    "    - Working with spatial data.\n"
   ]
  }
 ],
 "metadata": {
  "kernelspec": {
   "display_name": "Python 3",
   "language": "python",
   "name": "python3"
  },
  "language_info": {
   "codemirror_mode": {
    "name": "ipython",
    "version": 3
   },
   "file_extension": ".py",
   "mimetype": "text/x-python",
   "name": "python",
   "nbconvert_exporter": "python",
   "pygments_lexer": "ipython3",
   "version": "3.11.4"
  }
 },
 "nbformat": 4,
 "nbformat_minor": 2
}
